{
  "nbformat": 4,
  "nbformat_minor": 0,
  "metadata": {
    "colab": {
      "provenance": [],
      "include_colab_link": true
    },
    "kernelspec": {
      "name": "python3",
      "display_name": "Python 3"
    },
    "language_info": {
      "name": "python"
    }
  },
  "cells": [
    {
      "cell_type": "markdown",
      "metadata": {
        "id": "view-in-github",
        "colab_type": "text"
      },
      "source": [
        "<a href=\"https://colab.research.google.com/github/Pumafi/problem_solving_rl_pumafi/blob/main/grid_encoding.ipynb\" target=\"_parent\"><img src=\"https://colab.research.google.com/assets/colab-badge.svg\" alt=\"Open In Colab\"/></a>"
      ]
    },
    {
      "cell_type": "code",
      "execution_count": 21,
      "metadata": {
        "colab": {
          "base_uri": "https://localhost:8080/"
        },
        "id": "XLBEvBpgYjNo",
        "outputId": "e348cab5-592b-46be-e563-bcb9ab55dc08"
      },
      "outputs": [
        {
          "output_type": "stream",
          "name": "stdout",
          "text": [
            "/content\n",
            "Cloning into 'problem_solving_rl_pumafi'...\n",
            "remote: Enumerating objects: 23, done.\u001b[K\n",
            "remote: Counting objects: 100% (23/23), done.\u001b[K\n",
            "remote: Compressing objects: 100% (21/21), done.\u001b[K\n",
            "remote: Total 23 (delta 3), reused 0 (delta 0), pack-reused 0 (from 0)\u001b[K\n",
            "Receiving objects: 100% (23/23), 17.98 MiB | 12.88 MiB/s, done.\n",
            "Resolving deltas: 100% (3/3), done.\n",
            "/content/problem_solving_rl_pumafi\n"
          ]
        }
      ],
      "source": [
        "RUNNING_IN_COLAB = True\n",
        "\n",
        "%cd /content\n",
        "\n",
        "if RUNNING_IN_COLAB:\n",
        "    REPO_URL = 'https://github.com/Pumafi/problem_solving_rl_pumafi'\n",
        "    BRANCH   = 'main'\n",
        "    REPO_DIR = 'problem_solving_rl_pumafi'\n",
        "\n",
        "    from pathlib import Path\n",
        "\n",
        "    if Path(REPO_DIR).is_dir():\n",
        "      !rm -rf {REPO_DIR}\n",
        "\n",
        "    # Download the repository\n",
        "    if not Path(REPO_DIR).is_dir():\n",
        "        !git clone --branch {BRANCH} --depth=1 -- {REPO_URL} {REPO_DIR}\n",
        "\n",
        "    %cd {REPO_DIR}"
      ]
    },
    {
      "cell_type": "code",
      "source": [
        "from tensorflow import keras\n",
        "import pandas as pd\n",
        "import numpy as np\n",
        "\n",
        "import random\n",
        "import math\n",
        "from tqdm.notebook import trange, tqdm\n",
        "\n",
        "import matplotlib.pyplot as plt\n",
        "from matplotlib import colors\n",
        "\n",
        "\n",
        "from scipy.stats import kde\n",
        "from sklearn.metrics.pairwise import euclidean_distances\n",
        "\n",
        "import tensorflow as tf\n",
        "from keras.utils import to_categorical\n",
        "from tensorflow.keras import layers, losses\n",
        "from tensorflow.keras import regularizers\n",
        "from tensorflow.keras.models import Model"
      ],
      "metadata": {
        "id": "wuqLpqehYmQ2"
      },
      "execution_count": 22,
      "outputs": []
    },
    {
      "cell_type": "code",
      "source": [],
      "metadata": {
        "id": "LvOiHKzWiOfe"
      },
      "execution_count": 22,
      "outputs": []
    },
    {
      "cell_type": "code",
      "source": [
        "# Load code from the repo\n",
        "from utils.data_handling import get_color_map, pad_to_shape, preprocess_challenge_data\n",
        "from utils.preprocess_metalearning_data import filter_and_split_inputs\n",
        "from models.autoencoder import AutoEncoder"
      ],
      "metadata": {
        "id": "XnQHErZ4YmUO"
      },
      "execution_count": 23,
      "outputs": []
    },
    {
      "cell_type": "code",
      "source": [
        "import json\n",
        "\n",
        "def load_json(file_path):\n",
        "    with open(file_path, 'r') as f:\n",
        "        return json.load(f)\n",
        "\n",
        "training_challenges = load_json('./data/arc-agi_training_challenges.json')\n",
        "training_solutions = load_json('./data/arc-agi_training_solutions.json')\n",
        "evaluation_challenges = load_json('./data/arc-agi_evaluation_challenges.json')\n",
        "\n",
        "print(\"Data loaded successfully.\")\n",
        "print(f\"Training tasks: {len(training_challenges)}\")\n",
        "print(f\"Evaluation tasks: {len(evaluation_challenges)}\")"
      ],
      "metadata": {
        "colab": {
          "base_uri": "https://localhost:8080/"
        },
        "id": "Krvii9ISYmXN",
        "outputId": "629316cf-3b9f-4698-ad28-c23d979d9ba0"
      },
      "execution_count": 24,
      "outputs": [
        {
          "output_type": "stream",
          "name": "stdout",
          "text": [
            "Data loaded successfully.\n",
            "Training tasks: 400\n",
            "Evaluation tasks: 400\n"
          ]
        }
      ]
    },
    {
      "cell_type": "code",
      "source": [
        "# all inputs for meta learning, then the training data for latter\n",
        "challenge_propositioner_inputs, _, _, _, _ = preprocess_challenge_data(training_challenges, training_solutions)\n",
        "print(len(challenge_propositioner_inputs))"
      ],
      "metadata": {
        "colab": {
          "base_uri": "https://localhost:8080/"
        },
        "id": "BoDrfYxudPi0",
        "outputId": "393dd4e9-0b79-4d32-ec60-9316a901e21b"
      },
      "execution_count": 25,
      "outputs": [
        {
          "output_type": "stream",
          "name": "stdout",
          "text": [
            "400\n"
          ]
        }
      ]
    },
    {
      "cell_type": "code",
      "source": [
        "# In order of access we have:\n",
        "#     challenge_propositioner_inputs [problem_nb (list)] [example_nb (list)] [0/1 - input/output (tuple)] -> [30, 30, 10] (ndarray)\n",
        "\n",
        "# Visualize the size of examples sets (NB: All have at least 2 examples, but 2 is to few for my idea)\n",
        "for i in range(5):\n",
        "  print(\"Problem nb \", i +1, \" | nb examples: \", len(challenge_propositioner_inputs[i]))\n",
        "\n",
        "print(\"\\nSize of one grid: \", challenge_propositioner_inputs[0][0][0].shape)"
      ],
      "metadata": {
        "colab": {
          "base_uri": "https://localhost:8080/"
        },
        "id": "Cv3v5iekYs4N",
        "outputId": "362099e5-2d23-42f0-8527-4e3c0bc0a7e3"
      },
      "execution_count": 26,
      "outputs": [
        {
          "output_type": "stream",
          "name": "stdout",
          "text": [
            "Problem nb  1  | nb examples:  5\n",
            "Problem nb  2  | nb examples:  5\n",
            "Problem nb  3  | nb examples:  3\n",
            "Problem nb  4  | nb examples:  2\n",
            "Problem nb  5  | nb examples:  3\n",
            "\n",
            "Size of one grid:  (30, 30, 10)\n"
          ]
        }
      ]
    },
    {
      "cell_type": "code",
      "source": [
        "flattened_challenges = [\n",
        "    x\n",
        "    for xss in challenge_propositioner_inputs\n",
        "    for xs in xss\n",
        "    for x in xs\n",
        "]\n",
        "\n",
        "flattened_challenges = np.array(flattened_challenges)\n",
        "\n",
        "print(flattened_challenges.shape)"
      ],
      "metadata": {
        "colab": {
          "base_uri": "https://localhost:8080/"
        },
        "id": "q2jDTzmcdYv0",
        "outputId": "3d4fc602-7a1a-4873-e71f-0c4faef702be"
      },
      "execution_count": 27,
      "outputs": [
        {
          "output_type": "stream",
          "name": "stdout",
          "text": [
            "(2604, 30, 30, 10)\n"
          ]
        }
      ]
    },
    {
      "cell_type": "code",
      "source": [
        "cmap, norm = get_color_map(number_of_categories=9)\n",
        "\n",
        "plt.subplot(1, 2, 1)\n",
        "plt.title('input')\n",
        "plt.imshow(np.argmax(challenge_propositioner_inputs[0][0][0], axis=-1), interpolation='nearest', cmap=cmap, norm=norm)\n",
        "plt.axis('off')\n",
        "plt.subplot(1, 2, 2)\n",
        "plt.title('output')\n",
        "plt.imshow(np.argmax(challenge_propositioner_inputs[0][0][1], axis=-1), interpolation='nearest', cmap=cmap, norm=norm)\n",
        "plt.axis('off')\n",
        "plt.show()"
      ],
      "metadata": {
        "colab": {
          "base_uri": "https://localhost:8080/",
          "height": 284
        },
        "id": "_tkp6Um0aUm1",
        "outputId": "897156ac-e900-4d52-a2aa-a9afaf82c960"
      },
      "execution_count": 28,
      "outputs": [
        {
          "output_type": "display_data",
          "data": {
            "text/plain": [
              "<Figure size 640x480 with 2 Axes>"
            ],
            "image/png": "[encoded data removed]"
          },
          "metadata": {}
        }
      ]
    },
    {
      "cell_type": "code",
      "source": [
        "#NB: for this and place cell, get inspiration from GANs, variational distance for Kozachenko-Leonenko, as well as initializing the ccenter of massesf\n",
        "\n",
        "autoencoder = AutoEncoder()\n",
        "autoencoder.compile(optimizer=keras.optimizers.Adam(learning_rate=5e-4), loss=losses.CategoricalCrossentropy())\n",
        "autoencoder.build([None, flattened_challenges.shape[1], flattened_challenges.shape[2], 10])\n"
      ],
      "metadata": {
        "colab": {
          "base_uri": "https://localhost:8080/"
        },
        "id": "4BmHW-rTctV3",
        "outputId": "ee24295b-fbec-45f3-f892-eeb12b58714a"
      },
      "execution_count": 29,
      "outputs": [
        {
          "output_type": "stream",
          "name": "stderr",
          "text": [
            "/usr/local/lib/python3.11/dist-packages/keras/src/layers/layer.py:393: UserWarning: `build()` was called on layer 'auto_encoder_1', however the layer does not have a `build()` method implemented and it looks like it has unbuilt state. This will cause the layer to be marked as built, despite not being actually built, which may cause failures down the line. Make sure to implement a proper `build()` method.\n",
            "  warnings.warn(\n"
          ]
        }
      ]
    },
    {
      "cell_type": "code",
      "source": [
        "encoded_imgs = autoencoder.encoder(flattened_challenges[:2]).numpy()\n",
        "decoded_imgs = autoencoder.decoder(encoded_imgs[:2]).numpy()"
      ],
      "metadata": {
        "id": "g-DXsr58dphx"
      },
      "execution_count": 30,
      "outputs": []
    },
    {
      "cell_type": "code",
      "source": [
        "autoencoder.encoder.load_weights(\"weights/weigts-encoder.weights.h5\")\n",
        "autoencoder.decoder.load_weights(\"weights/weigts-decoder.weights.h5\")"
      ],
      "metadata": {
        "id": "k8vo9qQxdiO8"
      },
      "execution_count": 31,
      "outputs": []
    },
    {
      "cell_type": "code",
      "source": [
        "encoded_imgs = autoencoder.encoder(flattened_challenges[:11]).numpy()\n",
        "decoded_imgs = autoencoder.decoder(encoded_imgs[:11]).numpy()"
      ],
      "metadata": {
        "id": "40VnVUFEdxQk"
      },
      "execution_count": 32,
      "outputs": []
    },
    {
      "cell_type": "code",
      "source": [
        "n = 10\n",
        "plt.figure(figsize=(20, 4))\n",
        "for i in range(n):\n",
        "  # display original\n",
        "  ax = plt.subplot(2, n, i + 1)\n",
        "  plt.imshow(np.argmax(flattened_challenges[i], axis=-1), interpolation='nearest', cmap=cmap, norm=norm)\n",
        "  plt.title(\"original\")\n",
        "  #plt.gray()\n",
        "  ax.get_xaxis().set_visible(False)\n",
        "  ax.get_yaxis().set_visible(False)\n",
        "\n",
        "  # display reconstruction\n",
        "  ax = plt.subplot(2, n, i + 1 + n)\n",
        "  plt.imshow(np.argmax(decoded_imgs[i], axis=-1), interpolation='nearest', cmap=cmap, norm=norm)\n",
        "  plt.title(\"reconstructed\")\n",
        "  #plt.gray()\n",
        "  ax.get_xaxis().set_visible(False)\n",
        "  ax.get_yaxis().set_visible(False)\n",
        "plt.show()"
      ],
      "metadata": {
        "colab": {
          "base_uri": "https://localhost:8080/",
          "height": 358
        },
        "id": "FIV0tmBEc_H0",
        "outputId": "bec2d5bf-b0f7-423e-d3cc-18883cd7be96"
      },
      "execution_count": 33,
      "outputs": [
        {
          "output_type": "display_data",
          "data": {
            "text/plain": [
              "<Figure size 2000x400 with 20 Axes>"
            ],
            "image/png": "[encoded data removed]"
          },
          "metadata": {}
        }
      ]
    },
    {
      "cell_type": "markdown",
      "source": [
        "## Move Enconding"
      ],
      "metadata": {
        "id": "jQAcLvAnsU9f"
      }
    },
    {
      "cell_type": "code",
      "source": [
        "def generate_random_move(batch_size):\n",
        "    position_x = np.random.randint(0, 30, (batch_size, 1))\n",
        "    position_y = np.random.randint(0, 30, (batch_size, 1))\n",
        "    n_values = 30\n",
        "    position_x = np.squeeze(np.eye(n_values)[position_x])\n",
        "\n",
        "    n_values = 30\n",
        "    position_y = np.squeeze(np.eye(n_values)[position_y])\n",
        "\n",
        "    move = np.random.randint(0, 10, (batch_size, 1))\n",
        "    n_values = 10\n",
        "    move = np.squeeze(np.eye(n_values)[move])\n",
        "    return move, position_x, position_y"
      ],
      "metadata": {
        "id": "RmLjSVGpsaSe"
      },
      "execution_count": 34,
      "outputs": []
    },
    {
      "cell_type": "code",
      "source": [
        "batch_size = 5\n",
        "\n",
        "move, position_x, position_y = generate_random_move(batch_size)\n",
        "\n",
        "print(position_x.shape, move.shape)"
      ],
      "metadata": {
        "colab": {
          "base_uri": "https://localhost:8080/"
        },
        "id": "i8idc2woeMYu",
        "outputId": "7f5c0988-b431-43bf-e667-0d286eaddf76"
      },
      "execution_count": 35,
      "outputs": [
        {
          "output_type": "stream",
          "name": "stdout",
          "text": [
            "(5, 30) (5, 10)\n"
          ]
        }
      ]
    },
    {
      "cell_type": "code",
      "source": [
        "import tensorflow as tf\n",
        "\n",
        "# Do a wrapper and apply using a mapping\n",
        "\n",
        "def apply_move(grid, move, position_x, position_y):\n",
        "    position_x = tf.argmax(position_x, axis=-1)\n",
        "    position_y = tf.argmax(position_y, axis=-1)\n",
        "    grid_modified = tf.identity(grid)\n",
        "    print(grid.dtype, grid_modified.dtype, move.dtype)\n",
        "    move = tf.cast(move, tf.float32)\n",
        "    move = tf.cast(grid_modified, tf.float32)\n",
        "    print(move.shape, grid_modified.shape)\n",
        "    grid_modified = tf.tensor_scatter_nd_update(grid_modified, [position_x, position_y], move)\n",
        "    return grid_modified, move, position_x, position_y\n",
        "\n",
        "def apply_move_wrapper(grid, move, position_x, position_y):\n",
        "    #grid_modified,_, _, _ =\n",
        "    tf.map_fn(lambda x: apply_move(x[0], x[1], x[2], x[3]), (grid, move, position_x, position_y))\n",
        "    return None #grid_modified"
      ],
      "metadata": {
        "id": "-EZ5UaCMgCzH"
      },
      "execution_count": 36,
      "outputs": []
    },
    {
      "cell_type": "code",
      "source": [
        "import tensorflow as tf\n",
        "\n",
        "# Function to apply move on a single instance\n",
        "def apply_move(grid, move, position_x, position_y):\n",
        "    position_x = tf.argmax(position_x, axis=-1)\n",
        "    position_y = tf.argmax(position_y, axis=-1)\n",
        "\n",
        "    grid_modified = tf.identity(grid)\n",
        "\n",
        "    move = tf.cast(move, tf.float32)\n",
        "    grid_modified = tf.cast(grid_modified, tf.float32)\n",
        "\n",
        "\n",
        "    # Ensure indices are correctly shaped\n",
        "    indices = tf.stack([[position_x, position_y]], axis=0)  # Shape (1, 2)\n",
        "\n",
        "    # Apply the move\n",
        "    grid_modified = tf.tensor_scatter_nd_update(grid_modified, indices, [move])\n",
        "\n",
        "    return grid_modified, move, position_x, position_y\n",
        "\n",
        "# Wrapper function for batch processing\n",
        "def apply_move_wrapper(grid, move, position_x, position_y):\n",
        "    grid_modified = tf.map_fn(lambda x: apply_move(x[0], x[1], x[2], x[3])[0],\n",
        "                              (grid, move, position_x, position_y), dtype=tf.float32)\n",
        "    return grid_modified\n"
      ],
      "metadata": {
        "id": "_5z4gUVoO3zl"
      },
      "execution_count": 37,
      "outputs": []
    },
    {
      "cell_type": "code",
      "source": [
        "grid_modified = apply_move_wrapper(flattened_challenges[:batch_size], move, position_x, position_y)"
      ],
      "metadata": {
        "id": "WAd28VJvgzGu"
      },
      "execution_count": 38,
      "outputs": []
    },
    {
      "cell_type": "code",
      "source": [
        "print(position_x.shape, move.shape)"
      ],
      "metadata": {
        "colab": {
          "base_uri": "https://localhost:8080/"
        },
        "id": "w2TROocnktco",
        "outputId": "4f0e653d-44c5-464b-d68b-e05d058de696"
      },
      "execution_count": 39,
      "outputs": [
        {
          "output_type": "stream",
          "name": "stdout",
          "text": [
            "(5, 30) (5, 10)\n"
          ]
        }
      ]
    },
    {
      "cell_type": "code",
      "source": [
        "for i in range(5):\n",
        "    cmap, norm = get_color_map(number_of_categories=9)\n",
        "\n",
        "    plt.subplot(1, 2, 1)\n",
        "    plt.title('input')\n",
        "    plt.imshow(np.argmax(flattened_challenges[i], axis=-1), interpolation='nearest', cmap=cmap, norm=norm)\n",
        "    plt.axis('off')\n",
        "    plt.subplot(1, 2, 2)\n",
        "    plt.title('output')\n",
        "    plt.imshow(np.argmax(grid_modified[i], axis=-1), interpolation='nearest', cmap=cmap, norm=norm)\n",
        "    plt.axis('off')\n",
        "    plt.show()"
      ],
      "metadata": {
        "colab": {
          "base_uri": "https://localhost:8080/",
          "height": 1000
        },
        "id": "5fdxS-Y6h0aJ",
        "outputId": "9fee2df5-6599-4a24-8d62-df11011550de"
      },
      "execution_count": 40,
      "outputs": [
        {
          "output_type": "display_data",
          "data": {
            "text/plain": [
              "<Figure size 640x480 with 2 Axes>"
            ],
            "image/png": "[encoded data removed]"
          },
          "metadata": {}
        },
        {
          "output_type": "display_data",
          "data": {
            "text/plain": [
              "<Figure size 640x480 with 2 Axes>"
            ],
            "image/png": "[encoded data removed]"
          },
          "metadata": {}
        },
        {
          "output_type": "display_data",
          "data": {
            "text/plain": [
              "<Figure size 640x480 with 2 Axes>"
            ],
            "image/png": "[encoded data removed]"
          },
          "metadata": {}
        },
        {
          "output_type": "display_data",
          "data": {
            "text/plain": [
              "<Figure size 640x480 with 2 Axes>"
            ],
            "image/png": "[encoded data removed]"
          },
          "metadata": {}
        },
        {
          "output_type": "display_data",
          "data": {
            "text/plain": [
              "<Figure size 640x480 with 2 Axes>"
            ],
            "image/png": "[encoded data removed]"
          },
          "metadata": {}
        }
      ]
    },
    {
      "cell_type": "code",
      "source": [
        "class Conv2DLSTMCell(keras.Layer):\n",
        "    def __init__(self, kernel_size, filters, size=(15, 15), **kwargs):\n",
        "        super(Conv2DLSTMCell, self).__init__(**kwargs)\n",
        "        self.height=size[0]\n",
        "        self.width=size[1]\n",
        "        self.filters = filters\n",
        "        self.kernel_size = kernel_size\n",
        "        self.conv = layers.Conv2D(filters * 4, kernel_size, padding=\"same\", activation=None)\n",
        "        self.state_size = [tf.TensorShape([self.height, self.width, filters]), tf.TensorShape([self.height, self.width, filters])]\n",
        "        self.h_prev = None\n",
        "        self.c_prev = None\n",
        "\n",
        "    def initialize(self, inputs):\n",
        "        '''\n",
        "        Initialize the hidden cell states H\n",
        "        '''\n",
        "\n",
        "        batch_size, _, _, _ = inputs.shape\n",
        "\n",
        "        self.h_prev = tf.zeros([batch_size, self.height, self.width, self.filters])\n",
        "        self.c_prev = tf.zeros([batch_size, self.height, self.width, self.filters])\n",
        "\n",
        "    def build(self, input_shape):\n",
        "        self.batch_size, self.height, self.width, _ = input_shape\n",
        "        self.built = True\n",
        "\n",
        "    def call(self, inputs, t, training=None):\n",
        "        grid = inputs\n",
        "        if t == 0:\n",
        "            self.initialize(grid)\n",
        "\n",
        "        concat_inputs = tf.concat([grid, self.h_prev], axis=-1)\n",
        "        conv_output = self.conv(concat_inputs)\n",
        "\n",
        "        f, i, o, g = tf.split(conv_output, num_or_size_splits=4, axis=-1)\n",
        "        f = tf.sigmoid(f)\n",
        "        i = tf.sigmoid(i)\n",
        "        o = tf.sigmoid(o)\n",
        "        g = tf.tanh(g)\n",
        "\n",
        "        self.c_next = f * self.c_prev + i * g\n",
        "        outputs = o * tf.tanh(self.c_next)\n",
        "        self.h_next = outputs\n",
        "\n",
        "        return outputs"
      ],
      "metadata": {
        "id": "QawYuXpugGwV"
      },
      "execution_count": 114,
      "outputs": []
    },
    {
      "cell_type": "markdown",
      "source": [
        "## Grid Cell Machines"
      ],
      "metadata": {
        "id": "dymuutfyevQU"
      }
    },
    {
      "cell_type": "code",
      "source": [
        "import random\n",
        "\n",
        "latent_dim = 256\n",
        "\n",
        "class GridLikeEncoding(Model):\n",
        "    def __init__(self, encoder, batch_size=32):\n",
        "      super(GridLikeEncoding, self).__init__()\n",
        "\n",
        "      self.move_encoding = layers.Dense(32, activation=tf.keras.layers.LeakyReLU())\n",
        "      self.position_encoding = layers.Dense(32, activation=tf.keras.layers.LeakyReLU())\n",
        "      self.pos_move_concat = layers.Concatenate(axis=-1)\n",
        "      self.conv_encoding = layers.Conv2D(128, (3, 3), activation='swish', padding='same', strides=2)\n",
        "\n",
        "\n",
        "      self.conv = layers.Conv2D(32, (3, 3), activation='swish', padding='same', strides=2)\n",
        "      #self.flat = layers.Flatten()\n",
        "      self.visual_1 = layers.Dense(256, activation=tf.keras.layers.LeakyReLU())\n",
        "      self.visual_2 = layers.Dense(128, activation=tf.keras.layers.LeakyReLU())\n",
        "\n",
        "\n",
        "      self.input_concat = layers.Concatenate(axis=-1)\n",
        "      self.input_encoding = layers.Dense(256, activation=tf.keras.layers.LeakyReLU())\n",
        "\n",
        "      self.lstm = Conv2DLSTMCell((3,3), 256)\n",
        "\n",
        "      self.grid_encoder = layers.Dense(512, activation=tf.keras.layers.LeakyReLU())\n",
        "      self.grid_layer = layers.Dense(1024, activation='sigmoid')\n",
        "\n",
        "      self.encoder = encoder\n",
        "      self.encoder.trainable = False\n",
        "\n",
        "      self.nb_moves_train = 10\n",
        "      self.batch_size = batch_size\n",
        "\n",
        "      self.gridlike_encoder = tf.keras.Sequential([\n",
        "        layers.Input(shape=(15, 15, 1024,)),\n",
        "        layers.Dense(1024, activation=tf.keras.layers.LeakyReLU()),\n",
        "        layers.Dropout(0.1),\n",
        "        layers.Dense(1024, activation=tf.keras.layers.LeakyReLU()),\n",
        "        layers.Dense(512, activation=tf.keras.layers.LeakyReLU()),\n",
        "        layers.Dropout(0.1),\n",
        "        layers.Dense(512, activation=tf.keras.layers.LeakyReLU()),\n",
        "        layers.Dense(256, activation=tf.keras.layers.LeakyReLU()),\n",
        "        layers.Dropout(0.1),\n",
        "        layers.Dense(256, activation=tf.keras.layers.LeakyReLU()),\n",
        "        layers.Dense(latent_dim, activation=tf.keras.layers.LeakyReLU()),])\n",
        "\n",
        "\n",
        "    def compile(self, **kwargs):\n",
        "        super().compile(**kwargs)\n",
        "        self.loss_tracker = keras.metrics.Mean(name=\"loss\")\n",
        "\n",
        "    @property\n",
        "    def metrics(self):\n",
        "        return [self.loss_tracker,]\n",
        "\n",
        "    def call(self, inputs, t):\n",
        "        move_input, position_x, position_y, visual_input = inputs\n",
        "\n",
        "        move_encoded = self.move_encoding(move_input)\n",
        "        position_encoded_x = self.position_encoding(position_x)\n",
        "        position_encoded_y = self.position_encoding(position_y)\n",
        "        pos_move_encoded = self.pos_move_concat([move_encoded, position_encoded_x, position_encoded_y])\n",
        "        pos_move_encoded = self.conv_encoding(pos_move_encoded)\n",
        "\n",
        "        visual_encoded = self.conv(visual_input)\n",
        "        #visual_encoded = self.flat(visual_encoded)\n",
        "        visual_encoded = self.visual_1(visual_encoded)\n",
        "        visual_encoded = self.visual_2(visual_encoded)\n",
        "\n",
        "        combined_input = self.input_concat([pos_move_encoded, visual_encoded])\n",
        "        input_encoded = self.input_encoding(combined_input)\n",
        "\n",
        "        #input_encoded = tf.squeeze(input_encoded)\n",
        "\n",
        "        lstm_out = self.lstm.call(input_encoded, t=t)\n",
        "\n",
        "        grid_encoded = self.grid_encoder(lstm_out)\n",
        "        grid_out = self.grid_layer(grid_encoded)\n",
        "\n",
        "        latent_representation = self.gridlike_encoder(grid_out)\n",
        "\n",
        "        return latent_representation\n",
        "\n",
        "    def train_step(self, input_grids):\n",
        "\n",
        "        grid_modified = input_grids\n",
        "        moves = []\n",
        "        positions_x = []\n",
        "        positions_y = []\n",
        "        historic = [input_grids, ]\n",
        "\n",
        "        for i in range(self.nb_moves_train):\n",
        "            move, position_x, position_y = generate_random_move(self.batch_size)\n",
        "\n",
        "            grid_modified = apply_move_wrapper(grid_modified, move, position_x, position_y)\n",
        "            historic.append(grid_modified)\n",
        "\n",
        "            move = tf.expand_dims(tf.expand_dims(move, axis=1), axis=1)\n",
        "            move = tf.tile(move, [1, 30, 30, 1])\n",
        "\n",
        "            position_x = tf.expand_dims(tf.expand_dims(position_x, axis=1), axis=1)\n",
        "            position_x = tf.tile(position_x, [1, 30, 30, 1])\n",
        "\n",
        "            position_y = tf.expand_dims(tf.expand_dims(position_y, axis=1), axis=1)\n",
        "            position_y = tf.tile(position_y, [1, 30, 30, 1])\n",
        "\n",
        "            moves.append(move)\n",
        "            positions_x.append(position_x)\n",
        "            positions_y.append(position_y)\n",
        "\n",
        "\n",
        "\n",
        "        ground_truth_encoding = self.encoder(grid_modified)\n",
        "\n",
        "        #moves = np.array(moves)\n",
        "        #positions_x = np.array(positions_x)\n",
        "        #positions_y = np.array(positions_y)\n",
        "\n",
        "\n",
        "        y = input_grids\n",
        "        with tf.GradientTape() as tape:\n",
        "            for i in range(self.nb_moves_train):\n",
        "                visual = historic[i] if random.randint(0, 100) <= 10 else tf.zeros_like(historic[i])\n",
        "                y = self.call([moves[i], positions_x[i], positions_y[i], visual], i)\n",
        "            loss = self.loss(ground_truth_encoding, y)\n",
        "\n",
        "        gradients_model = tape.gradient(loss, self.trainable_weights)\n",
        "        self.optimizer.apply_gradients(zip(gradients_model, self.trainable_weights))\n",
        "\n",
        "        self.loss_tracker.update_state(loss)\n",
        "        return {m.name: m.result() for m in self.metrics}\n",
        "\n",
        "    def test_step(self, input_grids):\n",
        "\n",
        "        grid_modified = input_grids\n",
        "        moves = []\n",
        "        positions_x = []\n",
        "        positions_y = []\n",
        "        historic = [input_grids, ]\n",
        "\n",
        "        for i in range(self.nb_moves_train):\n",
        "            move, position_x, position_y = generate_random_move(self.batch_size)\n",
        "\n",
        "            grid_modified = apply_move_wrapper(grid_modified, move, position_x, position_y)\n",
        "            historic.append(grid_modified)\n",
        "\n",
        "            move = tf.expand_dims(tf.expand_dims(move, axis=1), axis=1)\n",
        "            move = tf.tile(move, [1, 30, 30, 1])\n",
        "\n",
        "            position_x = tf.expand_dims(tf.expand_dims(position_x, axis=1), axis=1)\n",
        "            position_x = tf.tile(position_x, [1, 30, 30, 1])\n",
        "\n",
        "            position_y = tf.expand_dims(tf.expand_dims(position_y, axis=1), axis=1)\n",
        "            position_y = tf.tile(position_y, [1, 30, 30, 1])\n",
        "\n",
        "            moves.append(move)\n",
        "            positions_x.append(position_x)\n",
        "            positions_y.append(position_y)\n",
        "\n",
        "        ground_truth_encoding = self.encoder(grid_modified)\n",
        "\n",
        "        #moves = np.array(moves)\n",
        "        #positions_x = np.array(positions_x)\n",
        "        #positions_y = np.array(positions_y)\n",
        "\n",
        "        y = input_grids\n",
        "        for i in range(self.nb_moves_train):\n",
        "\n",
        "            visual = historic[i] if random.randint(0, 100) <= 10 else tf.zeros_like(historic[i])\n",
        "\n",
        "            y = self.call([moves[i], positions_x[i], positions_y[i], visual], i)\n",
        "        loss = self.loss(ground_truth_encoding, y)\n",
        "\n",
        "        self.loss_tracker.update_state(loss)\n",
        "        return {m.name: m.result() for m in self.metrics}"
      ],
      "metadata": {
        "id": "GYSlZEgLd0cd"
      },
      "execution_count": 121,
      "outputs": []
    },
    {
      "cell_type": "code",
      "source": [
        "gridlike_model = GridLikeEncoding(autoencoder.encoder)"
      ],
      "metadata": {
        "id": "67LxcQELuXO1"
      },
      "execution_count": 122,
      "outputs": []
    },
    {
      "cell_type": "code",
      "source": [
        "gridlike_model.compile(optimizer=keras.optimizers.Adam(learning_rate=5e-4), loss=losses.MeanSquaredError())\n",
        "gridlike_model.build([None, flattened_challenges.shape[1], flattened_challenges.shape[2], 10])"
      ],
      "metadata": {
        "colab": {
          "base_uri": "https://localhost:8080/"
        },
        "id": "AVj5s2f1y9-O",
        "outputId": "3063d5e2-d508-47f8-ba43-9133bdae845d"
      },
      "execution_count": 123,
      "outputs": [
        {
          "output_type": "stream",
          "name": "stderr",
          "text": [
            "/usr/local/lib/python3.11/dist-packages/keras/src/layers/layer.py:393: UserWarning: `build()` was called on layer 'grid_like_encoding_18', however the layer does not have a `build()` method implemented and it looks like it has unbuilt state. This will cause the layer to be marked as built, despite not being actually built, which may cause failures down the line. Make sure to implement a proper `build()` method.\n",
            "  warnings.warn(\n"
          ]
        }
      ]
    },
    {
      "cell_type": "code",
      "source": [
        "batch_size = 5\n",
        "move, position_x, position_y = generate_random_move(batch_size)\n",
        "move = tf.expand_dims(tf.expand_dims(move, axis=1), axis=1)\n",
        "move = tf.tile(move, [1, 30, 30, 1])\n",
        "\n",
        "position_x = tf.expand_dims(tf.expand_dims(position_x, axis=1), axis=1)\n",
        "position_x = tf.tile(position_x, [1, 30, 30, 1])\n",
        "\n",
        "position_y = tf.expand_dims(tf.expand_dims(position_y, axis=1), axis=1)\n",
        "position_y = tf.tile(position_y, [1, 30, 30, 1])\n",
        "\n",
        "gridlike_model.call([move, position_x, position_y, flattened_challenges[:batch_size]], t=0)"
      ],
      "metadata": {
        "colab": {
          "base_uri": "https://localhost:8080/"
        },
        "id": "3iedKzoVzhxM",
        "outputId": "802ec358-8672-488e-8252-9b56b227dda1"
      },
      "execution_count": 124,
      "outputs": [
        {
          "output_type": "execute_result",
          "data": {
            "text/plain": [
              "<tf.Tensor: shape=(5, 15, 15, 256), dtype=float32, numpy=\n",
              "array([[[[-0.04283212, -0.01081189, -0.03969019, ..., -0.04260932,\n",
              "           0.19896235, -0.0424533 ],\n",
              "         [-0.04281552, -0.01082107, -0.03972048, ..., -0.04260929,\n",
              "           0.19894482, -0.04245869],\n",
              "         [-0.04281828, -0.01082947, -0.03970811, ..., -0.04258808,\n",
              "           0.19896837, -0.04244843],\n",
              "         ...,\n",
              "         [-0.042812  , -0.01082159, -0.03971703, ..., -0.04258908,\n",
              "           0.19896354, -0.04244629],\n",
              "         [-0.04280949, -0.01079682, -0.03971333, ..., -0.04259063,\n",
              "           0.19894727, -0.04245252],\n",
              "         [-0.04281467, -0.01079341, -0.03969976, ..., -0.04258877,\n",
              "           0.19882683, -0.0424311 ]],\n",
              "\n",
              "        [[-0.0427833 , -0.01077433, -0.03972922, ..., -0.04256744,\n",
              "           0.19906244, -0.04241876],\n",
              "         [-0.04279763, -0.01079462, -0.03977674, ..., -0.04255088,\n",
              "           0.19909512, -0.04239321],\n",
              "         [-0.04279914, -0.01080918, -0.03976804, ..., -0.04255151,\n",
              "           0.19906661, -0.04238156],\n",
              "         ...,\n",
              "         [-0.04278823, -0.0108015 , -0.03977177, ..., -0.0425542 ,\n",
              "           0.1990571 , -0.04238687],\n",
              "         [-0.04278697, -0.01078022, -0.03975813, ..., -0.04255044,\n",
              "           0.19903824, -0.04240341],\n",
              "         [-0.04279088, -0.01077047, -0.03972111, ..., -0.0425645 ,\n",
              "           0.19886066, -0.04240976]],\n",
              "\n",
              "        [[-0.04276527, -0.01079825, -0.03975497, ..., -0.04257964,\n",
              "           0.19916874, -0.04242228],\n",
              "         [-0.04279007, -0.01079602, -0.03977446, ..., -0.04255192,\n",
              "           0.19903961, -0.04238953],\n",
              "         [-0.04279093, -0.01080258, -0.03977116, ..., -0.04255297,\n",
              "           0.19905137, -0.04238734],\n",
              "         ...,\n",
              "         [-0.04278823, -0.0108015 , -0.03977177, ..., -0.0425542 ,\n",
              "           0.1990571 , -0.04238687],\n",
              "         [-0.04278697, -0.01078022, -0.03975813, ..., -0.04255044,\n",
              "           0.19903824, -0.04240341],\n",
              "         [-0.04279088, -0.01077047, -0.03972111, ..., -0.0425645 ,\n",
              "           0.19886066, -0.04240976]],\n",
              "\n",
              "        ...,\n",
              "\n",
              "        [[-0.04277841, -0.01080178, -0.03975322, ..., -0.042573  ,\n",
              "           0.19913132, -0.04241737],\n",
              "         [-0.04278822, -0.01080146, -0.03977176, ..., -0.04255422,\n",
              "           0.19905712, -0.04238694],\n",
              "         [-0.04278822, -0.01080146, -0.03977176, ..., -0.04255422,\n",
              "           0.19905712, -0.04238694],\n",
              "         ...,\n",
              "         [-0.04278823, -0.0108015 , -0.03977177, ..., -0.0425542 ,\n",
              "           0.1990571 , -0.04238687],\n",
              "         [-0.04278697, -0.01078022, -0.03975813, ..., -0.04255044,\n",
              "           0.19903824, -0.04240341],\n",
              "         [-0.04279088, -0.01077047, -0.03972111, ..., -0.0425645 ,\n",
              "           0.19886066, -0.04240976]],\n",
              "\n",
              "        [[-0.04278521, -0.01078129, -0.03975464, ..., -0.04258785,\n",
              "           0.19911343, -0.04242399],\n",
              "         [-0.04279122, -0.01077657, -0.03978431, ..., -0.04258016,\n",
              "           0.19906233, -0.04239989],\n",
              "         [-0.04279122, -0.01077657, -0.03978431, ..., -0.04258016,\n",
              "           0.19906233, -0.04239989],\n",
              "         ...,\n",
              "         [-0.04279128, -0.01077657, -0.03978433, ..., -0.04258012,\n",
              "           0.1990622 , -0.04239985],\n",
              "         [-0.04280061, -0.01076932, -0.03976289, ..., -0.04257748,\n",
              "           0.19901502, -0.04240815],\n",
              "         [-0.04279051, -0.01075508, -0.03973554, ..., -0.04259114,\n",
              "           0.19888914, -0.04241452]],\n",
              "\n",
              "        [[-0.04277271, -0.01075639, -0.03973604, ..., -0.04262155,\n",
              "           0.19899973, -0.04241275],\n",
              "         [-0.04279524, -0.01075431, -0.03973722, ..., -0.04259969,\n",
              "           0.1989685 , -0.04237911],\n",
              "         [-0.04279524, -0.01075431, -0.03973722, ..., -0.04259969,\n",
              "           0.1989685 , -0.04237911],\n",
              "         ...,\n",
              "         [-0.04279523, -0.01075431, -0.03973722, ..., -0.04259969,\n",
              "           0.19896853, -0.04237911],\n",
              "         [-0.04279666, -0.01075876, -0.03973142, ..., -0.04260031,\n",
              "           0.19894892, -0.04239378],\n",
              "         [-0.04280369, -0.01075771, -0.0397101 , ..., -0.04260042,\n",
              "           0.19885443, -0.0424153 ]]],\n",
              "\n",
              "\n",
              "       [[[-0.04284522, -0.0107759 , -0.03968404, ..., -0.04261648,\n",
              "           0.19884102, -0.04248857],\n",
              "         [-0.04284307, -0.01077917, -0.03966969, ..., -0.04259968,\n",
              "           0.19864792, -0.04245488],\n",
              "         [-0.04287146, -0.01076635, -0.03967344, ..., -0.04262404,\n",
              "           0.19871655, -0.04247517],\n",
              "         ...,\n",
              "         [-0.04285398, -0.01078275, -0.03965722, ..., -0.04259998,\n",
              "           0.19865508, -0.04246662],\n",
              "         [-0.04286671, -0.01078309, -0.03966043, ..., -0.04261193,\n",
              "           0.19874382, -0.0424631 ],\n",
              "         [-0.04284479, -0.01078298, -0.03968761, ..., -0.04260595,\n",
              "           0.1987053 , -0.04243902]],\n",
              "\n",
              "        [[-0.04282611, -0.01074991, -0.03965679, ..., -0.04260634,\n",
              "           0.19889022, -0.04251291],\n",
              "         [-0.04285704, -0.01072379, -0.03960971, ..., -0.04255931,\n",
              "           0.19869372, -0.04245739],\n",
              "         [-0.04280917, -0.01073832, -0.03968668, ..., -0.04256432,\n",
              "           0.19891097, -0.04245912],\n",
              "         ...,\n",
              "         [-0.04283946, -0.01075657, -0.03966461, ..., -0.042558  ,\n",
              "           0.19879904, -0.04245223],\n",
              "         [-0.04284421, -0.01076406, -0.03968487, ..., -0.04257205,\n",
              "           0.19897197, -0.04245638],\n",
              "         [-0.04282682, -0.01075418, -0.03969669, ..., -0.04259196,\n",
              "           0.19885506, -0.04242561]],\n",
              "\n",
              "        [[-0.04282029, -0.01074186, -0.03965249, ..., -0.04257939,\n",
              "           0.19894339, -0.04249002],\n",
              "         [-0.04282637, -0.01073305, -0.03963843, ..., -0.04254613,\n",
              "           0.19872421, -0.04244953],\n",
              "         [-0.04284544, -0.0107346 , -0.03968238, ..., -0.04256298,\n",
              "           0.19888128, -0.04242489],\n",
              "         ...,\n",
              "         [-0.04283946, -0.01075657, -0.03966461, ..., -0.042558  ,\n",
              "           0.19879904, -0.04245223],\n",
              "         [-0.04284421, -0.01076406, -0.03968487, ..., -0.04257205,\n",
              "           0.19897197, -0.04245638],\n",
              "         [-0.04282682, -0.01075418, -0.03969669, ..., -0.04259196,\n",
              "           0.19885506, -0.04242561]],\n",
              "\n",
              "        ...,\n",
              "\n",
              "        [[-0.04283025, -0.01077421, -0.03967766, ..., -0.04258972,\n",
              "           0.1989586 , -0.04248851],\n",
              "         [-0.04283949, -0.01075657, -0.03966464, ..., -0.04255807,\n",
              "           0.19879915, -0.04245222],\n",
              "         [-0.04283949, -0.01075657, -0.03966464, ..., -0.04255807,\n",
              "           0.19879915, -0.04245222],\n",
              "         ...,\n",
              "         [-0.04283946, -0.01075657, -0.03966461, ..., -0.042558  ,\n",
              "           0.19879904, -0.04245223],\n",
              "         [-0.04284421, -0.01076406, -0.03968487, ..., -0.04257205,\n",
              "           0.19897197, -0.04245638],\n",
              "         [-0.04282682, -0.01075418, -0.03969669, ..., -0.04259196,\n",
              "           0.19885506, -0.04242561]],\n",
              "\n",
              "        [[-0.0428398 , -0.01077271, -0.03969198, ..., -0.04258166,\n",
              "           0.19888008, -0.04248684],\n",
              "         [-0.04284815, -0.01077376, -0.03969415, ..., -0.04254922,\n",
              "           0.1988081 , -0.04244917],\n",
              "         [-0.04284815, -0.01077376, -0.03969415, ..., -0.04254922,\n",
              "           0.1988081 , -0.04244917],\n",
              "         ...,\n",
              "         [-0.04284813, -0.01077378, -0.03969415, ..., -0.0425492 ,\n",
              "           0.19880798, -0.04244912],\n",
              "         [-0.0428516 , -0.0107916 , -0.03971655, ..., -0.042558  ,\n",
              "           0.19896093, -0.04244231],\n",
              "         [-0.0428378 , -0.0107714 , -0.03972755, ..., -0.04258958,\n",
              "           0.19893166, -0.04241774]],\n",
              "\n",
              "        [[-0.04280552, -0.01077629, -0.03970463, ..., -0.04262338,\n",
              "           0.19893439, -0.042478  ],\n",
              "         [-0.0428039 , -0.01076872, -0.03970378, ..., -0.04258477,\n",
              "           0.19894576, -0.04245004],\n",
              "         [-0.0428039 , -0.01076872, -0.03970378, ..., -0.04258477,\n",
              "           0.19894576, -0.04245004],\n",
              "         ...,\n",
              "         [-0.04280389, -0.01076874, -0.03970385, ..., -0.04258483,\n",
              "           0.19894594, -0.04245002],\n",
              "         [-0.04280644, -0.010795  , -0.0397147 , ..., -0.04259641,\n",
              "           0.19905943, -0.04246067],\n",
              "         [-0.04280731, -0.01076421, -0.03970757, ..., -0.04259207,\n",
              "           0.19895563, -0.04244765]]],\n",
              "\n",
              "\n",
              "       [[[-0.04282105, -0.01080523, -0.03970592, ..., -0.04265159,\n",
              "           0.19891325, -0.04241314],\n",
              "         [-0.0428054 , -0.01079814, -0.03969353, ..., -0.04268336,\n",
              "           0.19879048, -0.04238695],\n",
              "         [-0.04281873, -0.01080313, -0.03969219, ..., -0.04268301,\n",
              "           0.19878148, -0.04237592],\n",
              "         ...,\n",
              "         [-0.04281372, -0.01080396, -0.03969295, ..., -0.04267917,\n",
              "           0.19877249, -0.04237925],\n",
              "         [-0.04281899, -0.01077399, -0.0396691 , ..., -0.04267944,\n",
              "           0.19880418, -0.04239735],\n",
              "         [-0.04276915, -0.01076515, -0.0396723 , ..., -0.04264401,\n",
              "           0.19874236, -0.04242567]],\n",
              "\n",
              "        [[-0.0427859 , -0.0108107 , -0.03969691, ..., -0.04263382,\n",
              "           0.1989899 , -0.04241947],\n",
              "         [-0.04282251, -0.01079968, -0.03969953, ..., -0.04265592,\n",
              "           0.19889647, -0.04236379],\n",
              "         [-0.04281687, -0.01080033, -0.03970619, ..., -0.04267514,\n",
              "           0.19889903, -0.04235433],\n",
              "         ...,\n",
              "         [-0.04281739, -0.0107971 , -0.03970332, ..., -0.04267269,\n",
              "           0.19890419, -0.04235829],\n",
              "         [-0.04281991, -0.0107721 , -0.03968459, ..., -0.04265992,\n",
              "           0.19894421, -0.04237032],\n",
              "         [-0.04277886, -0.01072577, -0.03968689, ..., -0.04263184,\n",
              "           0.19887245, -0.04241834]],\n",
              "\n",
              "        [[-0.04279146, -0.01082872, -0.03970876, ..., -0.04263677,\n",
              "           0.19900872, -0.04242106],\n",
              "         [-0.04281736, -0.01079591, -0.03970147, ..., -0.04267657,\n",
              "           0.1989192 , -0.04236049],\n",
              "         [-0.04281732, -0.01079711, -0.03970337, ..., -0.04267272,\n",
              "           0.19890422, -0.04235827],\n",
              "         ...,\n",
              "         [-0.04281739, -0.0107971 , -0.03970332, ..., -0.04267269,\n",
              "           0.19890419, -0.04235829],\n",
              "         [-0.04281991, -0.0107721 , -0.03968459, ..., -0.04265992,\n",
              "           0.19894421, -0.04237032],\n",
              "         [-0.04277886, -0.01072577, -0.03968689, ..., -0.04263184,\n",
              "           0.19887245, -0.04241834]],\n",
              "\n",
              "        ...,\n",
              "\n",
              "        [[-0.04279377, -0.01082277, -0.03970364, ..., -0.0426343 ,\n",
              "           0.19899426, -0.04241782],\n",
              "         [-0.04281732, -0.01079711, -0.03970337, ..., -0.04267272,\n",
              "           0.19890422, -0.04235827],\n",
              "         [-0.04281732, -0.01079711, -0.03970337, ..., -0.04267272,\n",
              "           0.19890422, -0.04235827],\n",
              "         ...,\n",
              "         [-0.04281739, -0.0107971 , -0.03970332, ..., -0.04267269,\n",
              "           0.19890419, -0.04235829],\n",
              "         [-0.04281991, -0.0107721 , -0.03968459, ..., -0.04265992,\n",
              "           0.19894421, -0.04237032],\n",
              "         [-0.04277886, -0.01072577, -0.03968689, ..., -0.04263184,\n",
              "           0.19887245, -0.04241834]],\n",
              "\n",
              "        [[-0.04279064, -0.01079296, -0.03970051, ..., -0.04262635,\n",
              "           0.19898228, -0.04242627],\n",
              "         [-0.04281647, -0.01077018, -0.03970185, ..., -0.0426604 ,\n",
              "           0.19894244, -0.04236331],\n",
              "         [-0.04281647, -0.01077018, -0.03970185, ..., -0.0426604 ,\n",
              "           0.19894244, -0.04236331],\n",
              "         ...,\n",
              "         [-0.04281642, -0.01077017, -0.03970189, ..., -0.04266037,\n",
              "           0.19894236, -0.04236333],\n",
              "         [-0.04281902, -0.01076166, -0.03968949, ..., -0.0426521 ,\n",
              "           0.19896957, -0.04236963],\n",
              "         [-0.0427925 , -0.01072322, -0.03969228, ..., -0.0426474 ,\n",
              "           0.1989058 , -0.04241712]],\n",
              "\n",
              "        [[-0.04277906, -0.01078994, -0.03971189, ..., -0.0426643 ,\n",
              "           0.198928  , -0.04245532],\n",
              "         [-0.0428061 , -0.01076845, -0.0397188 , ..., -0.04268094,\n",
              "           0.19901747, -0.04241119],\n",
              "         [-0.0428061 , -0.01076845, -0.0397188 , ..., -0.04268094,\n",
              "           0.19901747, -0.04241119],\n",
              "         ...,\n",
              "         [-0.04280606, -0.01076847, -0.03971883, ..., -0.04268095,\n",
              "           0.1990174 , -0.04241114],\n",
              "         [-0.04280641, -0.01076823, -0.03971274, ..., -0.04267127,\n",
              "           0.19905308, -0.04242443],\n",
              "         [-0.04281   , -0.01073945, -0.03970197, ..., -0.04265881,\n",
              "           0.1989695 , -0.04244692]]],\n",
              "\n",
              "\n",
              "       [[[-0.04280774, -0.01078465, -0.03968502, ..., -0.04266463,\n",
              "           0.19890748, -0.04248193],\n",
              "         [-0.04278804, -0.01076055, -0.03970234, ..., -0.04269347,\n",
              "           0.19897898, -0.04247444],\n",
              "         [-0.04279048, -0.01076198, -0.03970444, ..., -0.04268987,\n",
              "           0.1989923 , -0.0424814 ],\n",
              "         ...,\n",
              "         [-0.04278883, -0.01076161, -0.03970492, ..., -0.04268474,\n",
              "           0.19897796, -0.042472  ],\n",
              "         [-0.04275886, -0.01075193, -0.03971031, ..., -0.0426787 ,\n",
              "           0.19907647, -0.04248018],\n",
              "         [-0.04277546, -0.01074311, -0.03970597, ..., -0.04265907,\n",
              "           0.19893613, -0.04247077]],\n",
              "\n",
              "        [[-0.04277933, -0.01077148, -0.03967867, ..., -0.04265373,\n",
              "           0.19886193, -0.04246027],\n",
              "         [-0.04276889, -0.01074207, -0.03971649, ..., -0.04266372,\n",
              "           0.19884941, -0.04246368],\n",
              "         [-0.04276954, -0.01074105, -0.03972572, ..., -0.04266378,\n",
              "           0.19881132, -0.04244757],\n",
              "         ...,\n",
              "         [-0.04276536, -0.01073586, -0.0397154 , ..., -0.04267121,\n",
              "           0.19882947, -0.04246083],\n",
              "         [-0.04275037, -0.01073805, -0.03971975, ..., -0.04266679,\n",
              "           0.19897112, -0.04245752],\n",
              "         [-0.04276542, -0.01072022, -0.03972161, ..., -0.04264532,\n",
              "           0.19889651, -0.04246827]],\n",
              "\n",
              "        [[-0.04278727, -0.01078815, -0.03967907, ..., -0.04266108,\n",
              "           0.1988174 , -0.04248346],\n",
              "         [-0.04277097, -0.01073017, -0.03972502, ..., -0.04266445,\n",
              "           0.19882901, -0.0424767 ],\n",
              "         [-0.04276734, -0.01072036, -0.03971445, ..., -0.04266122,\n",
              "           0.19880559, -0.04246629],\n",
              "         ...,\n",
              "         [-0.04276536, -0.01073586, -0.0397154 , ..., -0.04267121,\n",
              "           0.19882947, -0.04246083],\n",
              "         [-0.04275037, -0.01073805, -0.03971975, ..., -0.04266679,\n",
              "           0.19897112, -0.04245752],\n",
              "         [-0.04276542, -0.01072022, -0.03972161, ..., -0.04264532,\n",
              "           0.19889651, -0.04246827]],\n",
              "\n",
              "        ...,\n",
              "\n",
              "        [[-0.0427893 , -0.01078097, -0.03968571, ..., -0.0426592 ,\n",
              "           0.19883303, -0.04246145],\n",
              "         [-0.04276536, -0.01073589, -0.03971539, ..., -0.04267121,\n",
              "           0.19882944, -0.04246088],\n",
              "         [-0.04276536, -0.01073589, -0.03971539, ..., -0.04267121,\n",
              "           0.19882944, -0.04246088],\n",
              "         ...,\n",
              "         [-0.04276536, -0.01073586, -0.0397154 , ..., -0.04267121,\n",
              "           0.19882947, -0.04246083],\n",
              "         [-0.04275037, -0.01073805, -0.03971975, ..., -0.04266679,\n",
              "           0.19897112, -0.04245752],\n",
              "         [-0.04276542, -0.01072022, -0.03972161, ..., -0.04264532,\n",
              "           0.19889651, -0.04246827]],\n",
              "\n",
              "        [[-0.04281244, -0.01077466, -0.03968785, ..., -0.04265369,\n",
              "           0.19880508, -0.0424513 ],\n",
              "         [-0.04280205, -0.01072796, -0.03972617, ..., -0.04267061,\n",
              "           0.19878136, -0.042451  ],\n",
              "         [-0.04280205, -0.01072796, -0.03972617, ..., -0.04267061,\n",
              "           0.19878136, -0.042451  ],\n",
              "         ...,\n",
              "         [-0.04280201, -0.01072794, -0.03972615, ..., -0.04267058,\n",
              "           0.19878131, -0.04245098],\n",
              "         [-0.04278474, -0.01073477, -0.03973388, ..., -0.04266657,\n",
              "           0.1989067 , -0.04244866],\n",
              "         [-0.04278709, -0.01072219, -0.03972805, ..., -0.04264561,\n",
              "           0.19884782, -0.04245986]],\n",
              "\n",
              "        [[-0.04280174, -0.01078539, -0.03969503, ..., -0.04267125,\n",
              "           0.19880034, -0.04246195],\n",
              "         [-0.04278426, -0.01076992, -0.03973356, ..., -0.04266766,\n",
              "           0.19881079, -0.04245024],\n",
              "         [-0.04278426, -0.01076992, -0.03973356, ..., -0.04266766,\n",
              "           0.19881079, -0.04245024],\n",
              "         ...,\n",
              "         [-0.04278424, -0.01076991, -0.0397335 , ..., -0.04266761,\n",
              "           0.19881058, -0.04245029],\n",
              "         [-0.04277952, -0.01078124, -0.03973406, ..., -0.04266423,\n",
              "           0.1988639 , -0.04245699],\n",
              "         [-0.04278983, -0.01075231, -0.03972986, ..., -0.04263891,\n",
              "           0.19879976, -0.04246578]]],\n",
              "\n",
              "\n",
              "       [[[-0.04277758, -0.01081151, -0.03970755, ..., -0.04264605,\n",
              "           0.19902463, -0.04244859],\n",
              "         [-0.04277168, -0.01078611, -0.03971791, ..., -0.04267456,\n",
              "           0.19900842, -0.04247675],\n",
              "         [-0.04275435, -0.0107897 , -0.03971591, ..., -0.04266726,\n",
              "           0.1990353 , -0.04246668],\n",
              "         ...,\n",
              "         [-0.04275631, -0.01078054, -0.03971865, ..., -0.04267015,\n",
              "           0.19902624, -0.04247381],\n",
              "         [-0.04276802, -0.01079051, -0.03970256, ..., -0.04265284,\n",
              "           0.19900773, -0.04245274],\n",
              "         [-0.04278769, -0.01075682, -0.03967265, ..., -0.04263187,\n",
              "           0.19876614, -0.04249623]],\n",
              "\n",
              "        [[-0.04273055, -0.01080029, -0.0397101 , ..., -0.04264468,\n",
              "           0.19913414, -0.04245258],\n",
              "         [-0.04272792, -0.01077343, -0.03970386, ..., -0.04265372,\n",
              "           0.19900174, -0.04243536],\n",
              "         [-0.04273568, -0.01077002, -0.03972157, ..., -0.04265342,\n",
              "           0.19901887, -0.04242268],\n",
              "         ...,\n",
              "         [-0.04273114, -0.01076558, -0.03971216, ..., -0.04265145,\n",
              "           0.1989657 , -0.0424252 ],\n",
              "         [-0.04275244, -0.01077939, -0.0396945 , ..., -0.04262915,\n",
              "           0.19900683, -0.04241053],\n",
              "         [-0.04275336, -0.01073964, -0.03966376, ..., -0.04262163,\n",
              "           0.19876897, -0.04247054]],\n",
              "\n",
              "        [[-0.04274483, -0.01079594, -0.03970996, ..., -0.04262798,\n",
              "           0.19914281, -0.04244025],\n",
              "         [-0.04273529, -0.01076331, -0.03970473, ..., -0.04264664,\n",
              "           0.19894777, -0.04243734],\n",
              "         [-0.04273386, -0.01076699, -0.03971135, ..., -0.04264945,\n",
              "           0.19896097, -0.04242749],\n",
              "         ...,\n",
              "         [-0.04273114, -0.01076558, -0.03971216, ..., -0.04265145,\n",
              "           0.1989657 , -0.0424252 ],\n",
              "         [-0.04275244, -0.01077939, -0.0396945 , ..., -0.04262915,\n",
              "           0.19900683, -0.04241053],\n",
              "         [-0.04275336, -0.01073964, -0.03966376, ..., -0.04262163,\n",
              "           0.19876897, -0.04247054]],\n",
              "\n",
              "        ...,\n",
              "\n",
              "        [[-0.04274607, -0.01079679, -0.03971143, ..., -0.0426336 ,\n",
              "           0.19912538, -0.04243737],\n",
              "         [-0.04273114, -0.01076563, -0.03971216, ..., -0.04265146,\n",
              "           0.19896574, -0.04242523],\n",
              "         [-0.04273114, -0.01076563, -0.03971216, ..., -0.04265146,\n",
              "           0.19896574, -0.04242523],\n",
              "         ...,\n",
              "         [-0.04273114, -0.01076558, -0.03971216, ..., -0.04265145,\n",
              "           0.1989657 , -0.0424252 ],\n",
              "         [-0.04275244, -0.01077939, -0.0396945 , ..., -0.04262915,\n",
              "           0.19900683, -0.04241053],\n",
              "         [-0.04275336, -0.01073964, -0.03966376, ..., -0.04262163,\n",
              "           0.19876897, -0.04247054]],\n",
              "\n",
              "        [[-0.04275874, -0.0108013 , -0.03970537, ..., -0.04262405,\n",
              "           0.19908038, -0.04244164],\n",
              "         [-0.04273485, -0.01078568, -0.03972297, ..., -0.04263372,\n",
              "           0.19895771, -0.04240983],\n",
              "         [-0.04273485, -0.01078568, -0.03972297, ..., -0.04263372,\n",
              "           0.19895771, -0.04240983],\n",
              "         ...,\n",
              "         [-0.04273489, -0.01078561, -0.03972293, ..., -0.0426337 ,\n",
              "           0.1989578 , -0.04240979],\n",
              "         [-0.04273954, -0.01080381, -0.0397198 , ..., -0.0426148 ,\n",
              "           0.19899923, -0.0423946 ],\n",
              "         [-0.04275468, -0.01076368, -0.03969799, ..., -0.04261462,\n",
              "           0.19885512, -0.0424422 ]],\n",
              "\n",
              "        [[-0.04278654, -0.01080131, -0.03970543, ..., -0.0426565 ,\n",
              "           0.19901763, -0.04243501],\n",
              "         [-0.04278301, -0.01081033, -0.03970473, ..., -0.04265125,\n",
              "           0.19892511, -0.04237902],\n",
              "         [-0.04278301, -0.01081033, -0.03970473, ..., -0.04265125,\n",
              "           0.19892511, -0.04237902],\n",
              "         ...,\n",
              "         [-0.04278305, -0.01081035, -0.03970473, ..., -0.04265132,\n",
              "           0.1989252 , -0.04237907],\n",
              "         [-0.04279017, -0.0108281 , -0.03970053, ..., -0.0426438 ,\n",
              "           0.19896133, -0.04239638],\n",
              "         [-0.04278848, -0.01078253, -0.0396844 , ..., -0.04263568,\n",
              "           0.19886898, -0.04242986]]]], dtype=float32)>"
            ]
          },
          "metadata": {},
          "execution_count": 124
        }
      ]
    },
    {
      "cell_type": "code",
      "source": [
        "flattened_challenges.shape"
      ],
      "metadata": {
        "colab": {
          "base_uri": "https://localhost:8080/"
        },
        "id": "khcpXzYD719H",
        "outputId": "862ba14d-b208-400d-e76d-776656a6700a"
      },
      "execution_count": 125,
      "outputs": [
        {
          "output_type": "execute_result",
          "data": {
            "text/plain": [
              "(2604, 30, 30, 10)"
            ]
          },
          "metadata": {},
          "execution_count": 125
        }
      ]
    },
    {
      "cell_type": "code",
      "source": [
        "history = gridlike_model.fit(flattened_challenges,\n",
        "                             epochs=100,\n",
        "                             batch_size=32,\n",
        "                             shuffle=True,\n",
        "                             validation_split=0.2)"
      ],
      "metadata": {
        "colab": {
          "base_uri": "https://localhost:8080/",
          "height": 391
        },
        "id": "J9lU91Mm3Y8E",
        "outputId": "2b226c65-ae6c-421a-add6-c0d44b3a2a2a"
      },
      "execution_count": 126,
      "outputs": [
        {
          "output_type": "stream",
          "name": "stdout",
          "text": [
            "Epoch 1/100\n",
            "\u001b[1m30/66\u001b[0m \u001b[32m━━━━━━━━━\u001b[0m\u001b[37m━━━━━━━━━━━\u001b[0m \u001b[1m15:30\u001b[0m 26s/step - loss: 0.0953"
          ]
        },
        {
          "output_type": "error",
          "ename": "KeyboardInterrupt",
          "evalue": "",
          "traceback": [
            "\u001b[0;31m---------------------------------------------------------------------------\u001b[0m",
            "\u001b[0;31mKeyboardInterrupt\u001b[0m                         Traceback (most recent call last)",
            "\u001b[0;32m<ipython-input-126-6bd4a02ffc49>\u001b[0m in \u001b[0;36m<cell line: 0>\u001b[0;34m()\u001b[0m\n\u001b[0;32m----> 1\u001b[0;31m history = gridlike_model.fit(flattened_challenges,\n\u001b[0m\u001b[1;32m      2\u001b[0m                              \u001b[0mepochs\u001b[0m\u001b[0;34m=\u001b[0m\u001b[0;36m100\u001b[0m\u001b[0;34m,\u001b[0m\u001b[0;34m\u001b[0m\u001b[0;34m\u001b[0m\u001b[0m\n\u001b[1;32m      3\u001b[0m                              \u001b[0mbatch_size\u001b[0m\u001b[0;34m=\u001b[0m\u001b[0;36m32\u001b[0m\u001b[0;34m,\u001b[0m\u001b[0;34m\u001b[0m\u001b[0;34m\u001b[0m\u001b[0m\n\u001b[1;32m      4\u001b[0m                              \u001b[0mshuffle\u001b[0m\u001b[0;34m=\u001b[0m\u001b[0;32mTrue\u001b[0m\u001b[0;34m,\u001b[0m\u001b[0;34m\u001b[0m\u001b[0;34m\u001b[0m\u001b[0m\n\u001b[1;32m      5\u001b[0m                              validation_split=0.2)\n",
            "\u001b[0;32m/usr/local/lib/python3.11/dist-packages/keras/src/utils/traceback_utils.py\u001b[0m in \u001b[0;36merror_handler\u001b[0;34m(*args, **kwargs)\u001b[0m\n\u001b[1;32m    115\u001b[0m         \u001b[0mfiltered_tb\u001b[0m \u001b[0;34m=\u001b[0m \u001b[0;32mNone\u001b[0m\u001b[0;34m\u001b[0m\u001b[0;34m\u001b[0m\u001b[0m\n\u001b[1;32m    116\u001b[0m         \u001b[0;32mtry\u001b[0m\u001b[0;34m:\u001b[0m\u001b[0;34m\u001b[0m\u001b[0;34m\u001b[0m\u001b[0m\n\u001b[0;32m--> 117\u001b[0;31m             \u001b[0;32mreturn\u001b[0m \u001b[0mfn\u001b[0m\u001b[0;34m(\u001b[0m\u001b[0;34m*\u001b[0m\u001b[0margs\u001b[0m\u001b[0;34m,\u001b[0m \u001b[0;34m**\u001b[0m\u001b[0mkwargs\u001b[0m\u001b[0;34m)\u001b[0m\u001b[0;34m\u001b[0m\u001b[0;34m\u001b[0m\u001b[0m\n\u001b[0m\u001b[1;32m    118\u001b[0m         \u001b[0;32mexcept\u001b[0m \u001b[0mException\u001b[0m \u001b[0;32mas\u001b[0m \u001b[0me\u001b[0m\u001b[0;34m:\u001b[0m\u001b[0;34m\u001b[0m\u001b[0;34m\u001b[0m\u001b[0m\n\u001b[1;32m    119\u001b[0m             \u001b[0mfiltered_tb\u001b[0m \u001b[0;34m=\u001b[0m \u001b[0m_process_traceback_frames\u001b[0m\u001b[0;34m(\u001b[0m\u001b[0me\u001b[0m\u001b[0;34m.\u001b[0m\u001b[0m__traceback__\u001b[0m\u001b[0;34m)\u001b[0m\u001b[0;34m\u001b[0m\u001b[0;34m\u001b[0m\u001b[0m\n",
            "\u001b[0;32m/usr/local/lib/python3.11/dist-packages/keras/src/backend/tensorflow/trainer.py\u001b[0m in \u001b[0;36mfit\u001b[0;34m(self, x, y, batch_size, epochs, verbose, callbacks, validation_split, validation_data, shuffle, class_weight, sample_weight, initial_epoch, steps_per_epoch, validation_steps, validation_batch_size, validation_freq)\u001b[0m\n\u001b[1;32m    369\u001b[0m                 \u001b[0;32mfor\u001b[0m \u001b[0mstep\u001b[0m\u001b[0;34m,\u001b[0m \u001b[0miterator\u001b[0m \u001b[0;32min\u001b[0m \u001b[0mepoch_iterator\u001b[0m\u001b[0;34m:\u001b[0m\u001b[0;34m\u001b[0m\u001b[0;34m\u001b[0m\u001b[0m\n\u001b[1;32m    370\u001b[0m                     \u001b[0mcallbacks\u001b[0m\u001b[0;34m.\u001b[0m\u001b[0mon_train_batch_begin\u001b[0m\u001b[0;34m(\u001b[0m\u001b[0mstep\u001b[0m\u001b[0;34m)\u001b[0m\u001b[0;34m\u001b[0m\u001b[0;34m\u001b[0m\u001b[0m\n\u001b[0;32m--> 371\u001b[0;31m                     \u001b[0mlogs\u001b[0m \u001b[0;34m=\u001b[0m \u001b[0mself\u001b[0m\u001b[0;34m.\u001b[0m\u001b[0mtrain_function\u001b[0m\u001b[0;34m(\u001b[0m\u001b[0miterator\u001b[0m\u001b[0;34m)\u001b[0m\u001b[0;34m\u001b[0m\u001b[0;34m\u001b[0m\u001b[0m\n\u001b[0m\u001b[1;32m    372\u001b[0m                     \u001b[0mcallbacks\u001b[0m\u001b[0;34m.\u001b[0m\u001b[0mon_train_batch_end\u001b[0m\u001b[0;34m(\u001b[0m\u001b[0mstep\u001b[0m\u001b[0;34m,\u001b[0m \u001b[0mlogs\u001b[0m\u001b[0;34m)\u001b[0m\u001b[0;34m\u001b[0m\u001b[0;34m\u001b[0m\u001b[0m\n\u001b[1;32m    373\u001b[0m                     \u001b[0;32mif\u001b[0m \u001b[0mself\u001b[0m\u001b[0;34m.\u001b[0m\u001b[0mstop_training\u001b[0m\u001b[0;34m:\u001b[0m\u001b[0;34m\u001b[0m\u001b[0;34m\u001b[0m\u001b[0m\n",
            "\u001b[0;32m/usr/local/lib/python3.11/dist-packages/keras/src/backend/tensorflow/trainer.py\u001b[0m in \u001b[0;36mfunction\u001b[0;34m(iterator)\u001b[0m\n\u001b[1;32m    217\u001b[0m                 \u001b[0miterator\u001b[0m\u001b[0;34m,\u001b[0m \u001b[0;34m(\u001b[0m\u001b[0mtf\u001b[0m\u001b[0;34m.\u001b[0m\u001b[0mdata\u001b[0m\u001b[0;34m.\u001b[0m\u001b[0mIterator\u001b[0m\u001b[0;34m,\u001b[0m \u001b[0mtf\u001b[0m\u001b[0;34m.\u001b[0m\u001b[0mdistribute\u001b[0m\u001b[0;34m.\u001b[0m\u001b[0mDistributedIterator\u001b[0m\u001b[0;34m)\u001b[0m\u001b[0;34m\u001b[0m\u001b[0;34m\u001b[0m\u001b[0m\n\u001b[1;32m    218\u001b[0m             ):\n\u001b[0;32m--> 219\u001b[0;31m                 \u001b[0mopt_outputs\u001b[0m \u001b[0;34m=\u001b[0m \u001b[0mmulti_step_on_iterator\u001b[0m\u001b[0;34m(\u001b[0m\u001b[0miterator\u001b[0m\u001b[0;34m)\u001b[0m\u001b[0;34m\u001b[0m\u001b[0;34m\u001b[0m\u001b[0m\n\u001b[0m\u001b[1;32m    220\u001b[0m                 \u001b[0;32mif\u001b[0m \u001b[0;32mnot\u001b[0m \u001b[0mopt_outputs\u001b[0m\u001b[0;34m.\u001b[0m\u001b[0mhas_value\u001b[0m\u001b[0;34m(\u001b[0m\u001b[0;34m)\u001b[0m\u001b[0;34m:\u001b[0m\u001b[0;34m\u001b[0m\u001b[0;34m\u001b[0m\u001b[0m\n\u001b[1;32m    221\u001b[0m                     \u001b[0;32mraise\u001b[0m \u001b[0mStopIteration\u001b[0m\u001b[0;34m\u001b[0m\u001b[0;34m\u001b[0m\u001b[0m\n",
            "\u001b[0;32m/usr/local/lib/python3.11/dist-packages/tensorflow/python/util/traceback_utils.py\u001b[0m in \u001b[0;36merror_handler\u001b[0;34m(*args, **kwargs)\u001b[0m\n\u001b[1;32m    148\u001b[0m     \u001b[0mfiltered_tb\u001b[0m \u001b[0;34m=\u001b[0m \u001b[0;32mNone\u001b[0m\u001b[0;34m\u001b[0m\u001b[0;34m\u001b[0m\u001b[0m\n\u001b[1;32m    149\u001b[0m     \u001b[0;32mtry\u001b[0m\u001b[0;34m:\u001b[0m\u001b[0;34m\u001b[0m\u001b[0;34m\u001b[0m\u001b[0m\n\u001b[0;32m--> 150\u001b[0;31m       \u001b[0;32mreturn\u001b[0m \u001b[0mfn\u001b[0m\u001b[0;34m(\u001b[0m\u001b[0;34m*\u001b[0m\u001b[0margs\u001b[0m\u001b[0;34m,\u001b[0m \u001b[0;34m**\u001b[0m\u001b[0mkwargs\u001b[0m\u001b[0;34m)\u001b[0m\u001b[0;34m\u001b[0m\u001b[0;34m\u001b[0m\u001b[0m\n\u001b[0m\u001b[1;32m    151\u001b[0m     \u001b[0;32mexcept\u001b[0m \u001b[0mException\u001b[0m \u001b[0;32mas\u001b[0m \u001b[0me\u001b[0m\u001b[0;34m:\u001b[0m\u001b[0;34m\u001b[0m\u001b[0;34m\u001b[0m\u001b[0m\n\u001b[1;32m    152\u001b[0m       \u001b[0mfiltered_tb\u001b[0m \u001b[0;34m=\u001b[0m \u001b[0m_process_traceback_frames\u001b[0m\u001b[0;34m(\u001b[0m\u001b[0me\u001b[0m\u001b[0;34m.\u001b[0m\u001b[0m__traceback__\u001b[0m\u001b[0;34m)\u001b[0m\u001b[0;34m\u001b[0m\u001b[0;34m\u001b[0m\u001b[0m\n",
            "\u001b[0;32m/usr/local/lib/python3.11/dist-packages/tensorflow/python/eager/polymorphic_function/polymorphic_function.py\u001b[0m in \u001b[0;36m__call__\u001b[0;34m(self, *args, **kwds)\u001b[0m\n\u001b[1;32m    831\u001b[0m \u001b[0;34m\u001b[0m\u001b[0m\n\u001b[1;32m    832\u001b[0m       \u001b[0;32mwith\u001b[0m \u001b[0mOptionalXlaContext\u001b[0m\u001b[0;34m(\u001b[0m\u001b[0mself\u001b[0m\u001b[0;34m.\u001b[0m\u001b[0m_jit_compile\u001b[0m\u001b[0;34m)\u001b[0m\u001b[0;34m:\u001b[0m\u001b[0;34m\u001b[0m\u001b[0;34m\u001b[0m\u001b[0m\n\u001b[0;32m--> 833\u001b[0;31m         \u001b[0mresult\u001b[0m \u001b[0;34m=\u001b[0m \u001b[0mself\u001b[0m\u001b[0;34m.\u001b[0m\u001b[0m_call\u001b[0m\u001b[0;34m(\u001b[0m\u001b[0;34m*\u001b[0m\u001b[0margs\u001b[0m\u001b[0;34m,\u001b[0m \u001b[0;34m**\u001b[0m\u001b[0mkwds\u001b[0m\u001b[0;34m)\u001b[0m\u001b[0;34m\u001b[0m\u001b[0;34m\u001b[0m\u001b[0m\n\u001b[0m\u001b[1;32m    834\u001b[0m \u001b[0;34m\u001b[0m\u001b[0m\n\u001b[1;32m    835\u001b[0m       \u001b[0mnew_tracing_count\u001b[0m \u001b[0;34m=\u001b[0m \u001b[0mself\u001b[0m\u001b[0;34m.\u001b[0m\u001b[0mexperimental_get_tracing_count\u001b[0m\u001b[0;34m(\u001b[0m\u001b[0;34m)\u001b[0m\u001b[0;34m\u001b[0m\u001b[0;34m\u001b[0m\u001b[0m\n",
            "\u001b[0;32m/usr/local/lib/python3.11/dist-packages/tensorflow/python/eager/polymorphic_function/polymorphic_function.py\u001b[0m in \u001b[0;36m_call\u001b[0;34m(self, *args, **kwds)\u001b[0m\n\u001b[1;32m    876\u001b[0m       \u001b[0;31m# In this case we have not created variables on the first call. So we can\u001b[0m\u001b[0;34m\u001b[0m\u001b[0;34m\u001b[0m\u001b[0m\n\u001b[1;32m    877\u001b[0m       \u001b[0;31m# run the first trace but we should fail if variables are created.\u001b[0m\u001b[0;34m\u001b[0m\u001b[0;34m\u001b[0m\u001b[0m\n\u001b[0;32m--> 878\u001b[0;31m       results = tracing_compilation.call_function(\n\u001b[0m\u001b[1;32m    879\u001b[0m           \u001b[0margs\u001b[0m\u001b[0;34m,\u001b[0m \u001b[0mkwds\u001b[0m\u001b[0;34m,\u001b[0m \u001b[0mself\u001b[0m\u001b[0;34m.\u001b[0m\u001b[0m_variable_creation_config\u001b[0m\u001b[0;34m\u001b[0m\u001b[0;34m\u001b[0m\u001b[0m\n\u001b[1;32m    880\u001b[0m       )\n",
            "\u001b[0;32m/usr/local/lib/python3.11/dist-packages/tensorflow/python/eager/polymorphic_function/tracing_compilation.py\u001b[0m in \u001b[0;36mcall_function\u001b[0;34m(args, kwargs, tracing_options)\u001b[0m\n\u001b[1;32m    137\u001b[0m   \u001b[0mbound_args\u001b[0m \u001b[0;34m=\u001b[0m \u001b[0mfunction\u001b[0m\u001b[0;34m.\u001b[0m\u001b[0mfunction_type\u001b[0m\u001b[0;34m.\u001b[0m\u001b[0mbind\u001b[0m\u001b[0;34m(\u001b[0m\u001b[0;34m*\u001b[0m\u001b[0margs\u001b[0m\u001b[0;34m,\u001b[0m \u001b[0;34m**\u001b[0m\u001b[0mkwargs\u001b[0m\u001b[0;34m)\u001b[0m\u001b[0;34m\u001b[0m\u001b[0;34m\u001b[0m\u001b[0m\n\u001b[1;32m    138\u001b[0m   \u001b[0mflat_inputs\u001b[0m \u001b[0;34m=\u001b[0m \u001b[0mfunction\u001b[0m\u001b[0;34m.\u001b[0m\u001b[0mfunction_type\u001b[0m\u001b[0;34m.\u001b[0m\u001b[0munpack_inputs\u001b[0m\u001b[0;34m(\u001b[0m\u001b[0mbound_args\u001b[0m\u001b[0;34m)\u001b[0m\u001b[0;34m\u001b[0m\u001b[0;34m\u001b[0m\u001b[0m\n\u001b[0;32m--> 139\u001b[0;31m   return function._call_flat(  # pylint: disable=protected-access\n\u001b[0m\u001b[1;32m    140\u001b[0m       \u001b[0mflat_inputs\u001b[0m\u001b[0;34m,\u001b[0m \u001b[0mcaptured_inputs\u001b[0m\u001b[0;34m=\u001b[0m\u001b[0mfunction\u001b[0m\u001b[0;34m.\u001b[0m\u001b[0mcaptured_inputs\u001b[0m\u001b[0;34m\u001b[0m\u001b[0;34m\u001b[0m\u001b[0m\n\u001b[1;32m    141\u001b[0m   )\n",
            "\u001b[0;32m/usr/local/lib/python3.11/dist-packages/tensorflow/python/eager/polymorphic_function/concrete_function.py\u001b[0m in \u001b[0;36m_call_flat\u001b[0;34m(self, tensor_inputs, captured_inputs)\u001b[0m\n\u001b[1;32m   1320\u001b[0m         and executing_eagerly):\n\u001b[1;32m   1321\u001b[0m       \u001b[0;31m# No tape is watching; skip to running the function.\u001b[0m\u001b[0;34m\u001b[0m\u001b[0;34m\u001b[0m\u001b[0m\n\u001b[0;32m-> 1322\u001b[0;31m       \u001b[0;32mreturn\u001b[0m \u001b[0mself\u001b[0m\u001b[0;34m.\u001b[0m\u001b[0m_inference_function\u001b[0m\u001b[0;34m.\u001b[0m\u001b[0mcall_preflattened\u001b[0m\u001b[0;34m(\u001b[0m\u001b[0margs\u001b[0m\u001b[0;34m)\u001b[0m\u001b[0;34m\u001b[0m\u001b[0;34m\u001b[0m\u001b[0m\n\u001b[0m\u001b[1;32m   1323\u001b[0m     forward_backward = self._select_forward_and_backward_functions(\n\u001b[1;32m   1324\u001b[0m         \u001b[0margs\u001b[0m\u001b[0;34m,\u001b[0m\u001b[0;34m\u001b[0m\u001b[0;34m\u001b[0m\u001b[0m\n",
            "\u001b[0;32m/usr/local/lib/python3.11/dist-packages/tensorflow/python/eager/polymorphic_function/atomic_function.py\u001b[0m in \u001b[0;36mcall_preflattened\u001b[0;34m(self, args)\u001b[0m\n\u001b[1;32m    214\u001b[0m   \u001b[0;32mdef\u001b[0m \u001b[0mcall_preflattened\u001b[0m\u001b[0;34m(\u001b[0m\u001b[0mself\u001b[0m\u001b[0;34m,\u001b[0m \u001b[0margs\u001b[0m\u001b[0;34m:\u001b[0m \u001b[0mSequence\u001b[0m\u001b[0;34m[\u001b[0m\u001b[0mcore\u001b[0m\u001b[0;34m.\u001b[0m\u001b[0mTensor\u001b[0m\u001b[0;34m]\u001b[0m\u001b[0;34m)\u001b[0m \u001b[0;34m->\u001b[0m \u001b[0mAny\u001b[0m\u001b[0;34m:\u001b[0m\u001b[0;34m\u001b[0m\u001b[0;34m\u001b[0m\u001b[0m\n\u001b[1;32m    215\u001b[0m     \u001b[0;34m\"\"\"Calls with flattened tensor inputs and returns the structured output.\"\"\"\u001b[0m\u001b[0;34m\u001b[0m\u001b[0;34m\u001b[0m\u001b[0m\n\u001b[0;32m--> 216\u001b[0;31m     \u001b[0mflat_outputs\u001b[0m \u001b[0;34m=\u001b[0m \u001b[0mself\u001b[0m\u001b[0;34m.\u001b[0m\u001b[0mcall_flat\u001b[0m\u001b[0;34m(\u001b[0m\u001b[0;34m*\u001b[0m\u001b[0margs\u001b[0m\u001b[0;34m)\u001b[0m\u001b[0;34m\u001b[0m\u001b[0;34m\u001b[0m\u001b[0m\n\u001b[0m\u001b[1;32m    217\u001b[0m     \u001b[0;32mreturn\u001b[0m \u001b[0mself\u001b[0m\u001b[0;34m.\u001b[0m\u001b[0mfunction_type\u001b[0m\u001b[0;34m.\u001b[0m\u001b[0mpack_output\u001b[0m\u001b[0;34m(\u001b[0m\u001b[0mflat_outputs\u001b[0m\u001b[0;34m)\u001b[0m\u001b[0;34m\u001b[0m\u001b[0;34m\u001b[0m\u001b[0m\n\u001b[1;32m    218\u001b[0m \u001b[0;34m\u001b[0m\u001b[0m\n",
            "\u001b[0;32m/usr/local/lib/python3.11/dist-packages/tensorflow/python/eager/polymorphic_function/atomic_function.py\u001b[0m in \u001b[0;36mcall_flat\u001b[0;34m(self, *args)\u001b[0m\n\u001b[1;32m    249\u001b[0m         \u001b[0;32mwith\u001b[0m \u001b[0mrecord\u001b[0m\u001b[0;34m.\u001b[0m\u001b[0mstop_recording\u001b[0m\u001b[0;34m(\u001b[0m\u001b[0;34m)\u001b[0m\u001b[0;34m:\u001b[0m\u001b[0;34m\u001b[0m\u001b[0;34m\u001b[0m\u001b[0m\n\u001b[1;32m    250\u001b[0m           \u001b[0;32mif\u001b[0m \u001b[0mself\u001b[0m\u001b[0;34m.\u001b[0m\u001b[0m_bound_context\u001b[0m\u001b[0;34m.\u001b[0m\u001b[0mexecuting_eagerly\u001b[0m\u001b[0;34m(\u001b[0m\u001b[0;34m)\u001b[0m\u001b[0;34m:\u001b[0m\u001b[0;34m\u001b[0m\u001b[0;34m\u001b[0m\u001b[0m\n\u001b[0;32m--> 251\u001b[0;31m             outputs = self._bound_context.call_function(\n\u001b[0m\u001b[1;32m    252\u001b[0m                 \u001b[0mself\u001b[0m\u001b[0;34m.\u001b[0m\u001b[0mname\u001b[0m\u001b[0;34m,\u001b[0m\u001b[0;34m\u001b[0m\u001b[0;34m\u001b[0m\u001b[0m\n\u001b[1;32m    253\u001b[0m                 \u001b[0mlist\u001b[0m\u001b[0;34m(\u001b[0m\u001b[0margs\u001b[0m\u001b[0;34m)\u001b[0m\u001b[0;34m,\u001b[0m\u001b[0;34m\u001b[0m\u001b[0;34m\u001b[0m\u001b[0m\n",
            "\u001b[0;32m/usr/local/lib/python3.11/dist-packages/tensorflow/python/eager/context.py\u001b[0m in \u001b[0;36mcall_function\u001b[0;34m(self, name, tensor_inputs, num_outputs)\u001b[0m\n\u001b[1;32m   1681\u001b[0m     \u001b[0mcancellation_context\u001b[0m \u001b[0;34m=\u001b[0m \u001b[0mcancellation\u001b[0m\u001b[0;34m.\u001b[0m\u001b[0mcontext\u001b[0m\u001b[0;34m(\u001b[0m\u001b[0;34m)\u001b[0m\u001b[0;34m\u001b[0m\u001b[0;34m\u001b[0m\u001b[0m\n\u001b[1;32m   1682\u001b[0m     \u001b[0;32mif\u001b[0m \u001b[0mcancellation_context\u001b[0m \u001b[0;32mis\u001b[0m \u001b[0;32mNone\u001b[0m\u001b[0;34m:\u001b[0m\u001b[0;34m\u001b[0m\u001b[0;34m\u001b[0m\u001b[0m\n\u001b[0;32m-> 1683\u001b[0;31m       outputs = execute.execute(\n\u001b[0m\u001b[1;32m   1684\u001b[0m           \u001b[0mname\u001b[0m\u001b[0;34m.\u001b[0m\u001b[0mdecode\u001b[0m\u001b[0;34m(\u001b[0m\u001b[0;34m\"utf-8\"\u001b[0m\u001b[0;34m)\u001b[0m\u001b[0;34m,\u001b[0m\u001b[0;34m\u001b[0m\u001b[0;34m\u001b[0m\u001b[0m\n\u001b[1;32m   1685\u001b[0m           \u001b[0mnum_outputs\u001b[0m\u001b[0;34m=\u001b[0m\u001b[0mnum_outputs\u001b[0m\u001b[0;34m,\u001b[0m\u001b[0;34m\u001b[0m\u001b[0;34m\u001b[0m\u001b[0m\n",
            "\u001b[0;32m/usr/local/lib/python3.11/dist-packages/tensorflow/python/eager/execute.py\u001b[0m in \u001b[0;36mquick_execute\u001b[0;34m(op_name, num_outputs, inputs, attrs, ctx, name)\u001b[0m\n\u001b[1;32m     51\u001b[0m   \u001b[0;32mtry\u001b[0m\u001b[0;34m:\u001b[0m\u001b[0;34m\u001b[0m\u001b[0;34m\u001b[0m\u001b[0m\n\u001b[1;32m     52\u001b[0m     \u001b[0mctx\u001b[0m\u001b[0;34m.\u001b[0m\u001b[0mensure_initialized\u001b[0m\u001b[0;34m(\u001b[0m\u001b[0;34m)\u001b[0m\u001b[0;34m\u001b[0m\u001b[0;34m\u001b[0m\u001b[0m\n\u001b[0;32m---> 53\u001b[0;31m     tensors = pywrap_tfe.TFE_Py_Execute(ctx._handle, device_name, op_name,\n\u001b[0m\u001b[1;32m     54\u001b[0m                                         inputs, attrs, num_outputs)\n\u001b[1;32m     55\u001b[0m   \u001b[0;32mexcept\u001b[0m \u001b[0mcore\u001b[0m\u001b[0;34m.\u001b[0m\u001b[0m_NotOkStatusException\u001b[0m \u001b[0;32mas\u001b[0m \u001b[0me\u001b[0m\u001b[0;34m:\u001b[0m\u001b[0;34m\u001b[0m\u001b[0;34m\u001b[0m\u001b[0m\n",
            "\u001b[0;31mKeyboardInterrupt\u001b[0m: "
          ]
        }
      ]
    }
  ]
}