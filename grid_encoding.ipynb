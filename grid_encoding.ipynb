{
  "nbformat": 4,
  "nbformat_minor": 0,
  "metadata": {
    "colab": {
      "provenance": [],
      "include_colab_link": true
    },
    "kernelspec": {
      "name": "python3",
      "display_name": "Python 3"
    },
    "language_info": {
      "name": "python"
    }
  },
  "cells": [
    {
      "cell_type": "markdown",
      "metadata": {
        "id": "view-in-github",
        "colab_type": "text"
      },
      "source": [
        "<a href=\"https://colab.research.google.com/github/Pumafi/problem_solving_rl_pumafi/blob/main/grid_encoding.ipynb\" target=\"_parent\"><img src=\"https://colab.research.google.com/assets/colab-badge.svg\" alt=\"Open In Colab\"/></a>"
      ]
    },
    {
      "cell_type": "code",
      "execution_count": 1,
      "metadata": {
        "colab": {
          "base_uri": "https://localhost:8080/"
        },
        "id": "XLBEvBpgYjNo",
        "outputId": "d8c60459-77f1-43f6-dcbd-af34316d63b2"
      },
      "outputs": [
        {
          "output_type": "stream",
          "name": "stdout",
          "text": [
            "/content\n",
            "Cloning into 'problem_solving_rl_pumafi'...\n",
            "remote: Enumerating objects: 23, done.\u001b[K\n",
            "remote: Counting objects: 100% (23/23), done.\u001b[K\n",
            "remote: Compressing objects: 100% (21/21), done.\u001b[K\n",
            "remote: Total 23 (delta 3), reused 0 (delta 0), pack-reused 0 (from 0)\u001b[K\n",
            "Receiving objects: 100% (23/23), 17.98 MiB | 7.47 MiB/s, done.\n",
            "Resolving deltas: 100% (3/3), done.\n",
            "/content/problem_solving_rl_pumafi\n"
          ]
        }
      ],
      "source": [
        "RUNNING_IN_COLAB = True\n",
        "\n",
        "%cd /content\n",
        "\n",
        "if RUNNING_IN_COLAB:\n",
        "    REPO_URL = 'https://github.com/Pumafi/problem_solving_rl_pumafi'\n",
        "    BRANCH   = 'main'\n",
        "    REPO_DIR = 'problem_solving_rl_pumafi'\n",
        "\n",
        "    from pathlib import Path\n",
        "\n",
        "    if Path(REPO_DIR).is_dir():\n",
        "      !rm -rf {REPO_DIR}\n",
        "\n",
        "    # Download the repository\n",
        "    if not Path(REPO_DIR).is_dir():\n",
        "        !git clone --branch {BRANCH} --depth=1 -- {REPO_URL} {REPO_DIR}\n",
        "\n",
        "    %cd {REPO_DIR}"
      ]
    },
    {
      "cell_type": "code",
      "source": [
        "from tensorflow import keras\n",
        "import pandas as pd\n",
        "import numpy as np\n",
        "\n",
        "import random\n",
        "import math\n",
        "from tqdm.notebook import trange, tqdm\n",
        "\n",
        "import matplotlib.pyplot as plt\n",
        "from matplotlib import colors\n",
        "\n",
        "\n",
        "from scipy.stats import kde\n",
        "from sklearn.metrics.pairwise import euclidean_distances\n",
        "\n",
        "import tensorflow as tf\n",
        "from keras.utils import to_categorical\n",
        "from tensorflow.keras import layers, losses\n",
        "from tensorflow.keras import regularizers\n",
        "from tensorflow.keras.models import Model"
      ],
      "metadata": {
        "id": "wuqLpqehYmQ2"
      },
      "execution_count": 2,
      "outputs": []
    },
    {
      "cell_type": "code",
      "source": [],
      "metadata": {
        "id": "LvOiHKzWiOfe"
      },
      "execution_count": 2,
      "outputs": []
    },
    {
      "cell_type": "code",
      "source": [
        "# Load code from the repo\n",
        "from utils.data_handling import get_color_map, pad_to_shape, preprocess_challenge_data\n",
        "from utils.preprocess_metalearning_data import filter_and_split_inputs\n",
        "from models.autoencoder import AutoEncoder"
      ],
      "metadata": {
        "id": "XnQHErZ4YmUO"
      },
      "execution_count": 3,
      "outputs": []
    },
    {
      "cell_type": "code",
      "source": [
        "import json\n",
        "\n",
        "def load_json(file_path):\n",
        "    with open(file_path, 'r') as f:\n",
        "        return json.load(f)\n",
        "\n",
        "training_challenges = load_json('./data/arc-agi_training_challenges.json')\n",
        "training_solutions = load_json('./data/arc-agi_training_solutions.json')\n",
        "evaluation_challenges = load_json('./data/arc-agi_evaluation_challenges.json')\n",
        "\n",
        "print(\"Data loaded successfully.\")\n",
        "print(f\"Training tasks: {len(training_challenges)}\")\n",
        "print(f\"Evaluation tasks: {len(evaluation_challenges)}\")"
      ],
      "metadata": {
        "colab": {
          "base_uri": "https://localhost:8080/"
        },
        "id": "Krvii9ISYmXN",
        "outputId": "b35dae42-0631-413d-c7ee-0f1c6c8b5f7b"
      },
      "execution_count": 4,
      "outputs": [
        {
          "output_type": "stream",
          "name": "stdout",
          "text": [
            "Data loaded successfully.\n",
            "Training tasks: 400\n",
            "Evaluation tasks: 400\n"
          ]
        }
      ]
    },
    {
      "cell_type": "code",
      "source": [
        "# all inputs for meta learning, then the training data for latter\n",
        "challenge_propositioner_inputs, _, _, _, _ = preprocess_challenge_data(training_challenges, training_solutions)\n",
        "print(len(challenge_propositioner_inputs))"
      ],
      "metadata": {
        "colab": {
          "base_uri": "https://localhost:8080/"
        },
        "id": "BoDrfYxudPi0",
        "outputId": "a0091503-283c-42ca-9d4a-c472612cc5e2"
      },
      "execution_count": 5,
      "outputs": [
        {
          "output_type": "stream",
          "name": "stdout",
          "text": [
            "400\n"
          ]
        }
      ]
    },
    {
      "cell_type": "code",
      "source": [
        "# In order of access we have:\n",
        "#     challenge_propositioner_inputs [problem_nb (list)] [example_nb (list)] [0/1 - input/output (tuple)] -> [30, 30, 10] (ndarray)\n",
        "\n",
        "# Visualize the size of examples sets (NB: All have at least 2 examples, but 2 is to few for my idea)\n",
        "for i in range(5):\n",
        "  print(\"Problem nb \", i +1, \" | nb examples: \", len(challenge_propositioner_inputs[i]))\n",
        "\n",
        "print(\"\\nSize of one grid: \", challenge_propositioner_inputs[0][0][0].shape)"
      ],
      "metadata": {
        "colab": {
          "base_uri": "https://localhost:8080/"
        },
        "id": "Cv3v5iekYs4N",
        "outputId": "f57daa5e-7628-4005-e87e-794fec0de119"
      },
      "execution_count": 6,
      "outputs": [
        {
          "output_type": "stream",
          "name": "stdout",
          "text": [
            "Problem nb  1  | nb examples:  5\n",
            "Problem nb  2  | nb examples:  5\n",
            "Problem nb  3  | nb examples:  3\n",
            "Problem nb  4  | nb examples:  2\n",
            "Problem nb  5  | nb examples:  3\n",
            "\n",
            "Size of one grid:  (30, 30, 10)\n"
          ]
        }
      ]
    },
    {
      "cell_type": "code",
      "source": [
        "flattened_challenges = [\n",
        "    x\n",
        "    for xss in challenge_propositioner_inputs\n",
        "    for xs in xss\n",
        "    for x in xs\n",
        "]\n",
        "\n",
        "flattened_challenges = np.array(flattened_challenges)\n",
        "\n",
        "print(flattened_challenges.shape)"
      ],
      "metadata": {
        "colab": {
          "base_uri": "https://localhost:8080/"
        },
        "id": "q2jDTzmcdYv0",
        "outputId": "033d31bd-2437-46f8-d034-1b561073adce"
      },
      "execution_count": 7,
      "outputs": [
        {
          "output_type": "stream",
          "name": "stdout",
          "text": [
            "(2604, 30, 30, 10)\n"
          ]
        }
      ]
    },
    {
      "cell_type": "code",
      "source": [
        "cmap, norm = get_color_map(number_of_categories=9)\n",
        "\n",
        "plt.subplot(1, 2, 1)\n",
        "plt.title('input')\n",
        "plt.imshow(np.argmax(challenge_propositioner_inputs[0][0][0], axis=-1), interpolation='nearest', cmap=cmap, norm=norm)\n",
        "plt.axis('off')\n",
        "plt.subplot(1, 2, 2)\n",
        "plt.title('output')\n",
        "plt.imshow(np.argmax(challenge_propositioner_inputs[0][0][1], axis=-1), interpolation='nearest', cmap=cmap, norm=norm)\n",
        "plt.axis('off')\n",
        "plt.show()"
      ],
      "metadata": {
        "colab": {
          "base_uri": "https://localhost:8080/",
          "height": 284
        },
        "id": "_tkp6Um0aUm1",
        "outputId": "20153b28-7c32-41c8-ad64-011af96f0136"
      },
      "execution_count": 8,
      "outputs": [
        {
          "output_type": "display_data",
          "data": {
            "text/plain": [
              "<Figure size 640x480 with 2 Axes>"
            ],
            "image/png": "[encoded data removed]"
          },
          "metadata": {}
        }
      ]
    },
    {
      "cell_type": "code",
      "source": [
        "#NB: for this and place cell, get inspiration from GANs, variational distance for Kozachenko-Leonenko, as well as initializing the ccenter of massesf\n",
        "\n",
        "autoencoder = AutoEncoder()\n",
        "autoencoder.compile(optimizer=keras.optimizers.Adam(learning_rate=5e-4), loss=losses.CategoricalCrossentropy())\n",
        "autoencoder.build([None, flattened_challenges.shape[1], flattened_challenges.shape[2], 10])\n"
      ],
      "metadata": {
        "colab": {
          "base_uri": "https://localhost:8080/"
        },
        "id": "4BmHW-rTctV3",
        "outputId": "9bc4d38a-b45c-4ca5-aad1-b981230fc643"
      },
      "execution_count": 9,
      "outputs": [
        {
          "output_type": "stream",
          "name": "stderr",
          "text": [
            "/usr/local/lib/python3.11/dist-packages/keras/src/layers/layer.py:393: UserWarning: `build()` was called on layer 'auto_encoder', however the layer does not have a `build()` method implemented and it looks like it has unbuilt state. This will cause the layer to be marked as built, despite not being actually built, which may cause failures down the line. Make sure to implement a proper `build()` method.\n",
            "  warnings.warn(\n"
          ]
        }
      ]
    },
    {
      "cell_type": "code",
      "source": [
        "encoded_imgs = autoencoder.encoder(flattened_challenges[:2]).numpy()\n",
        "decoded_imgs = autoencoder.decoder(encoded_imgs[:2]).numpy()"
      ],
      "metadata": {
        "id": "g-DXsr58dphx"
      },
      "execution_count": 10,
      "outputs": []
    },
    {
      "cell_type": "code",
      "source": [
        "autoencoder.encoder.load_weights(\"weights/weigts-encoder.weights.h5\")\n",
        "autoencoder.decoder.load_weights(\"weights/weigts-decoder.weights.h5\")"
      ],
      "metadata": {
        "id": "k8vo9qQxdiO8"
      },
      "execution_count": 11,
      "outputs": []
    },
    {
      "cell_type": "code",
      "source": [
        "encoded_imgs = autoencoder.encoder(flattened_challenges[:11]).numpy()\n",
        "decoded_imgs = autoencoder.decoder(encoded_imgs[:11]).numpy()"
      ],
      "metadata": {
        "id": "40VnVUFEdxQk"
      },
      "execution_count": 12,
      "outputs": []
    },
    {
      "cell_type": "code",
      "source": [
        "n = 10\n",
        "plt.figure(figsize=(20, 4))\n",
        "for i in range(n):\n",
        "  # display original\n",
        "  ax = plt.subplot(2, n, i + 1)\n",
        "  plt.imshow(np.argmax(flattened_challenges[i], axis=-1), interpolation='nearest', cmap=cmap, norm=norm)\n",
        "  plt.title(\"original\")\n",
        "  #plt.gray()\n",
        "  ax.get_xaxis().set_visible(False)\n",
        "  ax.get_yaxis().set_visible(False)\n",
        "\n",
        "  # display reconstruction\n",
        "  ax = plt.subplot(2, n, i + 1 + n)\n",
        "  plt.imshow(np.argmax(decoded_imgs[i], axis=-1), interpolation='nearest', cmap=cmap, norm=norm)\n",
        "  plt.title(\"reconstructed\")\n",
        "  #plt.gray()\n",
        "  ax.get_xaxis().set_visible(False)\n",
        "  ax.get_yaxis().set_visible(False)\n",
        "plt.show()"
      ],
      "metadata": {
        "colab": {
          "base_uri": "https://localhost:8080/",
          "height": 358
        },
        "id": "FIV0tmBEc_H0",
        "outputId": "55a9cb49-763a-46a4-8551-638fcff7c50a"
      },
      "execution_count": 13,
      "outputs": [
        {
          "output_type": "display_data",
          "data": {
            "text/plain": [
              "<Figure size 2000x400 with 20 Axes>"
            ],
            "image/png": "[encoded data removed]"
          },
          "metadata": {}
        }
      ]
    },
    {
      "cell_type": "markdown",
      "source": [
        "## Move Enconding"
      ],
      "metadata": {
        "id": "jQAcLvAnsU9f"
      }
    },
    {
      "cell_type": "code",
      "source": [
        "def generate_random_move(batch_size):\n",
        "    position_x = np.random.randint(0, 30, (batch_size, 1))\n",
        "    position_y = np.random.randint(0, 30, (batch_size, 1))\n",
        "    n_values = 30\n",
        "    position_x = np.squeeze(np.eye(n_values)[position_x])\n",
        "\n",
        "    n_values = 30\n",
        "    position_y = np.squeeze(np.eye(n_values)[position_y])\n",
        "\n",
        "    move = np.random.randint(0, 10, (batch_size, 1))\n",
        "    n_values = 10\n",
        "    move = np.squeeze(np.eye(n_values)[move])\n",
        "    return move, position_x, position_y"
      ],
      "metadata": {
        "id": "RmLjSVGpsaSe"
      },
      "execution_count": 33,
      "outputs": []
    },
    {
      "cell_type": "code",
      "source": [
        "batch_size = 5\n",
        "\n",
        "move, position_x, position_y = generate_random_move(batch_size)\n",
        "\n",
        "print(position_x.shape, move.shape)"
      ],
      "metadata": {
        "colab": {
          "base_uri": "https://localhost:8080/"
        },
        "id": "i8idc2woeMYu",
        "outputId": "a2c1b3f0-8081-42a9-b13f-b7372ac11647"
      },
      "execution_count": 76,
      "outputs": [
        {
          "output_type": "stream",
          "name": "stdout",
          "text": [
            "(5, 30) (5, 10)\n"
          ]
        }
      ]
    },
    {
      "cell_type": "code",
      "source": [
        "import tensorflow as tf\n",
        "\n",
        "# Do a wrapper and apply using a mapping\n",
        "\n",
        "def apply_move(grid, move, position_x, position_y):\n",
        "    position_x = tf.argmax(position_x, axis=-1)\n",
        "    position_y = tf.argmax(position_y, axis=-1)\n",
        "    grid_modified = tf.identity(grid)\n",
        "    print(grid.dtype, grid_modified.dtype, move.dtype)\n",
        "    move = tf.cast(move, tf.float32)\n",
        "    move = tf.cast(grid_modified, tf.float32)\n",
        "    print(move.shape, grid_modified.shape)\n",
        "    grid_modified = tf.tensor_scatter_nd_update(grid_modified, [position_x, position_y], move)\n",
        "    return grid_modified, move, position_x, position_y\n",
        "\n",
        "def apply_move_wrapper(grid, move, position_x, position_y):\n",
        "    #grid_modified,_, _, _ =\n",
        "    tf.map_fn(lambda x: apply_move(x[0], x[1], x[2], x[3]), (grid, move, position_x, position_y))\n",
        "    return None #grid_modified"
      ],
      "metadata": {
        "id": "-EZ5UaCMgCzH"
      },
      "execution_count": 77,
      "outputs": []
    },
    {
      "cell_type": "code",
      "source": [
        "import tensorflow as tf\n",
        "\n",
        "# Function to apply move on a single instance\n",
        "def apply_move(grid, move, position_x, position_y):\n",
        "    position_x = tf.argmax(position_x, axis=-1)\n",
        "    position_y = tf.argmax(position_y, axis=-1)\n",
        "\n",
        "    grid_modified = tf.identity(grid)\n",
        "\n",
        "    move = tf.cast(move, tf.float32)\n",
        "    grid_modified = tf.cast(grid_modified, tf.float32)\n",
        "\n",
        "\n",
        "    # Ensure indices are correctly shaped\n",
        "    indices = tf.stack([[position_x, position_y]], axis=0)  # Shape (1, 2)\n",
        "\n",
        "    # Apply the move\n",
        "    grid_modified = tf.tensor_scatter_nd_update(grid_modified, indices, [move])\n",
        "\n",
        "    return grid_modified, move, position_x, position_y\n",
        "\n",
        "# Wrapper function for batch processing\n",
        "def apply_move_wrapper(grid, move, position_x, position_y):\n",
        "    grid_modified = tf.map_fn(lambda x: apply_move(x[0], x[1], x[2], x[3])[0],\n",
        "                              (grid, move, position_x, position_y), dtype=tf.float32)\n",
        "    return grid_modified\n"
      ],
      "metadata": {
        "id": "_5z4gUVoO3zl"
      },
      "execution_count": 78,
      "outputs": []
    },
    {
      "cell_type": "code",
      "source": [
        "grid_modified = apply_move_wrapper(flattened_challenges[:batch_size], move, position_x, position_y)"
      ],
      "metadata": {
        "id": "WAd28VJvgzGu"
      },
      "execution_count": 79,
      "outputs": []
    },
    {
      "cell_type": "code",
      "source": [
        "print(position_x.shape, move.shape)"
      ],
      "metadata": {
        "colab": {
          "base_uri": "https://localhost:8080/"
        },
        "id": "w2TROocnktco",
        "outputId": "681316cd-c799-4bb6-9379-03af291b5aa2"
      },
      "execution_count": 80,
      "outputs": [
        {
          "output_type": "stream",
          "name": "stdout",
          "text": [
            "(5, 30) (5, 10)\n"
          ]
        }
      ]
    },
    {
      "cell_type": "code",
      "source": [
        "for i in range(5):\n",
        "    cmap, norm = get_color_map(number_of_categories=9)\n",
        "\n",
        "    plt.subplot(1, 2, 1)\n",
        "    plt.title('input')\n",
        "    plt.imshow(np.argmax(flattened_challenges[i], axis=-1), interpolation='nearest', cmap=cmap, norm=norm)\n",
        "    plt.axis('off')\n",
        "    plt.subplot(1, 2, 2)\n",
        "    plt.title('output')\n",
        "    plt.imshow(np.argmax(grid_modified[i], axis=-1), interpolation='nearest', cmap=cmap, norm=norm)\n",
        "    plt.axis('off')\n",
        "    plt.show()"
      ],
      "metadata": {
        "colab": {
          "base_uri": "https://localhost:8080/",
          "height": 1000
        },
        "id": "5fdxS-Y6h0aJ",
        "outputId": "6fb486d3-f6ef-4144-8703-be53418e3a35"
      },
      "execution_count": 81,
      "outputs": [
        {
          "output_type": "display_data",
          "data": {
            "text/plain": [
              "<Figure size 640x480 with 2 Axes>"
            ],
            "image/png": "[encoded data removed]"
          },
          "metadata": {}
        },
        {
          "output_type": "display_data",
          "data": {
            "text/plain": [
              "<Figure size 640x480 with 2 Axes>"
            ],
            "image/png": "[encoded data removed]"
          },
          "metadata": {}
        },
        {
          "output_type": "display_data",
          "data": {
            "text/plain": [
              "<Figure size 640x480 with 2 Axes>"
            ],
            "image/png": "[encoded data removed]"
          },
          "metadata": {}
        },
        {
          "output_type": "display_data",
          "data": {
            "text/plain": [
              "<Figure size 640x480 with 2 Axes>"
            ],
            "image/png": "[encoded data removed]"
          },
          "metadata": {}
        },
        {
          "output_type": "display_data",
          "data": {
            "text/plain": [
              "<Figure size 640x480 with 2 Axes>"
            ],
            "image/png": "[encoded data removed]"
          },
          "metadata": {}
        }
      ]
    },
    {
      "cell_type": "markdown",
      "source": [
        "## Grid Cell Machines"
      ],
      "metadata": {
        "id": "dymuutfyevQU"
      }
    },
    {
      "cell_type": "code",
      "source": [
        "import random\n",
        "\n",
        "latent_dim = 256\n",
        "\n",
        "class GridLikeEncoding(Model):\n",
        "    def __init__(self, encoder, batch_size=32):\n",
        "      super(GridLikeEncoding, self).__init__()\n",
        "\n",
        "      self.move_encoding = layers.Dense(32, activation=tf.keras.layers.LeakyReLU())\n",
        "      self.position_encoding = layers.Dense(32, activation=tf.keras.layers.LeakyReLU())\n",
        "      self.pos_move_concat = layers.Concatenate(axis=-1)\n",
        "\n",
        "\n",
        "      self.conv = layers.Conv2D(32, (3, 3), activation='swish', padding='same', strides=2)\n",
        "      self.flat = layers.Flatten()\n",
        "      self.visual_1 = layers.Dense(256, activation=tf.keras.layers.LeakyReLU())\n",
        "      self.visual_2 = layers.Dense(128, activation=tf.keras.layers.LeakyReLU())\n",
        "\n",
        "\n",
        "      self.input_concat = layers.Concatenate(axis=-1)\n",
        "      self.input_encoding = layers.Dense(256, activation=tf.keras.layers.LeakyReLU())\n",
        "      self.lstm = keras.layers.LSTM(256)\n",
        "      self.grid_encoder = layers.Dense(512, activation=tf.keras.layers.LeakyReLU())\n",
        "      self.grid_layer = layers.Dense(1024, activation='sigmoid')\n",
        "\n",
        "      self.encoder = encoder\n",
        "      self.encoder.trainable = False\n",
        "\n",
        "      self.nb_moves_train = 10\n",
        "      self.batch_size = batch_size\n",
        "\n",
        "      self.gridlike_encoder = tf.keras.Sequential([\n",
        "        layers.Input(shape=(1024,)),\n",
        "        layers.Dense(1024, activation=tf.keras.layers.LeakyReLU()),\n",
        "        layers.Dropout(0.1),\n",
        "        layers.Dense(1024, activation=tf.keras.layers.LeakyReLU()),\n",
        "        layers.Dense(512, activation=tf.keras.layers.LeakyReLU()),\n",
        "        layers.Dropout(0.1),\n",
        "        layers.Dense(512, activation=tf.keras.layers.LeakyReLU()),\n",
        "        layers.Dense(256, activation=tf.keras.layers.LeakyReLU()),\n",
        "        layers.Dropout(0.1),\n",
        "        layers.Dense(256, activation=tf.keras.layers.LeakyReLU()),\n",
        "        layers.Dense(latent_dim, activation=tf.keras.layers.LeakyReLU()),])\n",
        "\n",
        "\n",
        "    def compile(self, **kwargs):\n",
        "        super().compile(**kwargs)\n",
        "        self.loss_tracker = keras.metrics.Mean(name=\"loss\")\n",
        "\n",
        "    @property\n",
        "    def metrics(self):\n",
        "        return [self.loss_tracker,]\n",
        "\n",
        "    def call(self, inputs):\n",
        "        move_input, position_input, visual_input = inputs\n",
        "\n",
        "        move_encoded = self.move_encoding(move_input)\n",
        "        position_encoded = self.position_encoding(position_input)\n",
        "        pos_move_encoded = self.pos_move_concat([move_encoded, position_encoded])\n",
        "\n",
        "        visual_encoded = self.conv(visual_input)\n",
        "        visual_encoded = self.flat(visual_encoded)\n",
        "        visual_encoded = self.visual_1(visual_encoded)\n",
        "        visual_encoded = self.visual_2(visual_encoded)\n",
        "\n",
        "        combined_input = self.input_concat([pos_move_encoded, visual_encoded])\n",
        "        input_encoded = self.input_encoding(combined_input)\n",
        "\n",
        "        lstm_out = self.lstm(tf.expand_dims(input_encoded, axis=1))\n",
        "\n",
        "        grid_encoded = self.grid_encoder(lstm_out)\n",
        "        grid_out = self.grid_layer(grid_encoded)\n",
        "\n",
        "        latent_representation = self.gridlike_encoder(grid_out)\n",
        "\n",
        "        return latent_representation\n",
        "\n",
        "    def train_step(self, input_grids):\n",
        "\n",
        "        grid_modified = input_grids\n",
        "        moves = []\n",
        "        positions = []\n",
        "        historic = [input_grids, ]\n",
        "\n",
        "        for i in range(self.nb_moves_train):\n",
        "            move, position_x, position_y = generate_random_move(self.batch_size)\n",
        "            moves.append(move)\n",
        "            positions.append(np.concatenate([position_x, position_y], axis=-1))\n",
        "            grid_modified = apply_move_wrapper(grid_modified, move, position_x, position_y)\n",
        "            historic.append(grid_modified)\n",
        "\n",
        "        ground_truth_encoding = self.encoder(grid_modified)\n",
        "\n",
        "        moves = np.array(moves)\n",
        "        positions= np.array(positions)\n",
        "\n",
        "        y = input_grids\n",
        "        with tf.GradientTape() as tape:\n",
        "            for i in range(self.nb_moves_train):\n",
        "                visual = historic[i] if random.randint(0, 100) <= 10 else tf.zeros_like(historic[i])\n",
        "                y = self.call([moves[i], positions[i], visual])\n",
        "            loss = self.loss(ground_truth_encoding, y)\n",
        "\n",
        "        gradients_model = tape.gradient(loss, self.trainable_weights)\n",
        "        self.optimizer.apply_gradients(zip(gradients_model, self.trainable_weights))\n",
        "\n",
        "        self.loss_tracker.update_state(loss)\n",
        "        return {m.name: m.result() for m in self.metrics}\n",
        "\n",
        "    def test_step(self, input_grids):\n",
        "\n",
        "        grid_modified = input_grids\n",
        "        moves = []\n",
        "        positions = []\n",
        "        historic = [input_grids, ]\n",
        "\n",
        "        for i in range(self.nb_moves_train):\n",
        "            move, position_x, position_y = generate_random_move(self.batch_size)\n",
        "            moves.append(move)\n",
        "            positions.append(np.concatenate([position_x, position_y], axis=-1))\n",
        "            grid_modified = apply_move_wrapper(grid_modified, move, position_x, position_y)\n",
        "            historic.append(grid_modified)\n",
        "\n",
        "        ground_truth_encoding = self.encoder(grid_modified)\n",
        "\n",
        "        moves = np.array(moves)\n",
        "        positions= np.array(positions)\n",
        "\n",
        "        y = input_grids\n",
        "        for i in range(self.nb_moves_train):\n",
        "\n",
        "            visual = historic[i] if random.randint(0, 100) <= 10 else tf.zeros_like(historic[i])\n",
        "\n",
        "            y = self.call([moves[i], positions[i], visual])\n",
        "        loss = self.loss(ground_truth_encoding, y)\n",
        "\n",
        "        self.loss_tracker.update_state(loss)\n",
        "        return {m.name: m.result() for m in self.metrics}"
      ],
      "metadata": {
        "id": "GYSlZEgLd0cd"
      },
      "execution_count": 106,
      "outputs": []
    },
    {
      "cell_type": "code",
      "source": [
        "gridlike_model = GridLikeEncoding(autoencoder.encoder)"
      ],
      "metadata": {
        "id": "67LxcQELuXO1"
      },
      "execution_count": 107,
      "outputs": []
    },
    {
      "cell_type": "code",
      "source": [
        "gridlike_model.compile(optimizer=keras.optimizers.Adam(learning_rate=5e-4), loss=losses.MeanSquaredError())\n",
        "gridlike_model.build([None, flattened_challenges.shape[1], flattened_challenges.shape[2], 10])"
      ],
      "metadata": {
        "colab": {
          "base_uri": "https://localhost:8080/"
        },
        "id": "AVj5s2f1y9-O",
        "outputId": "627473ba-a7c6-4a43-fafe-1d51b9f57cfe"
      },
      "execution_count": 108,
      "outputs": [
        {
          "output_type": "stream",
          "name": "stderr",
          "text": [
            "/usr/local/lib/python3.11/dist-packages/keras/src/layers/layer.py:393: UserWarning: `build()` was called on layer 'grid_like_encoding_4', however the layer does not have a `build()` method implemented and it looks like it has unbuilt state. This will cause the layer to be marked as built, despite not being actually built, which may cause failures down the line. Make sure to implement a proper `build()` method.\n",
            "  warnings.warn(\n"
          ]
        }
      ]
    },
    {
      "cell_type": "code",
      "source": [
        "batch_size = 5\n",
        "move, position_x, position_y = generate_random_move(batch_size)\n",
        "position = np.concatenate([position_x, position_y], axis=-1)\n",
        "gridlike_model.call([move, position, flattened_challenges[:batch_size]])"
      ],
      "metadata": {
        "colab": {
          "base_uri": "https://localhost:8080/"
        },
        "id": "3iedKzoVzhxM",
        "outputId": "0b31fbaf-546a-4ca1-a307-df88516123f2"
      },
      "execution_count": 109,
      "outputs": [
        {
          "output_type": "execute_result",
          "data": {
            "text/plain": [
              "<tf.Tensor: shape=(5, 256), dtype=float32, numpy=\n",
              "array([[ 0.00622227, -0.00143476,  0.10779781, ...,  0.02414847,\n",
              "         0.1571708 , -0.0405066 ],\n",
              "       [ 0.00672287, -0.00135358,  0.1081963 , ...,  0.0241795 ,\n",
              "         0.15719162, -0.04061355],\n",
              "       [ 0.00620278, -0.00135303,  0.10777045, ...,  0.02401191,\n",
              "         0.15720253, -0.04041557],\n",
              "       [ 0.00599228, -0.0015014 ,  0.10800695, ...,  0.02416752,\n",
              "         0.15701607, -0.04041313],\n",
              "       [ 0.00648571, -0.00145908,  0.10781217, ...,  0.02384714,\n",
              "         0.15731333, -0.04046643]], dtype=float32)>"
            ]
          },
          "metadata": {},
          "execution_count": 109
        }
      ]
    },
    {
      "cell_type": "code",
      "source": [
        "flattened_challenges.shape"
      ],
      "metadata": {
        "colab": {
          "base_uri": "https://localhost:8080/"
        },
        "id": "khcpXzYD719H",
        "outputId": "3e6d7b79-b0dc-4ff4-dfeb-7f45aafdf57b"
      },
      "execution_count": 110,
      "outputs": [
        {
          "output_type": "execute_result",
          "data": {
            "text/plain": [
              "(2604, 30, 30, 10)"
            ]
          },
          "metadata": {},
          "execution_count": 110
        }
      ]
    },
    {
      "cell_type": "code",
      "source": [
        "history = gridlike_model.fit(flattened_challenges,\n",
        "                             epochs=100,\n",
        "                             batch_size=32,\n",
        "                             shuffle=True,\n",
        "                             validation_split=0.2)"
      ],
      "metadata": {
        "colab": {
          "base_uri": "https://localhost:8080/",
          "height": 383
        },
        "id": "J9lU91Mm3Y8E",
        "outputId": "8a94f8e3-21ae-4e7c-810c-f339afd67e55"
      },
      "execution_count": 111,
      "outputs": [
        {
          "output_type": "stream",
          "name": "stdout",
          "text": [
            "Epoch 1/100\n"
          ]
        },
        {
          "output_type": "error",
          "ename": "ValueError",
          "evalue": "Dimensions must be equal, but are 15 and 32 for '{{node mean_squared_error/sub}} = Sub[T=DT_FLOAT](sequential_1/dense_6_1/leaky_re_lu_6_1/LeakyRelu, sequential_6_19/dense_83_1/leaky_re_lu_78_1/LeakyRelu)' with input shapes: [?,15,15,256], [32,256].",
          "traceback": [
            "\u001b[0;31m---------------------------------------------------------------------------\u001b[0m",
            "\u001b[0;31mValueError\u001b[0m                                Traceback (most recent call last)",
            "\u001b[0;32m<ipython-input-111-6bd4a02ffc49>\u001b[0m in \u001b[0;36m<cell line: 0>\u001b[0;34m()\u001b[0m\n\u001b[0;32m----> 1\u001b[0;31m history = gridlike_model.fit(flattened_challenges,\n\u001b[0m\u001b[1;32m      2\u001b[0m                              \u001b[0mepochs\u001b[0m\u001b[0;34m=\u001b[0m\u001b[0;36m100\u001b[0m\u001b[0;34m,\u001b[0m\u001b[0;34m\u001b[0m\u001b[0;34m\u001b[0m\u001b[0m\n\u001b[1;32m      3\u001b[0m                              \u001b[0mbatch_size\u001b[0m\u001b[0;34m=\u001b[0m\u001b[0;36m32\u001b[0m\u001b[0;34m,\u001b[0m\u001b[0;34m\u001b[0m\u001b[0;34m\u001b[0m\u001b[0m\n\u001b[1;32m      4\u001b[0m                              \u001b[0mshuffle\u001b[0m\u001b[0;34m=\u001b[0m\u001b[0;32mTrue\u001b[0m\u001b[0;34m,\u001b[0m\u001b[0;34m\u001b[0m\u001b[0;34m\u001b[0m\u001b[0m\n\u001b[1;32m      5\u001b[0m                              validation_split=0.2)\n",
            "\u001b[0;32m/usr/local/lib/python3.11/dist-packages/keras/src/utils/traceback_utils.py\u001b[0m in \u001b[0;36merror_handler\u001b[0;34m(*args, **kwargs)\u001b[0m\n\u001b[1;32m    120\u001b[0m             \u001b[0;31m# To get the full stack trace, call:\u001b[0m\u001b[0;34m\u001b[0m\u001b[0;34m\u001b[0m\u001b[0m\n\u001b[1;32m    121\u001b[0m             \u001b[0;31m# `keras.config.disable_traceback_filtering()`\u001b[0m\u001b[0;34m\u001b[0m\u001b[0;34m\u001b[0m\u001b[0m\n\u001b[0;32m--> 122\u001b[0;31m             \u001b[0;32mraise\u001b[0m \u001b[0me\u001b[0m\u001b[0;34m.\u001b[0m\u001b[0mwith_traceback\u001b[0m\u001b[0;34m(\u001b[0m\u001b[0mfiltered_tb\u001b[0m\u001b[0;34m)\u001b[0m \u001b[0;32mfrom\u001b[0m \u001b[0;32mNone\u001b[0m\u001b[0;34m\u001b[0m\u001b[0;34m\u001b[0m\u001b[0m\n\u001b[0m\u001b[1;32m    123\u001b[0m         \u001b[0;32mfinally\u001b[0m\u001b[0;34m:\u001b[0m\u001b[0;34m\u001b[0m\u001b[0;34m\u001b[0m\u001b[0m\n\u001b[1;32m    124\u001b[0m             \u001b[0;32mdel\u001b[0m \u001b[0mfiltered_tb\u001b[0m\u001b[0;34m\u001b[0m\u001b[0;34m\u001b[0m\u001b[0m\n",
            "\u001b[0;32m<ipython-input-106-dd4d2e94db6b>\u001b[0m in \u001b[0;36mtrain_step\u001b[0;34m(self, input_grids)\u001b[0m\n\u001b[1;32m    100\u001b[0m                 \u001b[0mvisual\u001b[0m \u001b[0;34m=\u001b[0m \u001b[0mhistoric\u001b[0m\u001b[0;34m[\u001b[0m\u001b[0mi\u001b[0m\u001b[0;34m]\u001b[0m \u001b[0;32mif\u001b[0m \u001b[0mrandom\u001b[0m\u001b[0;34m.\u001b[0m\u001b[0mrandint\u001b[0m\u001b[0;34m(\u001b[0m\u001b[0;36m0\u001b[0m\u001b[0;34m,\u001b[0m \u001b[0;36m100\u001b[0m\u001b[0;34m)\u001b[0m \u001b[0;34m<=\u001b[0m \u001b[0;36m10\u001b[0m \u001b[0;32melse\u001b[0m \u001b[0mtf\u001b[0m\u001b[0;34m.\u001b[0m\u001b[0mzeros_like\u001b[0m\u001b[0;34m(\u001b[0m\u001b[0mhistoric\u001b[0m\u001b[0;34m[\u001b[0m\u001b[0mi\u001b[0m\u001b[0;34m]\u001b[0m\u001b[0;34m)\u001b[0m\u001b[0;34m\u001b[0m\u001b[0;34m\u001b[0m\u001b[0m\n\u001b[1;32m    101\u001b[0m                 \u001b[0my\u001b[0m \u001b[0;34m=\u001b[0m \u001b[0mself\u001b[0m\u001b[0;34m.\u001b[0m\u001b[0mcall\u001b[0m\u001b[0;34m(\u001b[0m\u001b[0;34m[\u001b[0m\u001b[0mmoves\u001b[0m\u001b[0;34m[\u001b[0m\u001b[0mi\u001b[0m\u001b[0;34m]\u001b[0m\u001b[0;34m,\u001b[0m \u001b[0mpositions\u001b[0m\u001b[0;34m[\u001b[0m\u001b[0mi\u001b[0m\u001b[0;34m]\u001b[0m\u001b[0;34m,\u001b[0m \u001b[0mvisual\u001b[0m\u001b[0;34m]\u001b[0m\u001b[0;34m)\u001b[0m\u001b[0;34m\u001b[0m\u001b[0;34m\u001b[0m\u001b[0m\n\u001b[0;32m--> 102\u001b[0;31m             \u001b[0mloss\u001b[0m \u001b[0;34m=\u001b[0m \u001b[0mself\u001b[0m\u001b[0;34m.\u001b[0m\u001b[0mloss\u001b[0m\u001b[0;34m(\u001b[0m\u001b[0mground_truth_encoding\u001b[0m\u001b[0;34m,\u001b[0m \u001b[0my\u001b[0m\u001b[0;34m)\u001b[0m\u001b[0;34m\u001b[0m\u001b[0;34m\u001b[0m\u001b[0m\n\u001b[0m\u001b[1;32m    103\u001b[0m \u001b[0;34m\u001b[0m\u001b[0m\n\u001b[1;32m    104\u001b[0m         \u001b[0mgradients_model\u001b[0m \u001b[0;34m=\u001b[0m \u001b[0mtape\u001b[0m\u001b[0;34m.\u001b[0m\u001b[0mgradient\u001b[0m\u001b[0;34m(\u001b[0m\u001b[0mloss\u001b[0m\u001b[0;34m,\u001b[0m \u001b[0mself\u001b[0m\u001b[0;34m.\u001b[0m\u001b[0mtrainable_weights\u001b[0m\u001b[0;34m)\u001b[0m\u001b[0;34m\u001b[0m\u001b[0;34m\u001b[0m\u001b[0m\n",
            "\u001b[0;31mValueError\u001b[0m: Dimensions must be equal, but are 15 and 32 for '{{node mean_squared_error/sub}} = Sub[T=DT_FLOAT](sequential_1/dense_6_1/leaky_re_lu_6_1/LeakyRelu, sequential_6_19/dense_83_1/leaky_re_lu_78_1/LeakyRelu)' with input shapes: [?,15,15,256], [32,256]."
          ]
        }
      ]
    }
  ]
}