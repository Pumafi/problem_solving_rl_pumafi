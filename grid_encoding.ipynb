{
  "nbformat": 4,
  "nbformat_minor": 0,
  "metadata": {
    "colab": {
      "provenance": [],
      "gpuType": "T4",
      "include_colab_link": true
    },
    "kernelspec": {
      "name": "python3",
      "display_name": "Python 3"
    },
    "language_info": {
      "name": "python"
    },
    "accelerator": "GPU"
  },
  "cells": [
    {
      "cell_type": "markdown",
      "metadata": {
        "id": "view-in-github",
        "colab_type": "text"
      },
      "source": [
        "<a href=\"https://colab.research.google.com/github/Pumafi/problem_solving_rl_pumafi/blob/main/grid_encoding.ipynb\" target=\"_parent\"><img src=\"https://colab.research.google.com/assets/colab-badge.svg\" alt=\"Open In Colab\"/></a>"
      ]
    },
    {
      "cell_type": "code",
      "execution_count": 1,
      "metadata": {
        "colab": {
          "base_uri": "https://localhost:8080/"
        },
        "id": "XLBEvBpgYjNo",
        "outputId": "580bbea0-f36c-4994-b7fe-0b60ec3b17d2"
      },
      "outputs": [
        {
          "output_type": "stream",
          "name": "stdout",
          "text": [
            "/content\n",
            "Cloning into 'problem_solving_rl_pumafi'...\n",
            "remote: Enumerating objects: 23, done.\u001b[K\n",
            "remote: Counting objects: 100% (23/23), done.\u001b[K\n",
            "remote: Compressing objects: 100% (21/21), done.\u001b[K\n",
            "remote: Total 23 (delta 3), reused 0 (delta 0), pack-reused 0 (from 0)\u001b[K\n",
            "Receiving objects: 100% (23/23), 17.98 MiB | 10.08 MiB/s, done.\n",
            "Resolving deltas: 100% (3/3), done.\n",
            "/content/problem_solving_rl_pumafi\n"
          ]
        }
      ],
      "source": [
        "RUNNING_IN_COLAB = True\n",
        "\n",
        "%cd /content\n",
        "\n",
        "if RUNNING_IN_COLAB:\n",
        "    REPO_URL = 'https://github.com/Pumafi/problem_solving_rl_pumafi'\n",
        "    BRANCH   = 'main'\n",
        "    REPO_DIR = 'problem_solving_rl_pumafi'\n",
        "\n",
        "    from pathlib import Path\n",
        "\n",
        "    if Path(REPO_DIR).is_dir():\n",
        "      !rm -rf {REPO_DIR}\n",
        "\n",
        "    # Download the repository\n",
        "    if not Path(REPO_DIR).is_dir():\n",
        "        !git clone --branch {BRANCH} --depth=1 -- {REPO_URL} {REPO_DIR}\n",
        "\n",
        "    %cd {REPO_DIR}"
      ]
    },
    {
      "cell_type": "code",
      "source": [
        "from tensorflow import keras\n",
        "import pandas as pd\n",
        "import numpy as np\n",
        "\n",
        "import random\n",
        "import math\n",
        "from tqdm.notebook import trange, tqdm\n",
        "\n",
        "import matplotlib.pyplot as plt\n",
        "from matplotlib import colors\n",
        "\n",
        "\n",
        "from scipy.stats import kde\n",
        "from sklearn.metrics.pairwise import euclidean_distances\n",
        "\n",
        "import tensorflow as tf\n",
        "from keras.utils import to_categorical\n",
        "from tensorflow.keras import layers, losses\n",
        "from tensorflow.keras import regularizers\n",
        "from tensorflow.keras.models import Model"
      ],
      "metadata": {
        "id": "wuqLpqehYmQ2"
      },
      "execution_count": 2,
      "outputs": []
    },
    {
      "cell_type": "code",
      "source": [],
      "metadata": {
        "id": "LvOiHKzWiOfe"
      },
      "execution_count": 2,
      "outputs": []
    },
    {
      "cell_type": "code",
      "source": [
        "# Load code from the repo\n",
        "from utils.data_handling import get_color_map, pad_to_shape, preprocess_challenge_data\n",
        "from utils.preprocess_metalearning_data import filter_and_split_inputs\n",
        "from models.autoencoder import AutoEncoder"
      ],
      "metadata": {
        "id": "XnQHErZ4YmUO"
      },
      "execution_count": 3,
      "outputs": []
    },
    {
      "cell_type": "code",
      "source": [
        "import json\n",
        "\n",
        "def load_json(file_path):\n",
        "    with open(file_path, 'r') as f:\n",
        "        return json.load(f)\n",
        "\n",
        "training_challenges = load_json('./data/arc-agi_training_challenges.json')\n",
        "training_solutions = load_json('./data/arc-agi_training_solutions.json')\n",
        "evaluation_challenges = load_json('./data/arc-agi_evaluation_challenges.json')\n",
        "\n",
        "print(\"Data loaded successfully.\")\n",
        "print(f\"Training tasks: {len(training_challenges)}\")\n",
        "print(f\"Evaluation tasks: {len(evaluation_challenges)}\")"
      ],
      "metadata": {
        "colab": {
          "base_uri": "https://localhost:8080/"
        },
        "id": "Krvii9ISYmXN",
        "outputId": "d48ae5ec-5425-4f91-c5d8-9fd5743a4e6d"
      },
      "execution_count": 4,
      "outputs": [
        {
          "output_type": "stream",
          "name": "stdout",
          "text": [
            "Data loaded successfully.\n",
            "Training tasks: 400\n",
            "Evaluation tasks: 400\n"
          ]
        }
      ]
    },
    {
      "cell_type": "code",
      "source": [
        "# all inputs for meta learning, then the training data for latter\n",
        "challenge_propositioner_inputs, _, _, _, _ = preprocess_challenge_data(training_challenges, training_solutions)\n",
        "print(len(challenge_propositioner_inputs))"
      ],
      "metadata": {
        "colab": {
          "base_uri": "https://localhost:8080/"
        },
        "id": "BoDrfYxudPi0",
        "outputId": "642339bf-8f25-4d2f-ffce-5ee37d7072a0"
      },
      "execution_count": 5,
      "outputs": [
        {
          "output_type": "stream",
          "name": "stdout",
          "text": [
            "400\n"
          ]
        }
      ]
    },
    {
      "cell_type": "code",
      "source": [
        "# In order of access we have:\n",
        "#     challenge_propositioner_inputs [problem_nb (list)] [example_nb (list)] [0/1 - input/output (tuple)] -> [30, 30, 10] (ndarray)\n",
        "\n",
        "# Visualize the size of examples sets (NB: All have at least 2 examples, but 2 is to few for my idea)\n",
        "for i in range(5):\n",
        "  print(\"Problem nb \", i +1, \" | nb examples: \", len(challenge_propositioner_inputs[i]))\n",
        "\n",
        "print(\"\\nSize of one grid: \", challenge_propositioner_inputs[0][0][0].shape)"
      ],
      "metadata": {
        "colab": {
          "base_uri": "https://localhost:8080/"
        },
        "id": "Cv3v5iekYs4N",
        "outputId": "bd75c651-1914-4e3b-a08c-77ff6322d167"
      },
      "execution_count": 6,
      "outputs": [
        {
          "output_type": "stream",
          "name": "stdout",
          "text": [
            "Problem nb  1  | nb examples:  5\n",
            "Problem nb  2  | nb examples:  5\n",
            "Problem nb  3  | nb examples:  3\n",
            "Problem nb  4  | nb examples:  2\n",
            "Problem nb  5  | nb examples:  3\n",
            "\n",
            "Size of one grid:  (30, 30, 10)\n"
          ]
        }
      ]
    },
    {
      "cell_type": "code",
      "source": [
        "flattened_challenges = [\n",
        "    x\n",
        "    for xss in challenge_propositioner_inputs\n",
        "    for xs in xss\n",
        "    for x in xs\n",
        "]\n",
        "\n",
        "flattened_challenges = np.array(flattened_challenges)\n",
        "\n",
        "print(flattened_challenges.shape)"
      ],
      "metadata": {
        "colab": {
          "base_uri": "https://localhost:8080/"
        },
        "id": "q2jDTzmcdYv0",
        "outputId": "83a85584-30b2-4e04-f912-b7def061e32e"
      },
      "execution_count": 7,
      "outputs": [
        {
          "output_type": "stream",
          "name": "stdout",
          "text": [
            "(2604, 30, 30, 10)\n"
          ]
        }
      ]
    },
    {
      "cell_type": "code",
      "source": [
        "cmap, norm = get_color_map(number_of_categories=9)\n",
        "\n",
        "plt.subplot(1, 2, 1)\n",
        "plt.title('input')\n",
        "plt.imshow(np.argmax(challenge_propositioner_inputs[0][0][0], axis=-1), interpolation='nearest', cmap=cmap, norm=norm)\n",
        "plt.axis('off')\n",
        "plt.subplot(1, 2, 2)\n",
        "plt.title('output')\n",
        "plt.imshow(np.argmax(challenge_propositioner_inputs[0][0][1], axis=-1), interpolation='nearest', cmap=cmap, norm=norm)\n",
        "plt.axis('off')\n",
        "plt.show()"
      ],
      "metadata": {
        "colab": {
          "base_uri": "https://localhost:8080/",
          "height": 284
        },
        "id": "_tkp6Um0aUm1",
        "outputId": "4935c77a-1744-4800-d5d4-7c2b4ffa8ab7"
      },
      "execution_count": 8,
      "outputs": [
        {
          "output_type": "display_data",
          "data": {
            "text/plain": [
              "<Figure size 640x480 with 2 Axes>"
            ],
            "image/png": "[encoded data removed]"
          },
          "metadata": {}
        }
      ]
    },
    {
      "cell_type": "code",
      "source": [
        "#NB: for this and place cell, get inspiration from GANs, variational distance for Kozachenko-Leonenko, as well as initializing the ccenter of massesf\n",
        "\n",
        "autoencoder = AutoEncoder()\n",
        "autoencoder.compile(optimizer=keras.optimizers.Adam(learning_rate=5e-4), loss=losses.CategoricalCrossentropy())\n",
        "autoencoder.build([None, flattened_challenges.shape[1], flattened_challenges.shape[2], 10])\n"
      ],
      "metadata": {
        "colab": {
          "base_uri": "https://localhost:8080/"
        },
        "id": "4BmHW-rTctV3",
        "outputId": "4161d47a-386a-471c-eadd-2d7759e5a42d"
      },
      "execution_count": 9,
      "outputs": [
        {
          "output_type": "stream",
          "name": "stderr",
          "text": [
            "/usr/local/lib/python3.11/dist-packages/keras/src/layers/layer.py:393: UserWarning: `build()` was called on layer 'auto_encoder', however the layer does not have a `build()` method implemented and it looks like it has unbuilt state. This will cause the layer to be marked as built, despite not being actually built, which may cause failures down the line. Make sure to implement a proper `build()` method.\n",
            "  warnings.warn(\n"
          ]
        }
      ]
    },
    {
      "cell_type": "code",
      "source": [
        "encoded_imgs = autoencoder.encoder(flattened_challenges[:2]).numpy()\n",
        "decoded_imgs = autoencoder.decoder(encoded_imgs[:2]).numpy()"
      ],
      "metadata": {
        "id": "g-DXsr58dphx"
      },
      "execution_count": 10,
      "outputs": []
    },
    {
      "cell_type": "code",
      "source": [
        "autoencoder.encoder.load_weights(\"weights/weigts-encoder.weights.h5\")\n",
        "autoencoder.decoder.load_weights(\"weights/weigts-decoder.weights.h5\")"
      ],
      "metadata": {
        "id": "k8vo9qQxdiO8"
      },
      "execution_count": 11,
      "outputs": []
    },
    {
      "cell_type": "code",
      "source": [
        "encoded_imgs = autoencoder.encoder(flattened_challenges[:11]).numpy()\n",
        "decoded_imgs = autoencoder.decoder(encoded_imgs[:11]).numpy()"
      ],
      "metadata": {
        "id": "40VnVUFEdxQk"
      },
      "execution_count": 12,
      "outputs": []
    },
    {
      "cell_type": "code",
      "source": [
        "n = 10\n",
        "plt.figure(figsize=(20, 4))\n",
        "for i in range(n):\n",
        "  # display original\n",
        "  ax = plt.subplot(2, n, i + 1)\n",
        "  plt.imshow(np.argmax(flattened_challenges[i], axis=-1), interpolation='nearest', cmap=cmap, norm=norm)\n",
        "  plt.title(\"original\")\n",
        "  #plt.gray()\n",
        "  ax.get_xaxis().set_visible(False)\n",
        "  ax.get_yaxis().set_visible(False)\n",
        "\n",
        "  # display reconstruction\n",
        "  ax = plt.subplot(2, n, i + 1 + n)\n",
        "  plt.imshow(np.argmax(decoded_imgs[i], axis=-1), interpolation='nearest', cmap=cmap, norm=norm)\n",
        "  plt.title(\"reconstructed\")\n",
        "  #plt.gray()\n",
        "  ax.get_xaxis().set_visible(False)\n",
        "  ax.get_yaxis().set_visible(False)\n",
        "plt.show()"
      ],
      "metadata": {
        "colab": {
          "base_uri": "https://localhost:8080/",
          "height": 358
        },
        "id": "FIV0tmBEc_H0",
        "outputId": "b91c3487-b8f6-4a2c-ead3-27feed3ed62a"
      },
      "execution_count": 13,
      "outputs": [
        {
          "output_type": "display_data",
          "data": {
            "text/plain": [
              "<Figure size 2000x400 with 20 Axes>"
            ],
            "image/png": "[encoded data removed]"
          },
          "metadata": {}
        }
      ]
    },
    {
      "cell_type": "markdown",
      "source": [
        "## Move Enconding"
      ],
      "metadata": {
        "id": "jQAcLvAnsU9f"
      }
    },
    {
      "cell_type": "code",
      "source": [
        "def generate_random_move(batch_size):\n",
        "    position_x = np.random.randint(0, 30, (batch_size, 1))\n",
        "    position_y = np.random.randint(0, 30, (batch_size, 1))\n",
        "    n_values = 30\n",
        "    position_x = np.squeeze(np.eye(n_values)[position_x])\n",
        "\n",
        "    n_values = 30\n",
        "    position_y = np.squeeze(np.eye(n_values)[position_y])\n",
        "\n",
        "    move = np.random.randint(0, 10, (batch_size, 1))\n",
        "    n_values = 10\n",
        "    move = np.squeeze(np.eye(n_values)[move])\n",
        "    return move, position_x, position_y"
      ],
      "metadata": {
        "id": "RmLjSVGpsaSe"
      },
      "execution_count": 14,
      "outputs": []
    },
    {
      "cell_type": "code",
      "source": [
        "batch_size = 5\n",
        "\n",
        "move, position_x, position_y = generate_random_move(batch_size)\n",
        "\n",
        "print(position_x.shape, move.shape)"
      ],
      "metadata": {
        "colab": {
          "base_uri": "https://localhost:8080/"
        },
        "id": "i8idc2woeMYu",
        "outputId": "f8226c07-1efb-41c9-8613-d1f2c09a9d2d"
      },
      "execution_count": 15,
      "outputs": [
        {
          "output_type": "stream",
          "name": "stdout",
          "text": [
            "(5, 30) (5, 10)\n"
          ]
        }
      ]
    },
    {
      "cell_type": "code",
      "source": [
        "import tensorflow as tf\n",
        "\n",
        "# Do a wrapper and apply using a mapping\n",
        "\n",
        "def apply_move(grid, move, position_x, position_y):\n",
        "    position_x = tf.argmax(position_x, axis=-1)\n",
        "    position_y = tf.argmax(position_y, axis=-1)\n",
        "    grid_modified = tf.identity(grid)\n",
        "    print(grid.dtype, grid_modified.dtype, move.dtype)\n",
        "    move = tf.cast(move, tf.float32)\n",
        "    move = tf.cast(grid_modified, tf.float32)\n",
        "    print(move.shape, grid_modified.shape)\n",
        "    grid_modified = tf.tensor_scatter_nd_update(grid_modified, [position_x, position_y], move)\n",
        "    return grid_modified, move, position_x, position_y\n",
        "\n",
        "def apply_move_wrapper(grid, move, position_x, position_y):\n",
        "    #grid_modified,_, _, _ =\n",
        "    tf.map_fn(lambda x: apply_move(x[0], x[1], x[2], x[3]), (grid, move, position_x, position_y))\n",
        "    return None #grid_modified"
      ],
      "metadata": {
        "id": "-EZ5UaCMgCzH"
      },
      "execution_count": 16,
      "outputs": []
    },
    {
      "cell_type": "code",
      "source": [
        "import tensorflow as tf\n",
        "\n",
        "# Function to apply move on a single instance\n",
        "def apply_move(grid, move, position_x, position_y):\n",
        "    position_x = tf.argmax(position_x, axis=-1)\n",
        "    position_y = tf.argmax(position_y, axis=-1)\n",
        "\n",
        "    grid_modified = tf.identity(grid)\n",
        "\n",
        "    move = tf.cast(move, tf.float32)\n",
        "    grid_modified = tf.cast(grid_modified, tf.float32)\n",
        "\n",
        "\n",
        "    # Ensure indices are correctly shaped\n",
        "    indices = tf.stack([[position_x, position_y]], axis=0)  # Shape (1, 2)\n",
        "\n",
        "    # Apply the move\n",
        "    grid_modified = tf.tensor_scatter_nd_update(grid_modified, indices, [move])\n",
        "\n",
        "    return grid_modified, move, position_x, position_y\n",
        "\n",
        "# Wrapper function for batch processing\n",
        "def apply_move_wrapper(grid, move, position_x, position_y):\n",
        "    grid_modified = tf.map_fn(lambda x: apply_move(x[0], x[1], x[2], x[3])[0],\n",
        "                              (grid, move, position_x, position_y), dtype=tf.float32)\n",
        "    return grid_modified\n"
      ],
      "metadata": {
        "id": "_5z4gUVoO3zl"
      },
      "execution_count": 17,
      "outputs": []
    },
    {
      "cell_type": "code",
      "source": [
        "grid_modified = apply_move_wrapper(flattened_challenges[:batch_size], move, position_x, position_y)"
      ],
      "metadata": {
        "id": "WAd28VJvgzGu"
      },
      "execution_count": 18,
      "outputs": []
    },
    {
      "cell_type": "code",
      "source": [
        "print(position_x.shape, move.shape)"
      ],
      "metadata": {
        "colab": {
          "base_uri": "https://localhost:8080/"
        },
        "id": "w2TROocnktco",
        "outputId": "e04a5029-e3e9-4338-8a55-728af79e08a4"
      },
      "execution_count": 19,
      "outputs": [
        {
          "output_type": "stream",
          "name": "stdout",
          "text": [
            "(5, 30) (5, 10)\n"
          ]
        }
      ]
    },
    {
      "cell_type": "code",
      "source": [
        "for i in range(5):\n",
        "    cmap, norm = get_color_map(number_of_categories=9)\n",
        "\n",
        "    plt.subplot(1, 2, 1)\n",
        "    plt.title('input')\n",
        "    plt.imshow(np.argmax(flattened_challenges[i], axis=-1), interpolation='nearest', cmap=cmap, norm=norm)\n",
        "    plt.axis('off')\n",
        "    plt.subplot(1, 2, 2)\n",
        "    plt.title('output')\n",
        "    plt.imshow(np.argmax(grid_modified[i], axis=-1), interpolation='nearest', cmap=cmap, norm=norm)\n",
        "    plt.axis('off')\n",
        "    plt.show()"
      ],
      "metadata": {
        "colab": {
          "base_uri": "https://localhost:8080/",
          "height": 1000
        },
        "id": "5fdxS-Y6h0aJ",
        "outputId": "583db42b-eea9-47ec-dc07-179cf29677db"
      },
      "execution_count": 20,
      "outputs": [
        {
          "output_type": "display_data",
          "data": {
            "text/plain": [
              "<Figure size 640x480 with 2 Axes>"
            ],
            "image/png": "[encoded data removed]"
          },
          "metadata": {}
        },
        {
          "output_type": "display_data",
          "data": {
            "text/plain": [
              "<Figure size 640x480 with 2 Axes>"
            ],
            "image/png": "[encoded data removed]"
          },
          "metadata": {}
        },
        {
          "output_type": "display_data",
          "data": {
            "text/plain": [
              "<Figure size 640x480 with 2 Axes>"
            ],
            "image/png": "[encoded data removed]"
          },
          "metadata": {}
        },
        {
          "output_type": "display_data",
          "data": {
            "text/plain": [
              "<Figure size 640x480 with 2 Axes>"
            ],
            "image/png": "[encoded data removed]"
          },
          "metadata": {}
        },
        {
          "output_type": "display_data",
          "data": {
            "text/plain": [
              "<Figure size 640x480 with 2 Axes>"
            ],
            "image/png": "[encoded data removed]"
          },
          "metadata": {}
        }
      ]
    },
    {
      "cell_type": "code",
      "source": [
        "class Conv2DLSTMCell(keras.Layer):\n",
        "    def __init__(self, kernel_size, filters, size=(15, 15), **kwargs):\n",
        "        super(Conv2DLSTMCell, self).__init__(**kwargs)\n",
        "        self.height=size[0]\n",
        "        self.width=size[1]\n",
        "        self.filters = filters\n",
        "        self.kernel_size = kernel_size\n",
        "        self.conv = layers.Conv2D(filters * 4, kernel_size, padding=\"same\", activation=None)\n",
        "        self.state_size = [tf.TensorShape([self.height, self.width, filters]), tf.TensorShape([self.height, self.width, filters])]\n",
        "        self.h_prev = None\n",
        "        self.c_prev = None\n",
        "\n",
        "    def initialize(self, inputs):\n",
        "        '''\n",
        "        Initialize the hidden cell states H\n",
        "        '''\n",
        "\n",
        "        batch_size, _, _, _ = inputs.shape\n",
        "\n",
        "        self.h_prev = tf.zeros([batch_size, self.height, self.width, self.filters])\n",
        "        self.c_prev = tf.zeros([batch_size, self.height, self.width, self.filters])\n",
        "\n",
        "    def build(self, input_shape):\n",
        "        self.batch_size, self.height, self.width, _ = input_shape\n",
        "        self.built = True\n",
        "\n",
        "    def call(self, inputs, t, training=None):\n",
        "        grid = inputs\n",
        "        if t == 0:\n",
        "            self.initialize(grid)\n",
        "\n",
        "        concat_inputs = tf.concat([grid, self.h_prev], axis=-1)\n",
        "        conv_output = self.conv(concat_inputs)\n",
        "\n",
        "        f, i, o, g = tf.split(conv_output, num_or_size_splits=4, axis=-1)\n",
        "        f = tf.sigmoid(f)\n",
        "        i = tf.sigmoid(i)\n",
        "        o = tf.sigmoid(o)\n",
        "        g = tf.tanh(g)\n",
        "\n",
        "        self.c_next = f * self.c_prev + i * g\n",
        "        outputs = o * tf.tanh(self.c_next)\n",
        "        self.h_next = outputs\n",
        "\n",
        "        return outputs"
      ],
      "metadata": {
        "id": "QawYuXpugGwV"
      },
      "execution_count": 28,
      "outputs": []
    },
    {
      "cell_type": "code",
      "source": [
        "autoencoder.encoder.layers"
      ],
      "metadata": {
        "id": "kONP9hdrubMI",
        "outputId": "2a9702dd-8a6a-457b-8391-5e560f4e9da8",
        "colab": {
          "base_uri": "https://localhost:8080/"
        }
      },
      "execution_count": 29,
      "outputs": [
        {
          "output_type": "execute_result",
          "data": {
            "text/plain": [
              "[<Conv2D name=conv2d, built=True>,\n",
              " <Dense name=dense, built=True>,\n",
              " <Dropout name=dropout, built=True>,\n",
              " <Dense name=dense_1, built=True>,\n",
              " <Dense name=dense_2, built=True>,\n",
              " <Dropout name=dropout_1, built=True>,\n",
              " <Dense name=dense_3, built=True>,\n",
              " <Dense name=dense_4, built=True>,\n",
              " <Dropout name=dropout_2, built=True>,\n",
              " <Dense name=dense_5, built=True>,\n",
              " <Dense name=dense_6, built=True>]"
            ]
          },
          "metadata": {},
          "execution_count": 29
        }
      ]
    },
    {
      "cell_type": "markdown",
      "source": [
        "## Grid Cell Machines"
      ],
      "metadata": {
        "id": "dymuutfyevQU"
      }
    },
    {
      "cell_type": "code",
      "source": [
        "import random\n",
        "\n",
        "latent_dim = 256\n",
        "\n",
        "class GridLikeEncoding(Model):\n",
        "    def __init__(self, encoder, batch_size=32):\n",
        "      super(GridLikeEncoding, self).__init__()\n",
        "\n",
        "      self.move_encoding = layers.Dense(32, activation=tf.keras.layers.LeakyReLU())\n",
        "      self.move_encoding_1 = layers.Dense(64, activation=tf.keras.layers.LeakyReLU())\n",
        "\n",
        "      self.position_encoding = layers.Dense(32, activation=tf.keras.layers.LeakyReLU())\n",
        "      self.position_encoding_y = layers.Dense(32, activation=tf.keras.layers.LeakyReLU())\n",
        "      self.position_encoding_x = layers.Dense(32, activation=tf.keras.layers.LeakyReLU())\n",
        "      self.pos_concat = layers.Concatenate(axis=-1)\n",
        "      self.position_encoding_comb = layers.Dense(64, activation=tf.keras.layers.LeakyReLU())\n",
        "\n",
        "      self.pos_move_concat = layers.Concatenate(axis=-1)\n",
        "      self.conv_encoding = layers.Conv2D(128, (3, 3), activation='swish', padding='same', strides=2)\n",
        "\n",
        "\n",
        "      self.conv = layers.Conv2D(32, (3, 3), activation='swish', padding='same', strides=2)\n",
        "      #self.flat = layers.Flatten()\n",
        "      self.visual_1 = layers.Dense(256, activation=tf.keras.layers.LeakyReLU())\n",
        "      self.visual_2 = layers.Dense(128, activation=tf.keras.layers.LeakyReLU())\n",
        "\n",
        "\n",
        "      self.input_concat = layers.Concatenate(axis=-1)\n",
        "      self.input_encoding = layers.Dense(256, activation=tf.keras.layers.LeakyReLU())\n",
        "\n",
        "      self.lstm = Conv2DLSTMCell((3,3), 256)\n",
        "\n",
        "      self.grid_encoder = layers.Dense(512, activation=tf.keras.layers.LeakyReLU())\n",
        "      self.grid_layer = layers.Dense(1024, activation='sigmoid')\n",
        "\n",
        "      self.encoder = encoder\n",
        "\n",
        "\n",
        "      self.nb_moves_train = 10\n",
        "      self.batch_size = batch_size\n",
        "\n",
        "      self.gridlike_encoder = tf.keras.Sequential([\n",
        "        layers.Input(shape=(15, 15, 1024,)),\n",
        "        layers.Dense(1024, activation=tf.keras.layers.LeakyReLU()),\n",
        "        layers.Dropout(0.1),\n",
        "        layers.Dense(1024, activation=tf.keras.layers.LeakyReLU()),\n",
        "        layers.Dense(512, activation=tf.keras.layers.LeakyReLU()),\n",
        "        layers.Dropout(0.1),\n",
        "        layers.Dense(512, activation=tf.keras.layers.LeakyReLU()),\n",
        "        layers.Dense(256, activation=tf.keras.layers.LeakyReLU()),\n",
        "        layers.Dropout(0.1),\n",
        "        layers.Dense(256, activation=tf.keras.layers.LeakyReLU()),\n",
        "        layers.Dense(latent_dim, activation=tf.keras.layers.LeakyReLU()),])\n",
        "\n",
        "      old_layers = self.encoder.layers[2:]\n",
        "      new_layers = self.gridlike_encoder.layers[1:]\n",
        "\n",
        "      for i in range(len(new_layers)):\n",
        "          if isinstance(new_layers[i], layers.Dense) and isinstance(old_layers[i], layers.Dense):\n",
        "              new_layers[i].set_weights(old_layers[i].get_weights())\n",
        "\n",
        "      self.encoder.trainable = False\n",
        "\n",
        "\n",
        "    def compile(self, **kwargs):\n",
        "        super().compile(**kwargs)\n",
        "        self.loss_tracker = keras.metrics.Mean(name=\"loss\")\n",
        "\n",
        "    @property\n",
        "    def metrics(self):\n",
        "        return [self.loss_tracker,]\n",
        "\n",
        "    def call(self, inputs, t):\n",
        "        move_input, position_x, position_y, visual_input = inputs\n",
        "\n",
        "        move_encoded = self.move_encoding(move_input)\n",
        "        move_encoded = self.move_encoding_1(move_encoded)\n",
        "\n",
        "        position_encoded_x = self.position_encoding(position_x)\n",
        "        position_encoded_x = self.position_encoding_x(position_encoded_x)\n",
        "        position_encoded_y = self.position_encoding(position_y)\n",
        "        position_encoded_y = self.position_encoding_y(position_encoded_y)\n",
        "\n",
        "        position = self.pos_concat([position_encoded_x, position_encoded_y])\n",
        "        position = self.position_encoding_comb(position)\n",
        "\n",
        "\n",
        "        pos_move_encoded = self.pos_move_concat([move_encoded, position])\n",
        "        pos_move_encoded = self.conv_encoding(pos_move_encoded)\n",
        "\n",
        "        visual_encoded = self.conv(visual_input)\n",
        "        #visual_encoded = self.flat(visual_encoded)\n",
        "        visual_encoded = self.visual_1(visual_encoded)\n",
        "        visual_encoded = self.visual_2(visual_encoded)\n",
        "\n",
        "        combined_input = self.input_concat([pos_move_encoded, visual_encoded])\n",
        "        input_encoded = self.input_encoding(combined_input)\n",
        "\n",
        "        #input_encoded = tf.squeeze(input_encoded)\n",
        "\n",
        "        lstm_out = self.lstm.call(input_encoded, t=t)\n",
        "\n",
        "        grid_encoded = self.grid_encoder(lstm_out)\n",
        "        grid_out = self.grid_layer(grid_encoded)\n",
        "\n",
        "        latent_representation = self.gridlike_encoder(grid_out)\n",
        "\n",
        "        return latent_representation\n",
        "\n",
        "    def train_step(self, input_grids):\n",
        "\n",
        "        grid_modified = input_grids\n",
        "        moves = []\n",
        "        positions_x = []\n",
        "        positions_y = []\n",
        "        historic = [input_grids, ]\n",
        "\n",
        "        for i in range(self.nb_moves_train):\n",
        "            move, position_x, position_y = generate_random_move(self.batch_size)\n",
        "\n",
        "            grid_modified = apply_move_wrapper(grid_modified, move, position_x, position_y)\n",
        "            historic.append(grid_modified)\n",
        "\n",
        "            move = tf.expand_dims(tf.expand_dims(move, axis=1), axis=1)\n",
        "            move = tf.tile(move, [1, 30, 30, 1])\n",
        "\n",
        "            position_x = tf.expand_dims(tf.expand_dims(position_x, axis=1), axis=1)\n",
        "            position_x = tf.tile(position_x, [1, 30, 30, 1])\n",
        "\n",
        "            position_y = tf.expand_dims(tf.expand_dims(position_y, axis=1), axis=1)\n",
        "            position_y = tf.tile(position_y, [1, 30, 30, 1])\n",
        "\n",
        "            moves.append(move)\n",
        "            positions_x.append(position_x)\n",
        "            positions_y.append(position_y)\n",
        "\n",
        "\n",
        "\n",
        "        ground_truth_encoding = self.encoder(grid_modified)\n",
        "\n",
        "        #moves = np.array(moves)\n",
        "        #positions_x = np.array(positions_x)\n",
        "        #positions_y = np.array(positions_y)\n",
        "\n",
        "\n",
        "        y = input_grids\n",
        "        with tf.GradientTape() as tape:\n",
        "            for i in range(self.nb_moves_train):\n",
        "                if i == 0:\n",
        "                  visual = historic[i]\n",
        "                else:\n",
        "                  visual = historic[i] if random.randint(0, 100) <= 10 else tf.zeros_like(historic[i])\n",
        "\n",
        "                y = self.call([moves[i], positions_x[i], positions_y[i], visual], i)\n",
        "            loss = self.loss(ground_truth_encoding, y)\n",
        "\n",
        "        gradients_model = tape.gradient(loss, self.trainable_weights)\n",
        "        self.optimizer.apply_gradients(zip(gradients_model, self.trainable_weights))\n",
        "\n",
        "        self.loss_tracker.update_state(loss)\n",
        "        return {m.name: m.result() for m in self.metrics}\n",
        "\n",
        "    def test_step(self, input_grids):\n",
        "\n",
        "        grid_modified = input_grids\n",
        "        moves = []\n",
        "        positions_x = []\n",
        "        positions_y = []\n",
        "        historic = [input_grids, ]\n",
        "\n",
        "        for i in range(self.nb_moves_train):\n",
        "            move, position_x, position_y = generate_random_move(self.batch_size)\n",
        "\n",
        "            grid_modified = apply_move_wrapper(grid_modified, move, position_x, position_y)\n",
        "            historic.append(grid_modified)\n",
        "\n",
        "            move = tf.expand_dims(tf.expand_dims(move, axis=1), axis=1)\n",
        "            move = tf.tile(move, [1, 30, 30, 1])\n",
        "\n",
        "            position_x = tf.expand_dims(tf.expand_dims(position_x, axis=1), axis=1)\n",
        "            position_x = tf.tile(position_x, [1, 30, 30, 1])\n",
        "\n",
        "            position_y = tf.expand_dims(tf.expand_dims(position_y, axis=1), axis=1)\n",
        "            position_y = tf.tile(position_y, [1, 30, 30, 1])\n",
        "\n",
        "            moves.append(move)\n",
        "            positions_x.append(position_x)\n",
        "            positions_y.append(position_y)\n",
        "\n",
        "        ground_truth_encoding = self.encoder(grid_modified)\n",
        "\n",
        "        #moves = np.array(moves)\n",
        "        #positions_x = np.array(positions_x)\n",
        "        #positions_y = np.array(positions_y)\n",
        "\n",
        "        y = input_grids\n",
        "        for i in range(self.nb_moves_train):\n",
        "            if i == 0:\n",
        "              visual = historic[i]\n",
        "            else:\n",
        "              visual = historic[i] if random.randint(0, 100) <= 10 else tf.zeros_like(historic[i])\n",
        "\n",
        "            y = self.call([moves[i], positions_x[i], positions_y[i], visual], i)\n",
        "        loss = self.loss(ground_truth_encoding, y)\n",
        "\n",
        "        self.loss_tracker.update_state(loss)\n",
        "        return {m.name: m.result() for m in self.metrics}"
      ],
      "metadata": {
        "id": "GYSlZEgLd0cd"
      },
      "execution_count": 36,
      "outputs": []
    },
    {
      "cell_type": "code",
      "source": [
        "batch_size = 32\n",
        "\n",
        "gridlike_model = GridLikeEncoding(autoencoder.encoder, batch_size=batch_size)"
      ],
      "metadata": {
        "id": "67LxcQELuXO1"
      },
      "execution_count": 37,
      "outputs": []
    },
    {
      "cell_type": "code",
      "source": [
        "gridlike_model.compile(optimizer=keras.optimizers.Adam(learning_rate=5e-4), loss=losses.MeanSquaredError())\n",
        "gridlike_model.build([None, flattened_challenges.shape[1], flattened_challenges.shape[2], 10])"
      ],
      "metadata": {
        "colab": {
          "base_uri": "https://localhost:8080/"
        },
        "id": "AVj5s2f1y9-O",
        "outputId": "3c1dcfb3-b89b-4f09-b319-ca5c8f867f79"
      },
      "execution_count": 38,
      "outputs": [
        {
          "output_type": "stream",
          "name": "stderr",
          "text": [
            "/usr/local/lib/python3.11/dist-packages/keras/src/layers/layer.py:393: UserWarning: `build()` was called on layer 'grid_like_encoding_2', however the layer does not have a `build()` method implemented and it looks like it has unbuilt state. This will cause the layer to be marked as built, despite not being actually built, which may cause failures down the line. Make sure to implement a proper `build()` method.\n",
            "  warnings.warn(\n"
          ]
        }
      ]
    },
    {
      "cell_type": "code",
      "source": [
        "move, position_x, position_y = generate_random_move(5)\n",
        "move = tf.expand_dims(tf.expand_dims(move, axis=1), axis=1)\n",
        "move = tf.tile(move, [1, 30, 30, 1])\n",
        "\n",
        "position_x = tf.expand_dims(tf.expand_dims(position_x, axis=1), axis=1)\n",
        "position_x = tf.tile(position_x, [1, 30, 30, 1])\n",
        "\n",
        "position_y = tf.expand_dims(tf.expand_dims(position_y, axis=1), axis=1)\n",
        "position_y = tf.tile(position_y, [1, 30, 30, 1])\n",
        "\n",
        "tmp_test = gridlike_model.call([move, position_x, position_y, flattened_challenges[:5]], t=0)"
      ],
      "metadata": {
        "id": "3iedKzoVzhxM"
      },
      "execution_count": 39,
      "outputs": []
    },
    {
      "cell_type": "code",
      "source": [
        "flattened_challenges.shape"
      ],
      "metadata": {
        "id": "khcpXzYD719H",
        "outputId": "763855ac-f7bf-4202-9679-0d6f794c7c19",
        "colab": {
          "base_uri": "https://localhost:8080/"
        }
      },
      "execution_count": 40,
      "outputs": [
        {
          "output_type": "execute_result",
          "data": {
            "text/plain": [
              "(2604, 30, 30, 10)"
            ]
          },
          "metadata": {},
          "execution_count": 40
        }
      ]
    },
    {
      "cell_type": "code",
      "source": [
        "history = gridlike_model.fit(flattened_challenges[:2560],\n",
        "                             epochs=100,\n",
        "                             batch_size=batch_size,\n",
        "                             shuffle=True,\n",
        "                             validation_split=0.2)"
      ],
      "metadata": {
        "id": "J9lU91Mm3Y8E",
        "outputId": "01f3f544-9793-46a4-dffb-bdbabf72b0dc",
        "colab": {
          "base_uri": "https://localhost:8080/"
        }
      },
      "execution_count": 41,
      "outputs": [
        {
          "output_type": "stream",
          "name": "stdout",
          "text": [
            "Epoch 1/100\n",
            "\u001b[1m64/64\u001b[0m \u001b[32m━━━━━━━━━━━━━━━━━━━━\u001b[0m\u001b[37m\u001b[0m \u001b[1m37s\u001b[0m 280ms/step - loss: 142.5788 - val_loss: 0.1550\n",
            "Epoch 2/100\n",
            "\u001b[1m64/64\u001b[0m \u001b[32m━━━━━━━━━━━━━━━━━━━━\u001b[0m\u001b[37m\u001b[0m \u001b[1m28s\u001b[0m 181ms/step - loss: 0.1214 - val_loss: 0.0507\n",
            "Epoch 3/100\n",
            "\u001b[1m64/64\u001b[0m \u001b[32m━━━━━━━━━━━━━━━━━━━━\u001b[0m\u001b[37m\u001b[0m \u001b[1m20s\u001b[0m 172ms/step - loss: 0.0499 - val_loss: 0.0336\n",
            "Epoch 4/100\n",
            "\u001b[1m64/64\u001b[0m \u001b[32m━━━━━━━━━━━━━━━━━━━━\u001b[0m\u001b[37m\u001b[0m \u001b[1m21s\u001b[0m 178ms/step - loss: 0.0379 - val_loss: 0.0284\n",
            "Epoch 5/100\n",
            "\u001b[1m64/64\u001b[0m \u001b[32m━━━━━━━━━━━━━━━━━━━━\u001b[0m\u001b[37m\u001b[0m \u001b[1m20s\u001b[0m 170ms/step - loss: 0.0347 - val_loss: 0.0265\n",
            "Epoch 6/100\n",
            "\u001b[1m64/64\u001b[0m \u001b[32m━━━━━━━━━━━━━━━━━━━━\u001b[0m\u001b[37m\u001b[0m \u001b[1m21s\u001b[0m 179ms/step - loss: 0.0343 - val_loss: 0.0260\n",
            "Epoch 7/100\n",
            "\u001b[1m64/64\u001b[0m \u001b[32m━━━━━━━━━━━━━━━━━━━━\u001b[0m\u001b[37m\u001b[0m \u001b[1m20s\u001b[0m 171ms/step - loss: 0.0337 - val_loss: 0.0260\n",
            "Epoch 8/100\n",
            "\u001b[1m64/64\u001b[0m \u001b[32m━━━━━━━━━━━━━━━━━━━━\u001b[0m\u001b[37m\u001b[0m \u001b[1m21s\u001b[0m 178ms/step - loss: 0.0329 - val_loss: 0.0263\n",
            "Epoch 9/100\n",
            "\u001b[1m64/64\u001b[0m \u001b[32m━━━━━━━━━━━━━━━━━━━━\u001b[0m\u001b[37m\u001b[0m \u001b[1m20s\u001b[0m 170ms/step - loss: 0.0314 - val_loss: 0.0250\n",
            "Epoch 10/100\n",
            "\u001b[1m64/64\u001b[0m \u001b[32m━━━━━━━━━━━━━━━━━━━━\u001b[0m\u001b[37m\u001b[0m \u001b[1m21s\u001b[0m 178ms/step - loss: 0.0343 - val_loss: 0.0244\n",
            "Epoch 11/100\n",
            "\u001b[1m64/64\u001b[0m \u001b[32m━━━━━━━━━━━━━━━━━━━━\u001b[0m\u001b[37m\u001b[0m \u001b[1m20s\u001b[0m 171ms/step - loss: 0.0330 - val_loss: 0.0284\n",
            "Epoch 12/100\n",
            "\u001b[1m64/64\u001b[0m \u001b[32m━━━━━━━━━━━━━━━━━━━━\u001b[0m\u001b[37m\u001b[0m \u001b[1m20s\u001b[0m 170ms/step - loss: 0.0337 - val_loss: 0.0244\n",
            "Epoch 13/100\n",
            "\u001b[1m64/64\u001b[0m \u001b[32m━━━━━━━━━━━━━━━━━━━━\u001b[0m\u001b[37m\u001b[0m \u001b[1m20s\u001b[0m 171ms/step - loss: 0.0323 - val_loss: 0.0283\n",
            "Epoch 14/100\n",
            "\u001b[1m64/64\u001b[0m \u001b[32m━━━━━━━━━━━━━━━━━━━━\u001b[0m\u001b[37m\u001b[0m \u001b[1m20s\u001b[0m 170ms/step - loss: 0.0325 - val_loss: 0.0347\n",
            "Epoch 15/100\n",
            "\u001b[1m64/64\u001b[0m \u001b[32m━━━━━━━━━━━━━━━━━━━━\u001b[0m\u001b[37m\u001b[0m \u001b[1m11s\u001b[0m 173ms/step - loss: 0.0350 - val_loss: 0.0243\n",
            "Epoch 16/100\n",
            "\u001b[1m64/64\u001b[0m \u001b[32m━━━━━━━━━━━━━━━━━━━━\u001b[0m\u001b[37m\u001b[0m \u001b[1m20s\u001b[0m 169ms/step - loss: 0.0309 - val_loss: 0.0248\n",
            "Epoch 17/100\n",
            "\u001b[1m64/64\u001b[0m \u001b[32m━━━━━━━━━━━━━━━━━━━━\u001b[0m\u001b[37m\u001b[0m \u001b[1m21s\u001b[0m 170ms/step - loss: 0.0315 - val_loss: 0.0401\n",
            "Epoch 18/100\n",
            "\u001b[1m64/64\u001b[0m \u001b[32m━━━━━━━━━━━━━━━━━━━━\u001b[0m\u001b[37m\u001b[0m \u001b[1m21s\u001b[0m 171ms/step - loss: 0.0345 - val_loss: 0.0244\n",
            "Epoch 19/100\n",
            "\u001b[1m64/64\u001b[0m \u001b[32m━━━━━━━━━━━━━━━━━━━━\u001b[0m\u001b[37m\u001b[0m \u001b[1m21s\u001b[0m 178ms/step - loss: 0.0317 - val_loss: 0.0262\n",
            "Epoch 20/100\n",
            "\u001b[1m64/64\u001b[0m \u001b[32m━━━━━━━━━━━━━━━━━━━━\u001b[0m\u001b[37m\u001b[0m \u001b[1m11s\u001b[0m 180ms/step - loss: 0.0333 - val_loss: 0.0236\n",
            "Epoch 21/100\n",
            "\u001b[1m64/64\u001b[0m \u001b[32m━━━━━━━━━━━━━━━━━━━━\u001b[0m\u001b[37m\u001b[0m \u001b[1m20s\u001b[0m 176ms/step - loss: 0.0310 - val_loss: 0.0243\n",
            "Epoch 22/100\n",
            "\u001b[1m64/64\u001b[0m \u001b[32m━━━━━━━━━━━━━━━━━━━━\u001b[0m\u001b[37m\u001b[0m \u001b[1m11s\u001b[0m 172ms/step - loss: 0.0313 - val_loss: 0.0270\n",
            "Epoch 23/100\n",
            "\u001b[1m64/64\u001b[0m \u001b[32m━━━━━━━━━━━━━━━━━━━━\u001b[0m\u001b[37m\u001b[0m \u001b[1m20s\u001b[0m 169ms/step - loss: 0.0309 - val_loss: 0.0242\n",
            "Epoch 24/100\n",
            "\u001b[1m64/64\u001b[0m \u001b[32m━━━━━━━━━━━━━━━━━━━━\u001b[0m\u001b[37m\u001b[0m \u001b[1m21s\u001b[0m 170ms/step - loss: 0.0320 - val_loss: 0.0249\n",
            "Epoch 25/100\n",
            "\u001b[1m64/64\u001b[0m \u001b[32m━━━━━━━━━━━━━━━━━━━━\u001b[0m\u001b[37m\u001b[0m \u001b[1m11s\u001b[0m 173ms/step - loss: 0.0296 - val_loss: 0.0237\n",
            "Epoch 26/100\n",
            "\u001b[1m64/64\u001b[0m \u001b[32m━━━━━━━━━━━━━━━━━━━━\u001b[0m\u001b[37m\u001b[0m \u001b[1m20s\u001b[0m 170ms/step - loss: 0.0302 - val_loss: 0.0240\n",
            "Epoch 27/100\n",
            "\u001b[1m64/64\u001b[0m \u001b[32m━━━━━━━━━━━━━━━━━━━━\u001b[0m\u001b[37m\u001b[0m \u001b[1m21s\u001b[0m 178ms/step - loss: 0.0310 - val_loss: 0.0239\n",
            "Epoch 28/100\n",
            "\u001b[1m64/64\u001b[0m \u001b[32m━━━━━━━━━━━━━━━━━━━━\u001b[0m\u001b[37m\u001b[0m \u001b[1m20s\u001b[0m 171ms/step - loss: 0.0299 - val_loss: 0.0239\n",
            "Epoch 29/100\n",
            "\u001b[1m64/64\u001b[0m \u001b[32m━━━━━━━━━━━━━━━━━━━━\u001b[0m\u001b[37m\u001b[0m \u001b[1m20s\u001b[0m 171ms/step - loss: 0.0297 - val_loss: 0.0270\n",
            "Epoch 30/100\n",
            "\u001b[1m64/64\u001b[0m \u001b[32m━━━━━━━━━━━━━━━━━━━━\u001b[0m\u001b[37m\u001b[0m \u001b[1m12s\u001b[0m 180ms/step - loss: 0.0334 - val_loss: 0.0238\n",
            "Epoch 31/100\n",
            "\u001b[1m64/64\u001b[0m \u001b[32m━━━━━━━━━━━━━━━━━━━━\u001b[0m\u001b[37m\u001b[0m \u001b[1m20s\u001b[0m 177ms/step - loss: 0.0315 - val_loss: 0.0233\n",
            "Epoch 32/100\n",
            "\u001b[1m64/64\u001b[0m \u001b[32m━━━━━━━━━━━━━━━━━━━━\u001b[0m\u001b[37m\u001b[0m \u001b[1m11s\u001b[0m 172ms/step - loss: 0.0318 - val_loss: 0.0233\n",
            "Epoch 33/100\n",
            "\u001b[1m64/64\u001b[0m \u001b[32m━━━━━━━━━━━━━━━━━━━━\u001b[0m\u001b[37m\u001b[0m \u001b[1m20s\u001b[0m 169ms/step - loss: 0.0319 - val_loss: 0.0240\n",
            "Epoch 34/100\n",
            "\u001b[1m64/64\u001b[0m \u001b[32m━━━━━━━━━━━━━━━━━━━━\u001b[0m\u001b[37m\u001b[0m \u001b[1m21s\u001b[0m 171ms/step - loss: 0.0304 - val_loss: 0.0233\n",
            "Epoch 35/100\n",
            "\u001b[1m64/64\u001b[0m \u001b[32m━━━━━━━━━━━━━━━━━━━━\u001b[0m\u001b[37m\u001b[0m \u001b[1m12s\u001b[0m 182ms/step - loss: 0.0308 - val_loss: 0.0241\n",
            "Epoch 36/100\n",
            "\u001b[1m64/64\u001b[0m \u001b[32m━━━━━━━━━━━━━━━━━━━━\u001b[0m\u001b[37m\u001b[0m \u001b[1m20s\u001b[0m 169ms/step - loss: 0.0309 - val_loss: 0.0240\n",
            "Epoch 37/100\n",
            "\u001b[1m64/64\u001b[0m \u001b[32m━━━━━━━━━━━━━━━━━━━━\u001b[0m\u001b[37m\u001b[0m \u001b[1m21s\u001b[0m 170ms/step - loss: 0.0329 - val_loss: 0.0234\n",
            "Epoch 38/100\n",
            "\u001b[1m64/64\u001b[0m \u001b[32m━━━━━━━━━━━━━━━━━━━━\u001b[0m\u001b[37m\u001b[0m \u001b[1m21s\u001b[0m 179ms/step - loss: 0.0307 - val_loss: 0.0260\n",
            "Epoch 39/100\n",
            "\u001b[1m64/64\u001b[0m \u001b[32m━━━━━━━━━━━━━━━━━━━━\u001b[0m\u001b[37m\u001b[0m \u001b[1m20s\u001b[0m 172ms/step - loss: 0.0305 - val_loss: 0.0236\n",
            "Epoch 40/100\n",
            "\u001b[1m64/64\u001b[0m \u001b[32m━━━━━━━━━━━━━━━━━━━━\u001b[0m\u001b[37m\u001b[0m \u001b[1m11s\u001b[0m 173ms/step - loss: 0.0313 - val_loss: 0.0239\n",
            "Epoch 41/100\n",
            "\u001b[1m64/64\u001b[0m \u001b[32m━━━━━━━━━━━━━━━━━━━━\u001b[0m\u001b[37m\u001b[0m \u001b[1m21s\u001b[0m 177ms/step - loss: 0.0295 - val_loss: 0.0240\n",
            "Epoch 42/100\n",
            "\u001b[1m64/64\u001b[0m \u001b[32m━━━━━━━━━━━━━━━━━━━━\u001b[0m\u001b[37m\u001b[0m \u001b[1m11s\u001b[0m 179ms/step - loss: 0.0332 - val_loss: 0.0233\n",
            "Epoch 43/100\n",
            "\u001b[1m64/64\u001b[0m \u001b[32m━━━━━━━━━━━━━━━━━━━━\u001b[0m\u001b[37m\u001b[0m \u001b[1m20s\u001b[0m 177ms/step - loss: 0.0285 - val_loss: 0.0254\n",
            "Epoch 44/100\n",
            "\u001b[1m64/64\u001b[0m \u001b[32m━━━━━━━━━━━━━━━━━━━━\u001b[0m\u001b[37m\u001b[0m \u001b[1m20s\u001b[0m 171ms/step - loss: 0.0305 - val_loss: 0.0239\n",
            "Epoch 45/100\n",
            "\u001b[1m64/64\u001b[0m \u001b[32m━━━━━━━━━━━━━━━━━━━━\u001b[0m\u001b[37m\u001b[0m \u001b[1m21s\u001b[0m 172ms/step - loss: 0.0307 - val_loss: 0.0232\n",
            "Epoch 46/100\n",
            "\u001b[1m64/64\u001b[0m \u001b[32m━━━━━━━━━━━━━━━━━━━━\u001b[0m\u001b[37m\u001b[0m \u001b[1m20s\u001b[0m 171ms/step - loss: 0.0295 - val_loss: 0.0242\n",
            "Epoch 47/100\n",
            "\u001b[1m64/64\u001b[0m \u001b[32m━━━━━━━━━━━━━━━━━━━━\u001b[0m\u001b[37m\u001b[0m \u001b[1m11s\u001b[0m 173ms/step - loss: 0.0294 - val_loss: 0.0239\n",
            "Epoch 48/100\n",
            "\u001b[1m64/64\u001b[0m \u001b[32m━━━━━━━━━━━━━━━━━━━━\u001b[0m\u001b[37m\u001b[0m \u001b[1m11s\u001b[0m 172ms/step - loss: 0.0303 - val_loss: 0.0234\n",
            "Epoch 49/100\n",
            "\u001b[1m64/64\u001b[0m \u001b[32m━━━━━━━━━━━━━━━━━━━━\u001b[0m\u001b[37m\u001b[0m \u001b[1m11s\u001b[0m 170ms/step - loss: 0.0315 - val_loss: 0.0242\n",
            "Epoch 50/100\n",
            "\u001b[1m64/64\u001b[0m \u001b[32m━━━━━━━━━━━━━━━━━━━━\u001b[0m\u001b[37m\u001b[0m \u001b[1m11s\u001b[0m 169ms/step - loss: 0.0333 - val_loss: 0.0238\n",
            "Epoch 51/100\n",
            "\u001b[1m64/64\u001b[0m \u001b[32m━━━━━━━━━━━━━━━━━━━━\u001b[0m\u001b[37m\u001b[0m \u001b[1m20s\u001b[0m 167ms/step - loss: 0.0319 - val_loss: 0.0234\n",
            "Epoch 52/100\n",
            "\u001b[1m64/64\u001b[0m \u001b[32m━━━━━━━━━━━━━━━━━━━━\u001b[0m\u001b[37m\u001b[0m \u001b[1m21s\u001b[0m 171ms/step - loss: 0.0304 - val_loss: 0.0244\n",
            "Epoch 53/100\n",
            "\u001b[1m64/64\u001b[0m \u001b[32m━━━━━━━━━━━━━━━━━━━━\u001b[0m\u001b[37m\u001b[0m \u001b[1m11s\u001b[0m 175ms/step - loss: 0.0305 - val_loss: 0.0230\n",
            "Epoch 54/100\n",
            "\u001b[1m64/64\u001b[0m \u001b[32m━━━━━━━━━━━━━━━━━━━━\u001b[0m\u001b[37m\u001b[0m \u001b[1m20s\u001b[0m 170ms/step - loss: 0.0331 - val_loss: 0.0238\n",
            "Epoch 55/100\n",
            "\u001b[1m64/64\u001b[0m \u001b[32m━━━━━━━━━━━━━━━━━━━━\u001b[0m\u001b[37m\u001b[0m \u001b[1m11s\u001b[0m 179ms/step - loss: 0.0301 - val_loss: 0.0232\n",
            "Epoch 56/100\n",
            "\u001b[1m64/64\u001b[0m \u001b[32m━━━━━━━━━━━━━━━━━━━━\u001b[0m\u001b[37m\u001b[0m \u001b[1m20s\u001b[0m 176ms/step - loss: 0.0312 - val_loss: 0.0235\n",
            "Epoch 57/100\n",
            "\u001b[1m64/64\u001b[0m \u001b[32m━━━━━━━━━━━━━━━━━━━━\u001b[0m\u001b[37m\u001b[0m \u001b[1m20s\u001b[0m 171ms/step - loss: 0.0302 - val_loss: 0.0235\n",
            "Epoch 58/100\n",
            "\u001b[1m64/64\u001b[0m \u001b[32m━━━━━━━━━━━━━━━━━━━━\u001b[0m\u001b[37m\u001b[0m \u001b[1m21s\u001b[0m 181ms/step - loss: 0.0322 - val_loss: 0.0233\n",
            "Epoch 59/100\n",
            "\u001b[1m64/64\u001b[0m \u001b[32m━━━━━━━━━━━━━━━━━━━━\u001b[0m\u001b[37m\u001b[0m \u001b[1m20s\u001b[0m 172ms/step - loss: 0.0296 - val_loss: 0.0234\n",
            "Epoch 60/100\n",
            "\u001b[1m64/64\u001b[0m \u001b[32m━━━━━━━━━━━━━━━━━━━━\u001b[0m\u001b[37m\u001b[0m \u001b[1m11s\u001b[0m 173ms/step - loss: 0.0298 - val_loss: 0.0238\n",
            "Epoch 61/100\n",
            "\u001b[1m64/64\u001b[0m \u001b[32m━━━━━━━━━━━━━━━━━━━━\u001b[0m\u001b[37m\u001b[0m \u001b[1m11s\u001b[0m 180ms/step - loss: 0.0320 - val_loss: 0.0234\n",
            "Epoch 62/100\n",
            "\u001b[1m64/64\u001b[0m \u001b[32m━━━━━━━━━━━━━━━━━━━━\u001b[0m\u001b[37m\u001b[0m \u001b[1m20s\u001b[0m 168ms/step - loss: 0.0304 - val_loss: 0.0230\n",
            "Epoch 63/100\n",
            "\u001b[1m64/64\u001b[0m \u001b[32m━━━━━━━━━━━━━━━━━━━━\u001b[0m\u001b[37m\u001b[0m \u001b[1m11s\u001b[0m 178ms/step - loss: 0.0307 - val_loss: 0.0237\n",
            "Epoch 64/100\n",
            "\u001b[1m64/64\u001b[0m \u001b[32m━━━━━━━━━━━━━━━━━━━━\u001b[0m\u001b[37m\u001b[0m \u001b[1m12s\u001b[0m 181ms/step - loss: 0.0312 - val_loss: 0.0233\n",
            "Epoch 65/100\n",
            "\u001b[1m64/64\u001b[0m \u001b[32m━━━━━━━━━━━━━━━━━━━━\u001b[0m\u001b[37m\u001b[0m \u001b[1m20s\u001b[0m 177ms/step - loss: 0.0293 - val_loss: 0.0234\n",
            "Epoch 66/100\n",
            "\u001b[1m64/64\u001b[0m \u001b[32m━━━━━━━━━━━━━━━━━━━━\u001b[0m\u001b[37m\u001b[0m \u001b[1m11s\u001b[0m 172ms/step - loss: 0.0310 - val_loss: 0.0233\n",
            "Epoch 67/100\n",
            "\u001b[1m64/64\u001b[0m \u001b[32m━━━━━━━━━━━━━━━━━━━━\u001b[0m\u001b[37m\u001b[0m \u001b[1m11s\u001b[0m 172ms/step - loss: 0.0309 - val_loss: 0.0231\n",
            "Epoch 68/100\n",
            "\u001b[1m64/64\u001b[0m \u001b[32m━━━━━━━━━━━━━━━━━━━━\u001b[0m\u001b[37m\u001b[0m \u001b[1m11s\u001b[0m 171ms/step - loss: 0.0311 - val_loss: 0.0230\n",
            "Epoch 69/100\n",
            "\u001b[1m64/64\u001b[0m \u001b[32m━━━━━━━━━━━━━━━━━━━━\u001b[0m\u001b[37m\u001b[0m \u001b[1m20s\u001b[0m 168ms/step - loss: 0.0302 - val_loss: 0.0236\n",
            "Epoch 70/100\n",
            "\u001b[1m64/64\u001b[0m \u001b[32m━━━━━━━━━━━━━━━━━━━━\u001b[0m\u001b[37m\u001b[0m \u001b[1m21s\u001b[0m 171ms/step - loss: 0.0300 - val_loss: 0.0234\n",
            "Epoch 71/100\n",
            "\u001b[1m64/64\u001b[0m \u001b[32m━━━━━━━━━━━━━━━━━━━━\u001b[0m\u001b[37m\u001b[0m \u001b[1m21s\u001b[0m 181ms/step - loss: 0.0301 - val_loss: 0.0230\n",
            "Epoch 72/100\n",
            "\u001b[1m64/64\u001b[0m \u001b[32m━━━━━━━━━━━━━━━━━━━━\u001b[0m\u001b[37m\u001b[0m \u001b[1m11s\u001b[0m 175ms/step - loss: 0.0295 - val_loss: 0.0231\n",
            "Epoch 73/100\n",
            "\u001b[1m64/64\u001b[0m \u001b[32m━━━━━━━━━━━━━━━━━━━━\u001b[0m\u001b[37m\u001b[0m \u001b[1m20s\u001b[0m 169ms/step - loss: 0.0302 - val_loss: 0.0234\n",
            "Epoch 74/100\n",
            "\u001b[1m64/64\u001b[0m \u001b[32m━━━━━━━━━━━━━━━━━━━━\u001b[0m\u001b[37m\u001b[0m \u001b[1m20s\u001b[0m 169ms/step - loss: 0.0288 - val_loss: 0.0235\n",
            "Epoch 75/100\n",
            "\u001b[1m64/64\u001b[0m \u001b[32m━━━━━━━━━━━━━━━━━━━━\u001b[0m\u001b[37m\u001b[0m \u001b[1m11s\u001b[0m 173ms/step - loss: 0.0284 - val_loss: 0.0230\n",
            "Epoch 76/100\n",
            "\u001b[1m64/64\u001b[0m \u001b[32m━━━━━━━━━━━━━━━━━━━━\u001b[0m\u001b[37m\u001b[0m \u001b[1m12s\u001b[0m 183ms/step - loss: 0.0303 - val_loss: 0.0233\n",
            "Epoch 77/100\n",
            "\u001b[1m64/64\u001b[0m \u001b[32m━━━━━━━━━━━━━━━━━━━━\u001b[0m\u001b[37m\u001b[0m \u001b[1m20s\u001b[0m 178ms/step - loss: 0.0297 - val_loss: 0.0231\n",
            "Epoch 78/100\n",
            "\u001b[1m64/64\u001b[0m \u001b[32m━━━━━━━━━━━━━━━━━━━━\u001b[0m\u001b[37m\u001b[0m \u001b[1m20s\u001b[0m 178ms/step - loss: 0.0299 - val_loss: 0.0230\n",
            "Epoch 79/100\n",
            "\u001b[1m64/64\u001b[0m \u001b[32m━━━━━━━━━━━━━━━━━━━━\u001b[0m\u001b[37m\u001b[0m \u001b[1m21s\u001b[0m 180ms/step - loss: 0.0307 - val_loss: 0.0230\n",
            "Epoch 80/100\n",
            "\u001b[1m64/64\u001b[0m \u001b[32m━━━━━━━━━━━━━━━━━━━━\u001b[0m\u001b[37m\u001b[0m \u001b[1m20s\u001b[0m 180ms/step - loss: 0.0293 - val_loss: 0.0233\n",
            "Epoch 81/100\n",
            "\u001b[1m64/64\u001b[0m \u001b[32m━━━━━━━━━━━━━━━━━━━━\u001b[0m\u001b[37m\u001b[0m \u001b[1m11s\u001b[0m 173ms/step - loss: 0.0309 - val_loss: 0.0235\n",
            "Epoch 82/100\n",
            "\u001b[1m64/64\u001b[0m \u001b[32m━━━━━━━━━━━━━━━━━━━━\u001b[0m\u001b[37m\u001b[0m \u001b[1m20s\u001b[0m 168ms/step - loss: 0.0328 - val_loss: 0.0236\n",
            "Epoch 83/100\n",
            "\u001b[1m64/64\u001b[0m \u001b[32m━━━━━━━━━━━━━━━━━━━━\u001b[0m\u001b[37m\u001b[0m \u001b[1m11s\u001b[0m 179ms/step - loss: 0.0289 - val_loss: 0.0233\n",
            "Epoch 84/100\n",
            "\u001b[1m64/64\u001b[0m \u001b[32m━━━━━━━━━━━━━━━━━━━━\u001b[0m\u001b[37m\u001b[0m \u001b[1m20s\u001b[0m 169ms/step - loss: 0.0300 - val_loss: 0.0231\n",
            "Epoch 85/100\n",
            "\u001b[1m64/64\u001b[0m \u001b[32m━━━━━━━━━━━━━━━━━━━━\u001b[0m\u001b[37m\u001b[0m \u001b[1m21s\u001b[0m 179ms/step - loss: 0.0290 - val_loss: 0.0242\n",
            "Epoch 86/100\n",
            "\u001b[1m64/64\u001b[0m \u001b[32m━━━━━━━━━━━━━━━━━━━━\u001b[0m\u001b[37m\u001b[0m \u001b[1m21s\u001b[0m 180ms/step - loss: 0.0294 - val_loss: 0.0237\n",
            "Epoch 87/100\n",
            "\u001b[1m64/64\u001b[0m \u001b[32m━━━━━━━━━━━━━━━━━━━━\u001b[0m\u001b[37m\u001b[0m \u001b[1m20s\u001b[0m 179ms/step - loss: 0.0286 - val_loss: 0.0233\n",
            "Epoch 88/100\n",
            "\u001b[1m64/64\u001b[0m \u001b[32m━━━━━━━━━━━━━━━━━━━━\u001b[0m\u001b[37m\u001b[0m \u001b[1m20s\u001b[0m 170ms/step - loss: 0.0289 - val_loss: 0.0233\n",
            "Epoch 89/100\n",
            "\u001b[1m64/64\u001b[0m \u001b[32m━━━━━━━━━━━━━━━━━━━━\u001b[0m\u001b[37m\u001b[0m \u001b[1m11s\u001b[0m 173ms/step - loss: 0.0280 - val_loss: 0.0235\n",
            "Epoch 90/100\n",
            "\u001b[1m64/64\u001b[0m \u001b[32m━━━━━━━━━━━━━━━━━━━━\u001b[0m\u001b[37m\u001b[0m \u001b[1m11s\u001b[0m 174ms/step - loss: 0.0291 - val_loss: 0.0236\n",
            "Epoch 91/100\n",
            "\u001b[1m64/64\u001b[0m \u001b[32m━━━━━━━━━━━━━━━━━━━━\u001b[0m\u001b[37m\u001b[0m \u001b[1m21s\u001b[0m 176ms/step - loss: 0.0295 - val_loss: 0.0229\n",
            "Epoch 92/100\n",
            "\u001b[1m64/64\u001b[0m \u001b[32m━━━━━━━━━━━━━━━━━━━━\u001b[0m\u001b[37m\u001b[0m \u001b[1m11s\u001b[0m 179ms/step - loss: 0.0289 - val_loss: 0.0232\n",
            "Epoch 93/100\n",
            "\u001b[1m64/64\u001b[0m \u001b[32m━━━━━━━━━━━━━━━━━━━━\u001b[0m\u001b[37m\u001b[0m \u001b[1m20s\u001b[0m 169ms/step - loss: 0.0307 - val_loss: 0.0229\n",
            "Epoch 94/100\n",
            "\u001b[1m64/64\u001b[0m \u001b[32m━━━━━━━━━━━━━━━━━━━━\u001b[0m\u001b[37m\u001b[0m \u001b[1m21s\u001b[0m 171ms/step - loss: 0.0294 - val_loss: 0.0233\n",
            "Epoch 95/100\n",
            "\u001b[1m64/64\u001b[0m \u001b[32m━━━━━━━━━━━━━━━━━━━━\u001b[0m\u001b[37m\u001b[0m \u001b[1m21s\u001b[0m 173ms/step - loss: 0.0308 - val_loss: 0.0230\n",
            "Epoch 96/100\n",
            "\u001b[1m64/64\u001b[0m \u001b[32m━━━━━━━━━━━━━━━━━━━━\u001b[0m\u001b[37m\u001b[0m \u001b[1m20s\u001b[0m 170ms/step - loss: 0.0306 - val_loss: 0.0230\n",
            "Epoch 97/100\n",
            "\u001b[1m64/64\u001b[0m \u001b[32m━━━━━━━━━━━━━━━━━━━━\u001b[0m\u001b[37m\u001b[0m \u001b[1m20s\u001b[0m 171ms/step - loss: 0.0296 - val_loss: 0.0231\n",
            "Epoch 98/100\n",
            "\u001b[1m64/64\u001b[0m \u001b[32m━━━━━━━━━━━━━━━━━━━━\u001b[0m\u001b[37m\u001b[0m \u001b[1m12s\u001b[0m 181ms/step - loss: 0.0302 - val_loss: 0.0229\n",
            "Epoch 99/100\n",
            "\u001b[1m64/64\u001b[0m \u001b[32m━━━━━━━━━━━━━━━━━━━━\u001b[0m\u001b[37m\u001b[0m \u001b[1m20s\u001b[0m 169ms/step - loss: 0.0298 - val_loss: 0.0237\n",
            "Epoch 100/100\n",
            "\u001b[1m64/64\u001b[0m \u001b[32m━━━━━━━━━━━━━━━━━━━━\u001b[0m\u001b[37m\u001b[0m \u001b[1m21s\u001b[0m 171ms/step - loss: 0.0291 - val_loss: 0.0232\n"
          ]
        }
      ]
    },
    {
      "cell_type": "code",
      "source": [
        "plt.plot(history.history[\"loss\"], label=\"Training Loss\")\n",
        "plt.plot(history.history[\"val_loss\"], label=\"Validation Loss\")\n",
        "plt.legend()"
      ],
      "metadata": {
        "id": "89D5lUYAsYnt",
        "outputId": "b4005b3b-d0f2-48ee-95ce-da8423f256ac",
        "colab": {
          "base_uri": "https://localhost:8080/",
          "height": 447
        }
      },
      "execution_count": 42,
      "outputs": [
        {
          "output_type": "execute_result",
          "data": {
            "text/plain": [
              "<matplotlib.legend.Legend at 0x7d35103b8f10>"
            ]
          },
          "metadata": {},
          "execution_count": 42
        },
        {
          "output_type": "display_data",
          "data": {
            "text/plain": [
              "<Figure size 640x480 with 1 Axes>"
            ],
            "image/png": "[encoded data removed]"
          },
          "metadata": {}
        }
      ]
    },
    {
      "cell_type": "markdown",
      "source": [
        "##VISUAL TEST"
      ],
      "metadata": {
        "id": "Hn5gI2_osZbd"
      }
    },
    {
      "cell_type": "code",
      "source": [
        "batch_size = 5\n",
        "#grid_modified = tf.identity(flattened_challenges[:batch_size])\n",
        "grid_modified = flattened_challenges[:batch_size]\n",
        "moves = []\n",
        "positions_x = []\n",
        "positions_y = []\n",
        "historic = [grid_modified, ]\n",
        "# historic = [tf.identity(grid_modified), ]\n",
        "for i in range(10):\n",
        "    move, position_x, position_y = generate_random_move(batch_size)\n",
        "\n",
        "    grid_modified = apply_move_wrapper(grid_modified, move, position_x, position_y)\n",
        "    #historic.append(tf.identity(grid_modified))\n",
        "    historic.append(grid_modified)\n",
        "\n",
        "    move = tf.expand_dims(tf.expand_dims(move, axis=1), axis=1)\n",
        "    move = tf.tile(move, [1, 30, 30, 1])\n",
        "\n",
        "    position_x = tf.expand_dims(tf.expand_dims(position_x, axis=1), axis=1)\n",
        "    position_x = tf.tile(position_x, [1, 30, 30, 1])\n",
        "\n",
        "    position_y = tf.expand_dims(tf.expand_dims(position_y, axis=1), axis=1)\n",
        "    position_y = tf.tile(position_y, [1, 30, 30, 1])\n",
        "\n",
        "    moves.append(move)\n",
        "    positions_x.append(position_x)\n",
        "    positions_y.append(position_y)\n",
        "\n",
        "    ground_truth_encoding = autoencoder.encoder(grid_modified)\n",
        "    ground_truth_decoding = autoencoder.decoder(ground_truth_encoding)\n",
        "\n",
        "    for i in range(1):\n",
        "        cmap, norm = get_color_map(number_of_categories=9)\n",
        "        plt.title('input')\n",
        "        plt.imshow(np.argmax(ground_truth_decoding[i], axis=-1), interpolation='nearest', cmap=cmap, norm=norm)\n",
        "        plt.axis('off')\n",
        "        plt.show()\n",
        "\n",
        "print(\"----------------------------------------------------------------------------\")\n",
        "print(\"############################################################################\")\n",
        "print(\"----------------------------------------------------------------------------\")\n",
        "\n",
        "y = flattened_challenges[:batch_size]\n",
        "for i in range(10):\n",
        "\n",
        "    visual = historic[i] if random.randint(0, 100) <= 10 else tf.zeros_like(historic[i])\n",
        "\n",
        "    y = gridlike_model.call([moves[i], positions_x[i], positions_y[i], visual], i)\n",
        "    predicted_decoding = autoencoder.decoder(y)\n",
        "    for i in range(1):\n",
        "        cmap, norm = get_color_map(number_of_categories=9)\n",
        "        plt.title('output')\n",
        "        plt.imshow(np.argmax(predicted_decoding[i], axis=-1), interpolation='nearest', cmap=cmap, norm=norm)\n",
        "        plt.axis('off')\n",
        "        plt.show()"
      ],
      "metadata": {
        "id": "a4DrYZs2r_Tn",
        "outputId": "a931c55f-6adc-4187-b27f-b8e85bd0a0cf",
        "colab": {
          "base_uri": "https://localhost:8080/",
          "height": 1000
        }
      },
      "execution_count": 43,
      "outputs": [
        {
          "output_type": "display_data",
          "data": {
            "text/plain": [
              "<Figure size 640x480 with 1 Axes>"
            ],
            "image/png": "[encoded data removed]"
          },
          "metadata": {}
        },
        {
          "output_type": "display_data",
          "data": {
            "text/plain": [
              "<Figure size 640x480 with 1 Axes>"
            ],
            "image/png": "[encoded data removed]"
          },
          "metadata": {}
        },
        {
          "output_type": "display_data",
          "data": {
            "text/plain": [
              "<Figure size 640x480 with 1 Axes>"
            ],
            "image/png": "[encoded data removed]"
          },
          "metadata": {}
        },
        {
          "output_type": "display_data",
          "data": {
            "text/plain": [
              "<Figure size 640x480 with 1 Axes>"
            ],
            "image/png": "[encoded data removed]"
          },
          "metadata": {}
        },
        {
          "output_type": "display_data",
          "data": {
            "text/plain": [
              "<Figure size 640x480 with 1 Axes>"
            ],
            "image/png": "[encoded data removed]"
          },
          "metadata": {}
        },
        {
          "output_type": "display_data",
          "data": {
            "text/plain": [
              "<Figure size 640x480 with 1 Axes>"
            ],
            "image/png": "[encoded data removed]"
          },
          "metadata": {}
        },
        {
          "output_type": "display_data",
          "data": {
            "text/plain": [
              "<Figure size 640x480 with 1 Axes>"
            ],
            "image/png": "[encoded data removed]"
          },
          "metadata": {}
        },
        {
          "output_type": "display_data",
          "data": {
            "text/plain": [
              "<Figure size 640x480 with 1 Axes>"
            ],
            "image/png": "[encoded data removed]"
          },
          "metadata": {}
        },
        {
          "output_type": "display_data",
          "data": {
            "text/plain": [
              "<Figure size 640x480 with 1 Axes>"
            ],
            "image/png": "[encoded data removed]"
          },
          "metadata": {}
        },
        {
          "output_type": "display_data",
          "data": {
            "text/plain": [
              "<Figure size 640x480 with 1 Axes>"
            ],
            "image/png": "[encoded data removed]"
          },
          "metadata": {}
        },
        {
          "output_type": "stream",
          "name": "stdout",
          "text": [
            "----------------------------------------------------------------------------\n",
            "############################################################################\n",
            "----------------------------------------------------------------------------\n"
          ]
        },
        {
          "output_type": "display_data",
          "data": {
            "text/plain": [
              "<Figure size 640x480 with 1 Axes>"
            ],
            "image/png": "[encoded data removed]"
          },
          "metadata": {}
        },
        {
          "output_type": "display_data",
          "data": {
            "text/plain": [
              "<Figure size 640x480 with 1 Axes>"
            ],
            "image/png": "[encoded data removed]"
          },
          "metadata": {}
        },
        {
          "output_type": "display_data",
          "data": {
            "text/plain": [
              "<Figure size 640x480 with 1 Axes>"
            ],
            "image/png": "[encoded data removed]"
          },
          "metadata": {}
        },
        {
          "output_type": "display_data",
          "data": {
            "text/plain": [
              "<Figure size 640x480 with 1 Axes>"
            ],
            "image/png": "[encoded data removed]"
          },
          "metadata": {}
        },
        {
          "output_type": "display_data",
          "data": {
            "text/plain": [
              "<Figure size 640x480 with 1 Axes>"
            ],
            "image/png": "[encoded data removed]"
          },
          "metadata": {}
        },
        {
          "output_type": "display_data",
          "data": {
            "text/plain": [
              "<Figure size 640x480 with 1 Axes>"
            ],
            "image/png": "[encoded data removed]"
          },
          "metadata": {}
        },
        {
          "output_type": "display_data",
          "data": {
            "text/plain": [
              "<Figure size 640x480 with 1 Axes>"
            ],
            "image/png": "[encoded data removed]"
          },
          "metadata": {}
        },
        {
          "output_type": "display_data",
          "data": {
            "text/plain": [
              "<Figure size 640x480 with 1 Axes>"
            ],
            "image/png": "[encoded data removed]"
          },
          "metadata": {}
        },
        {
          "output_type": "display_data",
          "data": {
            "text/plain": [
              "<Figure size 640x480 with 1 Axes>"
            ],
            "image/png": "[encoded data removed]"
          },
          "metadata": {}
        },
        {
          "output_type": "display_data",
          "data": {
            "text/plain": [
              "<Figure size 640x480 with 1 Axes>"
            ],
            "image/png": "[encoded data removed]"
          },
          "metadata": {}
        }
      ]
    },
    {
      "cell_type": "code",
      "source": [
        "for i in range(5):\n",
        "    cmap, norm = get_color_map(number_of_categories=9)\n",
        "\n",
        "    plt.subplot(1, 2, 1)\n",
        "    plt.title('input')\n",
        "    plt.imshow(np.argmax(flattened_challenges[i], axis=-1), interpolation='nearest', cmap=cmap, norm=norm)\n",
        "    plt.axis('off')\n",
        "    plt.subplot(1, 2, 2)\n",
        "    plt.title('output')\n",
        "    plt.imshow(np.argmax(grid_modified[i], axis=-1), interpolation='nearest', cmap=cmap, norm=norm)\n",
        "    plt.axis('off')\n",
        "    plt.show()"
      ],
      "metadata": {
        "id": "bsja3IA4sgDF",
        "outputId": "f6428637-5f0a-4e8a-e7be-e8ddb6772a99",
        "colab": {
          "base_uri": "https://localhost:8080/",
          "height": 1000
        }
      },
      "execution_count": 44,
      "outputs": [
        {
          "output_type": "display_data",
          "data": {
            "text/plain": [
              "<Figure size 640x480 with 2 Axes>"
            ],
            "image/png": "[encoded data removed]"
          },
          "metadata": {}
        },
        {
          "output_type": "display_data",
          "data": {
            "text/plain": [
              "<Figure size 640x480 with 2 Axes>"
            ],
            "image/png": "[encoded data removed]"
          },
          "metadata": {}
        },
        {
          "output_type": "display_data",
          "data": {
            "text/plain": [
              "<Figure size 640x480 with 2 Axes>"
            ],
            "image/png": "[encoded data removed]"
          },
          "metadata": {}
        },
        {
          "output_type": "display_data",
          "data": {
            "text/plain": [
              "<Figure size 640x480 with 2 Axes>"
            ],
            "image/png": "[encoded data removed]"
          },
          "metadata": {}
        },
        {
          "output_type": "display_data",
          "data": {
            "text/plain": [
              "<Figure size 640x480 with 2 Axes>"
            ],
            "image/png": "[encoded data removed]"
          },
          "metadata": {}
        }
      ]
    }
  ]
}