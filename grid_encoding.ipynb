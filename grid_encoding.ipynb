{
  "nbformat": 4,
  "nbformat_minor": 0,
  "metadata": {
    "colab": {
      "provenance": [],
      "include_colab_link": true
    },
    "kernelspec": {
      "name": "python3",
      "display_name": "Python 3"
    },
    "language_info": {
      "name": "python"
    }
  },
  "cells": [
    {
      "cell_type": "markdown",
      "metadata": {
        "id": "view-in-github",
        "colab_type": "text"
      },
      "source": [
        "<a href=\"https://colab.research.google.com/github/Pumafi/problem_solving_rl_pumafi/blob/main/grid_encoding.ipynb\" target=\"_parent\"><img src=\"https://colab.research.google.com/assets/colab-badge.svg\" alt=\"Open In Colab\"/></a>"
      ]
    },
    {
      "cell_type": "code",
      "execution_count": 1,
      "metadata": {
        "colab": {
          "base_uri": "https://localhost:8080/"
        },
        "id": "XLBEvBpgYjNo",
        "outputId": "ddf3d92a-7f27-4159-db5c-a0154fed1191"
      },
      "outputs": [
        {
          "output_type": "stream",
          "name": "stdout",
          "text": [
            "/content\n",
            "Cloning into 'problem_solving_rl_pumafi'...\n",
            "remote: Enumerating objects: 23, done.\u001b[K\n",
            "remote: Counting objects: 100% (23/23), done.\u001b[K\n",
            "remote: Compressing objects: 100% (21/21), done.\u001b[K\n",
            "remote: Total 23 (delta 3), reused 0 (delta 0), pack-reused 0 (from 0)\u001b[K\n",
            "Receiving objects: 100% (23/23), 17.97 MiB | 9.46 MiB/s, done.\n",
            "Resolving deltas: 100% (3/3), done.\n",
            "/content/problem_solving_rl_pumafi\n"
          ]
        }
      ],
      "source": [
        "RUNNING_IN_COLAB = True\n",
        "\n",
        "%cd /content\n",
        "\n",
        "if RUNNING_IN_COLAB:\n",
        "    REPO_URL = 'https://github.com/Pumafi/problem_solving_rl_pumafi'\n",
        "    BRANCH   = 'main'\n",
        "    REPO_DIR = 'problem_solving_rl_pumafi'\n",
        "\n",
        "    from pathlib import Path\n",
        "\n",
        "    if Path(REPO_DIR).is_dir():\n",
        "      !rm -rf {REPO_DIR}\n",
        "\n",
        "    # Download the repository\n",
        "    if not Path(REPO_DIR).is_dir():\n",
        "        !git clone --branch {BRANCH} --depth=1 -- {REPO_URL} {REPO_DIR}\n",
        "\n",
        "    %cd {REPO_DIR}"
      ]
    },
    {
      "cell_type": "code",
      "source": [
        "from tensorflow import keras\n",
        "import pandas as pd\n",
        "import numpy as np\n",
        "\n",
        "import random\n",
        "import math\n",
        "from tqdm.notebook import trange, tqdm\n",
        "\n",
        "import matplotlib.pyplot as plt\n",
        "from matplotlib import colors\n",
        "\n",
        "\n",
        "from scipy.stats import kde\n",
        "from sklearn.metrics.pairwise import euclidean_distances\n",
        "\n",
        "import tensorflow as tf\n",
        "from keras.utils import to_categorical\n",
        "from tensorflow.keras import layers, losses\n",
        "from tensorflow.keras import regularizers\n",
        "from tensorflow.keras.models import Model"
      ],
      "metadata": {
        "id": "wuqLpqehYmQ2"
      },
      "execution_count": 2,
      "outputs": []
    },
    {
      "cell_type": "code",
      "source": [],
      "metadata": {
        "id": "LvOiHKzWiOfe"
      },
      "execution_count": null,
      "outputs": []
    },
    {
      "cell_type": "code",
      "source": [
        "# Load code from the repo\n",
        "from utils.data_handling import get_color_map, pad_to_shape, preprocess_challenge_data\n",
        "from utils.preprocess_metalearning_data import filter_and_split_inputs\n",
        "from models.autoencoder import AutoEncoder"
      ],
      "metadata": {
        "id": "XnQHErZ4YmUO"
      },
      "execution_count": 3,
      "outputs": []
    },
    {
      "cell_type": "code",
      "source": [
        "import json\n",
        "\n",
        "def load_json(file_path):\n",
        "    with open(file_path, 'r') as f:\n",
        "        return json.load(f)\n",
        "\n",
        "training_challenges = load_json('./data/arc-agi_training_challenges.json')\n",
        "training_solutions = load_json('./data/arc-agi_training_solutions.json')\n",
        "evaluation_challenges = load_json('./data/arc-agi_evaluation_challenges.json')\n",
        "\n",
        "print(\"Data loaded successfully.\")\n",
        "print(f\"Training tasks: {len(training_challenges)}\")\n",
        "print(f\"Evaluation tasks: {len(evaluation_challenges)}\")"
      ],
      "metadata": {
        "colab": {
          "base_uri": "https://localhost:8080/"
        },
        "id": "Krvii9ISYmXN",
        "outputId": "1e48eccf-595d-4217-bce4-582d24f94883"
      },
      "execution_count": 104,
      "outputs": [
        {
          "output_type": "stream",
          "name": "stdout",
          "text": [
            "Data loaded successfully.\n",
            "Training tasks: 400\n",
            "Evaluation tasks: 400\n"
          ]
        }
      ]
    },
    {
      "cell_type": "code",
      "source": [
        "# all inputs for meta learning, then the training data for latter\n",
        "challenge_propositioner_inputs, _, _, _, _ = preprocess_challenge_data(training_challenges, training_solutions)\n",
        "print(len(challenge_propositioner_inputs))"
      ],
      "metadata": {
        "colab": {
          "base_uri": "https://localhost:8080/"
        },
        "id": "BoDrfYxudPi0",
        "outputId": "b182fc47-61c1-4748-fff3-785c7ca80bcd"
      },
      "execution_count": 122,
      "outputs": [
        {
          "output_type": "stream",
          "name": "stdout",
          "text": [
            "400\n"
          ]
        }
      ]
    },
    {
      "cell_type": "code",
      "source": [
        "# In order of access we have:\n",
        "#     challenge_propositioner_inputs [problem_nb (list)] [example_nb (list)] [0/1 - input/output (tuple)] -> [30, 30, 10] (ndarray)\n",
        "\n",
        "# Visualize the size of examples sets (NB: All have at least 2 examples, but 2 is to few for my idea)\n",
        "for i in range(5):\n",
        "  print(\"Problem nb \", i +1, \" | nb examples: \", len(challenge_propositioner_inputs[i]))\n",
        "\n",
        "print(\"\\nSize of one grid: \", challenge_propositioner_inputs[0][0][0].shape)"
      ],
      "metadata": {
        "colab": {
          "base_uri": "https://localhost:8080/"
        },
        "id": "Cv3v5iekYs4N",
        "outputId": "f6f31838-5055-4498-8ed3-216a4a63862f"
      },
      "execution_count": 123,
      "outputs": [
        {
          "output_type": "stream",
          "name": "stdout",
          "text": [
            "Problem nb  1  | nb examples:  5\n",
            "Problem nb  2  | nb examples:  5\n",
            "Problem nb  3  | nb examples:  3\n",
            "Problem nb  4  | nb examples:  2\n",
            "Problem nb  5  | nb examples:  3\n",
            "\n",
            "Size of one grid:  (30, 30, 10)\n"
          ]
        }
      ]
    },
    {
      "cell_type": "code",
      "source": [
        "flattened_challenges = [\n",
        "    x\n",
        "    for xss in challenge_propositioner_inputs\n",
        "    for xs in xss\n",
        "    for x in xs\n",
        "]\n",
        "\n",
        "flattened_challenges = np.array(flattened_challenges)\n",
        "\n",
        "print(flattened_challenges.shape)"
      ],
      "metadata": {
        "colab": {
          "base_uri": "https://localhost:8080/"
        },
        "id": "q2jDTzmcdYv0",
        "outputId": "a456f048-4250-46f6-a62f-cb3c5b4b42d8"
      },
      "execution_count": 124,
      "outputs": [
        {
          "output_type": "stream",
          "name": "stdout",
          "text": [
            "(2604, 30, 30, 10)\n"
          ]
        }
      ]
    },
    {
      "cell_type": "code",
      "source": [
        "cmap, norm = get_color_map(number_of_categories=9)\n",
        "\n",
        "plt.subplot(1, 2, 1)\n",
        "plt.title('input')\n",
        "plt.imshow(np.argmax(challenge_propositioner_inputs[0][0][0], axis=-1), interpolation='nearest', cmap=cmap, norm=norm)\n",
        "plt.axis('off')\n",
        "plt.subplot(1, 2, 2)\n",
        "plt.title('output')\n",
        "plt.imshow(np.argmax(challenge_propositioner_inputs[0][0][1], axis=-1), interpolation='nearest', cmap=cmap, norm=norm)\n",
        "plt.axis('off')\n",
        "plt.show()"
      ],
      "metadata": {
        "colab": {
          "base_uri": "https://localhost:8080/",
          "height": 284
        },
        "id": "_tkp6Um0aUm1",
        "outputId": "40c656f7-b064-4c61-b779-b35bc1ef6242"
      },
      "execution_count": 125,
      "outputs": [
        {
          "output_type": "display_data",
          "data": {
            "text/plain": [
              "<Figure size 640x480 with 2 Axes>"
            ],
            "image/png": "[encoded data removed]"
          },
          "metadata": {}
        }
      ]
    },
    {
      "cell_type": "code",
      "source": [
        "#NB: for this and place cell, get inspiration from GANs, variational distance for Kozachenko-Leonenko, as well as initializing the ccenter of massesf\n",
        "\n",
        "autoencoder = AutoEncoder()\n",
        "autoencoder.compile(optimizer=keras.optimizers.Adam(learning_rate=5e-4), loss=losses.CategoricalCrossentropy())\n",
        "autoencoder.build([None, flattened_challenges.shape[1], flattened_challenges.shape[2], 10])\n"
      ],
      "metadata": {
        "colab": {
          "base_uri": "https://localhost:8080/"
        },
        "id": "4BmHW-rTctV3",
        "outputId": "336b7a6a-2d2a-4729-e731-d8d3be6d7033"
      },
      "execution_count": 126,
      "outputs": [
        {
          "output_type": "stream",
          "name": "stderr",
          "text": [
            "/usr/local/lib/python3.11/dist-packages/keras/src/layers/layer.py:393: UserWarning: `build()` was called on layer 'auto_encoder_2', however the layer does not have a `build()` method implemented and it looks like it has unbuilt state. This will cause the layer to be marked as built, despite not being actually built, which may cause failures down the line. Make sure to implement a proper `build()` method.\n",
            "  warnings.warn(\n"
          ]
        }
      ]
    },
    {
      "cell_type": "code",
      "source": [
        "encoded_imgs = autoencoder.encoder(flattened_challenges[:2]).numpy()\n",
        "decoded_imgs = autoencoder.decoder(encoded_imgs[:2]).numpy()"
      ],
      "metadata": {
        "id": "g-DXsr58dphx"
      },
      "execution_count": 127,
      "outputs": []
    },
    {
      "cell_type": "code",
      "source": [
        "autoencoder.encoder.load_weights(\"weights/weigts-encoder.weights.h5\")\n",
        "autoencoder.decoder.load_weights(\"weights/weigts-decoder.weights.h5\")"
      ],
      "metadata": {
        "id": "k8vo9qQxdiO8"
      },
      "execution_count": 128,
      "outputs": []
    },
    {
      "cell_type": "code",
      "source": [
        "encoded_imgs = autoencoder.encoder(flattened_challenges[:11]).numpy()\n",
        "decoded_imgs = autoencoder.decoder(encoded_imgs[:11]).numpy()"
      ],
      "metadata": {
        "id": "40VnVUFEdxQk"
      },
      "execution_count": 129,
      "outputs": []
    },
    {
      "cell_type": "code",
      "source": [
        "n = 10\n",
        "plt.figure(figsize=(20, 4))\n",
        "for i in range(n):\n",
        "  # display original\n",
        "  ax = plt.subplot(2, n, i + 1)\n",
        "  plt.imshow(np.argmax(flattened_challenges[i], axis=-1), interpolation='nearest', cmap=cmap, norm=norm)\n",
        "  plt.title(\"original\")\n",
        "  #plt.gray()\n",
        "  ax.get_xaxis().set_visible(False)\n",
        "  ax.get_yaxis().set_visible(False)\n",
        "\n",
        "  # display reconstruction\n",
        "  ax = plt.subplot(2, n, i + 1 + n)\n",
        "  plt.imshow(np.argmax(decoded_imgs[i], axis=-1), interpolation='nearest', cmap=cmap, norm=norm)\n",
        "  plt.title(\"reconstructed\")\n",
        "  #plt.gray()\n",
        "  ax.get_xaxis().set_visible(False)\n",
        "  ax.get_yaxis().set_visible(False)\n",
        "plt.show()"
      ],
      "metadata": {
        "colab": {
          "base_uri": "https://localhost:8080/",
          "height": 358
        },
        "id": "FIV0tmBEc_H0",
        "outputId": "7b0aa989-7209-4fc6-b95d-eb47fde2ceb0"
      },
      "execution_count": 130,
      "outputs": [
        {
          "output_type": "display_data",
          "data": {
            "text/plain": [
              "<Figure size 2000x400 with 20 Axes>"
            ],
            "image/png": "[encoded data removed]"
          },
          "metadata": {}
        }
      ]
    },
    {
      "cell_type": "markdown",
      "source": [
        "## Move Enconding"
      ],
      "metadata": {
        "id": "jQAcLvAnsU9f"
      }
    },
    {
      "cell_type": "code",
      "source": [
        "def generate_random_move(batch_size):\n",
        "    position_x = np.random.randint(0, 30, (batch_size, 1))\n",
        "    position_y = np.random.randint(0, 30, (batch_size, 1))\n",
        "    n_values = 30\n",
        "    position_x = np.squeeze(np.eye(n_values)[position_x])\n",
        "\n",
        "    n_values = 30\n",
        "    position_y = np.squeeze(np.eye(n_values)[position_y])\n",
        "\n",
        "    move = np.random.randint(0, 10, (batch_size, 1))\n",
        "    n_values = 10\n",
        "    move = np.squeeze(np.eye(n_values)[move], )\n",
        "    return move, position_x, position_y"
      ],
      "metadata": {
        "id": "RmLjSVGpsaSe"
      },
      "execution_count": 238,
      "outputs": []
    },
    {
      "cell_type": "code",
      "source": [
        "batch_size = 5\n",
        "\n",
        "move, position_x, position_y = generate_random_move(batch_size)\n",
        "\n",
        "print(position_x.shape, move.shape)"
      ],
      "metadata": {
        "id": "i8idc2woeMYu",
        "outputId": "d68b5bc8-2bdc-4745-a650-3aced753bbb6",
        "colab": {
          "base_uri": "https://localhost:8080/"
        }
      },
      "execution_count": 255,
      "outputs": [
        {
          "output_type": "stream",
          "name": "stdout",
          "text": [
            "(5, 30) (5, 10)\n"
          ]
        }
      ]
    },
    {
      "cell_type": "code",
      "source": [
        "import tensorflow as tf\n",
        "\n",
        "# Do a wrapper and apply using a mapping\n",
        "\n",
        "def apply_move(grid, move, position_x, position_y, batch_size):\n",
        "    position_x = tf.argmax(position_x, axis=-1)\n",
        "    position_y = tf.argmax(position_y, axis=-1)\n",
        "    print(grid.shape)\n",
        "    grid_modified = tf.identity(grid)\n",
        "    for i in range(batch_size):\n",
        "        grid_modified = tf.tensor_scatter_nd_update(grid_modified, [[i, position_x[i], position_y[i]]], [move[i]])\n",
        "    return grid_modified"
      ],
      "metadata": {
        "id": "-EZ5UaCMgCzH"
      },
      "execution_count": 270,
      "outputs": []
    },
    {
      "cell_type": "code",
      "source": [
        "grid_modified = apply_move(flattened_challenges[:batch_size], move, position_x, position_y, batch_size)"
      ],
      "metadata": {
        "id": "WAd28VJvgzGu",
        "outputId": "7ec2ba54-fe08-4fa3-dccb-216472d25564",
        "colab": {
          "base_uri": "https://localhost:8080/"
        }
      },
      "execution_count": 271,
      "outputs": [
        {
          "output_type": "stream",
          "name": "stdout",
          "text": [
            "(5, 30, 30, 10)\n"
          ]
        }
      ]
    },
    {
      "cell_type": "code",
      "source": [
        "print(position_x.shape, move.shape)"
      ],
      "metadata": {
        "id": "w2TROocnktco",
        "outputId": "4250b626-5a66-453a-9eab-6940b1f575f8",
        "colab": {
          "base_uri": "https://localhost:8080/"
        }
      },
      "execution_count": 272,
      "outputs": [
        {
          "output_type": "stream",
          "name": "stdout",
          "text": [
            "(5, 30) (5, 10)\n"
          ]
        }
      ]
    },
    {
      "cell_type": "code",
      "source": [
        "for i in range(5):\n",
        "    cmap, norm = get_color_map(number_of_categories=9)\n",
        "\n",
        "    plt.subplot(1, 2, 1)\n",
        "    plt.title('input')\n",
        "    plt.imshow(np.argmax(flattened_challenges[i], axis=-1), interpolation='nearest', cmap=cmap, norm=norm)\n",
        "    plt.axis('off')\n",
        "    plt.subplot(1, 2, 2)\n",
        "    plt.title('output')\n",
        "    plt.imshow(np.argmax(grid_modified[i], axis=-1), interpolation='nearest', cmap=cmap, norm=norm)\n",
        "    plt.axis('off')\n",
        "    plt.show()"
      ],
      "metadata": {
        "id": "5fdxS-Y6h0aJ",
        "outputId": "7e456f0e-6c2d-475f-c9fc-b1a5a5dd407c",
        "colab": {
          "base_uri": "https://localhost:8080/",
          "height": 1000
        }
      },
      "execution_count": 273,
      "outputs": [
        {
          "output_type": "display_data",
          "data": {
            "text/plain": [
              "<Figure size 640x480 with 2 Axes>"
            ],
            "image/png": "[encoded data removed]"
          },
          "metadata": {}
        },
        {
          "output_type": "display_data",
          "data": {
            "text/plain": [
              "<Figure size 640x480 with 2 Axes>"
            ],
            "image/png": "[encoded data removed]"
          },
          "metadata": {}
        },
        {
          "output_type": "display_data",
          "data": {
            "text/plain": [
              "<Figure size 640x480 with 2 Axes>"
            ],
            "image/png": "[encoded data removed]"
          },
          "metadata": {}
        },
        {
          "output_type": "display_data",
          "data": {
            "text/plain": [
              "<Figure size 640x480 with 2 Axes>"
            ],
            "image/png": "[encoded data removed]"
          },
          "metadata": {}
        },
        {
          "output_type": "display_data",
          "data": {
            "text/plain": [
              "<Figure size 640x480 with 2 Axes>"
            ],
            "image/png": "[encoded data removed]"
          },
          "metadata": {}
        }
      ]
    },
    {
      "cell_type": "markdown",
      "source": [
        "## Grid Cell Machines"
      ],
      "metadata": {
        "id": "dymuutfyevQU"
      }
    },
    {
      "cell_type": "code",
      "source": [
        "import random\n",
        "\n",
        "latent_dim = 256\n",
        "\n",
        "class GridLikeEncoding(Model):\n",
        "    def __init__(self, encoder, batch_size=32):\n",
        "      super(GridLikeEncoding, self).__init__()\n",
        "\n",
        "      self.move_encoding = layers.Dense(32, activation=tf.keras.layers.LeakyReLU())\n",
        "      self.position_encoding = layers.Dense(32, activation=tf.keras.layers.LeakyReLU())\n",
        "      self.pos_move_concat = layers.Concatenate(axis=-1)\n",
        "\n",
        "\n",
        "      self.conv = layers.Conv2D(32, (3, 3), activation='swish', padding='same', strides=2)\n",
        "      self.flat = layers.Flatten()\n",
        "      self.visual_1 = layers.Dense(256, activation=tf.keras.layers.LeakyReLU())\n",
        "      self.visual_2 = layers.Dense(128, activation=tf.keras.layers.LeakyReLU())\n",
        "\n",
        "\n",
        "      self.input_concat = layers.Concatenate(axis=-1)\n",
        "      self.input_encoding = layers.Dense(256, activation=tf.keras.layers.LeakyReLU())\n",
        "      self.lstm = keras.layers.LSTM(256)\n",
        "      self.grid_encoder = layers.Dense(512, activation=tf.keras.layers.LeakyReLU())\n",
        "      self.grid_layer = layers.Dense(1024, activation='sigmoid')\n",
        "\n",
        "      self.encoder = encoder\n",
        "      self.encoder.trainable = False\n",
        "\n",
        "      self.nb_moves_train = 10\n",
        "      self.batch_size = batch_size\n",
        "\n",
        "      self.gridlike_encoder = tf.keras.Sequential([\n",
        "        layers.Input(shape=(1024,)),\n",
        "        layers.Dense(1024, activation=tf.keras.layers.LeakyReLU()),\n",
        "        layers.Dropout(0.1),\n",
        "        layers.Dense(1024, activation=tf.keras.layers.LeakyReLU()),\n",
        "        layers.Dense(512, activation=tf.keras.layers.LeakyReLU()),\n",
        "        layers.Dropout(0.1),\n",
        "        layers.Dense(512, activation=tf.keras.layers.LeakyReLU()),\n",
        "        layers.Dense(256, activation=tf.keras.layers.LeakyReLU()),\n",
        "        layers.Dropout(0.1),\n",
        "        layers.Dense(256, activation=tf.keras.layers.LeakyReLU()),\n",
        "        layers.Dense(latent_dim, activation=tf.keras.layers.LeakyReLU()),])\n",
        "\n",
        "\n",
        "    def compile(self, **kwargs):\n",
        "        super().compile(**kwargs)\n",
        "        self.loss_tracker = keras.metrics.Mean(name=\"loss\")\n",
        "\n",
        "    @property\n",
        "    def metrics(self):\n",
        "        return [self.loss_tracker,]\n",
        "\n",
        "    def call(self, inputs):\n",
        "        move_input, position_input, visual_input = inputs\n",
        "\n",
        "        move_encoded = self.move_encoding(move_input)\n",
        "        position_encoded = self.position_encoding(position_input)\n",
        "        pos_move_encoded = self.pos_move_concat([move_encoded, position_encoded])\n",
        "\n",
        "        visual_encoded = self.conv(visual_input)\n",
        "        visual_encoded = self.flat(visual_encoded)\n",
        "        visual_encoded = self.visual_1(visual_encoded)\n",
        "        visual_encoded = self.visual_2(visual_encoded)\n",
        "\n",
        "        combined_input = self.input_concat([pos_move_encoded, visual_encoded])\n",
        "        input_encoded = self.input_encoding(combined_input)\n",
        "\n",
        "        lstm_out = self.lstm(tf.expand_dims(input_encoded, axis=1))\n",
        "\n",
        "        grid_encoded = self.grid_encoder(lstm_out)\n",
        "        grid_out = self.grid_layer(grid_encoded)\n",
        "\n",
        "        latent_representation = self.gridlike_encoder(grid_out)\n",
        "\n",
        "        return latent_representation\n",
        "\n",
        "    def train_step(self, input_grids):\n",
        "\n",
        "        grid_modified = input_grids\n",
        "        moves, positions = [], []\n",
        "        historic = [input_grids, ]\n",
        "\n",
        "        for i in range(self.nb_moves_train):\n",
        "            move, position_x, position_y = generate_random_move(self.batch_size)\n",
        "            moves = moves.append(move)\n",
        "            positions = positions.append(np.concatenate([position_x, position_y], axis=-1))\n",
        "            grid_modified = apply_move(grid_modified, move, position_x, position_y, self.batch_size)\n",
        "            historic.append(grid_modified)\n",
        "\n",
        "        ground_truth_encoding = self.encode(grid_modified)\n",
        "\n",
        "        moves = np.array(moves)\n",
        "        positions= np.array(positions)\n",
        "\n",
        "        y = input_grids\n",
        "        with tf.GradientTape() as tape:\n",
        "            for i in range(self.nb_moves_train):\n",
        "                visual = historic[i] if random.randint(0, 100) <= 10 else np.zeros_like(historic[i])\n",
        "                y = self.call([moves[i], positions[i], visual])\n",
        "            loss = self.loss(ground_truth_encoding, y)\n",
        "\n",
        "        gradients_model = tape.gradient(loss, self.trainable_weights)\n",
        "        self.optimizer.apply_gradients(zip(gradients_model, self.trainable_weights))\n",
        "\n",
        "        self.loss_tracker.update_state(loss)\n",
        "        return {m.name: m.result() for m in self.metrics}\n",
        "\n",
        "    def test_step(self, input_grids):\n",
        "\n",
        "        grid_modified = input_grids\n",
        "        moves, positions = [], []\n",
        "        historic = [input_grids, ]\n",
        "\n",
        "        for i in range(self.nb_moves_train):\n",
        "            move, position_x, position_y = generate_random_move(self.batch_size)\n",
        "            moves = moves.appe(move)\n",
        "            positions = positions.append(np.concatenate([position_x, position_y], axis=-1))\n",
        "            grid_modified = apply_move(grid_modified, move, position_x, position_y, self.batch_size)\n",
        "            historic.append(grid_modified)\n",
        "\n",
        "        ground_truth_encoding = self.encode(grid_modified)\n",
        "\n",
        "        moves = np.array(moves)\n",
        "        positions= np.array(positions)\n",
        "\n",
        "        y = input_grids\n",
        "        for i in range(self.nb_moves_train):\n",
        "\n",
        "            visual = historic[i] if random.randint(0, 100) <= 10 else np.zeros_like(historic[i])\n",
        "\n",
        "            y = self.call([moves[i], positions[i], visual])\n",
        "        loss = self.loss(ground_truth_encoding, y)\n",
        "\n",
        "        self.loss_tracker.update_state(loss)\n",
        "        return {m.name: m.result() for m in self.metrics}"
      ],
      "metadata": {
        "id": "GYSlZEgLd0cd"
      },
      "execution_count": 274,
      "outputs": []
    },
    {
      "cell_type": "code",
      "source": [
        "gridlike_model = GridLikeEncoding(autoencoder.encoder)"
      ],
      "metadata": {
        "id": "67LxcQELuXO1"
      },
      "execution_count": 275,
      "outputs": []
    },
    {
      "cell_type": "code",
      "source": [
        "gridlike_model.compile(optimizer=keras.optimizers.Adam(learning_rate=5e-4), loss=losses.MeanSquaredError())\n",
        "gridlike_model.build([None, flattened_challenges.shape[1], flattened_challenges.shape[2], 10])"
      ],
      "metadata": {
        "id": "AVj5s2f1y9-O",
        "outputId": "2de22260-5608-416b-cf0c-83818448ec7c",
        "colab": {
          "base_uri": "https://localhost:8080/"
        }
      },
      "execution_count": 276,
      "outputs": [
        {
          "output_type": "stream",
          "name": "stderr",
          "text": [
            "/usr/local/lib/python3.11/dist-packages/keras/src/layers/layer.py:393: UserWarning: `build()` was called on layer 'grid_like_encoding_14', however the layer does not have a `build()` method implemented and it looks like it has unbuilt state. This will cause the layer to be marked as built, despite not being actually built, which may cause failures down the line. Make sure to implement a proper `build()` method.\n",
            "  warnings.warn(\n"
          ]
        }
      ]
    },
    {
      "cell_type": "code",
      "source": [
        "batch_size = 5\n",
        "move, position_x, position_y = generate_random_move(batch_size)\n",
        "position = np.concatenate([position_x, position_y], axis=-1)\n",
        "gridlike_model.call([move, position, flattened_challenges[:batch_size]])"
      ],
      "metadata": {
        "id": "3iedKzoVzhxM",
        "outputId": "d9b5c4ed-8fb4-46ee-efcc-cc3232185815",
        "colab": {
          "base_uri": "https://localhost:8080/"
        }
      },
      "execution_count": 277,
      "outputs": [
        {
          "output_type": "execute_result",
          "data": {
            "text/plain": [
              "<tf.Tensor: shape=(5, 256), dtype=float32, numpy=\n",
              "array([[ 0.05587051, -0.00323937, -0.01495678, ..., -0.01081975,\n",
              "        -0.0336476 , -0.03096069],\n",
              "       [ 0.05513272, -0.00334693, -0.01497568, ..., -0.01064751,\n",
              "        -0.0337633 , -0.03107949],\n",
              "       [ 0.05515217, -0.00334972, -0.01491114, ..., -0.01076486,\n",
              "        -0.03370629, -0.03105262],\n",
              "       [ 0.05472785, -0.00330643, -0.01497623, ..., -0.01072794,\n",
              "        -0.03365055, -0.03095728],\n",
              "       [ 0.05491189, -0.003223  , -0.01501622, ..., -0.01071013,\n",
              "        -0.03368375, -0.03096614]], dtype=float32)>"
            ]
          },
          "metadata": {},
          "execution_count": 277
        }
      ]
    },
    {
      "cell_type": "code",
      "source": [
        "flattened_challenges.shape"
      ],
      "metadata": {
        "id": "khcpXzYD719H",
        "outputId": "cc0e174b-cd41-48cc-defe-fa7808832b83",
        "colab": {
          "base_uri": "https://localhost:8080/"
        }
      },
      "execution_count": 278,
      "outputs": [
        {
          "output_type": "execute_result",
          "data": {
            "text/plain": [
              "(2604, 30, 30, 10)"
            ]
          },
          "metadata": {},
          "execution_count": 278
        }
      ]
    },
    {
      "cell_type": "code",
      "source": [
        "history = gridlike_model.fit(flattened_challenges,\n",
        "                             epochs=100,\n",
        "                             batch_size=32,\n",
        "                             shuffle=True,\n",
        "                             validation_split=0.2)"
      ],
      "metadata": {
        "id": "J9lU91Mm3Y8E",
        "outputId": "299fda1d-433b-4448-adfc-1eb6ddcc4a55",
        "colab": {
          "base_uri": "https://localhost:8080/",
          "height": 633
        }
      },
      "execution_count": 279,
      "outputs": [
        {
          "output_type": "stream",
          "name": "stdout",
          "text": [
            "Epoch 1/100\n",
            "(None, 30, 30, 10)\n"
          ]
        },
        {
          "output_type": "error",
          "ename": "ValueError",
          "evalue": "Tried to convert 'updates' to a tensor and failed. Error: Expected values [array([0., 0., 0., 0., 0., 1., 0., 0., 0., 0.])] to be a dense tensor with shape [1], but got shape [1, 10].",
          "traceback": [
            "\u001b[0;31m---------------------------------------------------------------------------\u001b[0m",
            "\u001b[0;31mValueError\u001b[0m                                Traceback (most recent call last)",
            "\u001b[0;32m<ipython-input-279-6bd4a02ffc49>\u001b[0m in \u001b[0;36m<cell line: 0>\u001b[0;34m()\u001b[0m\n\u001b[0;32m----> 1\u001b[0;31m history = gridlike_model.fit(flattened_challenges,\n\u001b[0m\u001b[1;32m      2\u001b[0m                              \u001b[0mepochs\u001b[0m\u001b[0;34m=\u001b[0m\u001b[0;36m100\u001b[0m\u001b[0;34m,\u001b[0m\u001b[0;34m\u001b[0m\u001b[0;34m\u001b[0m\u001b[0m\n\u001b[1;32m      3\u001b[0m                              \u001b[0mbatch_size\u001b[0m\u001b[0;34m=\u001b[0m\u001b[0;36m32\u001b[0m\u001b[0;34m,\u001b[0m\u001b[0;34m\u001b[0m\u001b[0;34m\u001b[0m\u001b[0m\n\u001b[1;32m      4\u001b[0m                              \u001b[0mshuffle\u001b[0m\u001b[0;34m=\u001b[0m\u001b[0;32mTrue\u001b[0m\u001b[0;34m,\u001b[0m\u001b[0;34m\u001b[0m\u001b[0;34m\u001b[0m\u001b[0m\n\u001b[1;32m      5\u001b[0m                              validation_split=0.2)\n",
            "\u001b[0;32m/usr/local/lib/python3.11/dist-packages/keras/src/utils/traceback_utils.py\u001b[0m in \u001b[0;36merror_handler\u001b[0;34m(*args, **kwargs)\u001b[0m\n\u001b[1;32m    120\u001b[0m             \u001b[0;31m# To get the full stack trace, call:\u001b[0m\u001b[0;34m\u001b[0m\u001b[0;34m\u001b[0m\u001b[0m\n\u001b[1;32m    121\u001b[0m             \u001b[0;31m# `keras.config.disable_traceback_filtering()`\u001b[0m\u001b[0;34m\u001b[0m\u001b[0;34m\u001b[0m\u001b[0m\n\u001b[0;32m--> 122\u001b[0;31m             \u001b[0;32mraise\u001b[0m \u001b[0me\u001b[0m\u001b[0;34m.\u001b[0m\u001b[0mwith_traceback\u001b[0m\u001b[0;34m(\u001b[0m\u001b[0mfiltered_tb\u001b[0m\u001b[0;34m)\u001b[0m \u001b[0;32mfrom\u001b[0m \u001b[0;32mNone\u001b[0m\u001b[0;34m\u001b[0m\u001b[0;34m\u001b[0m\u001b[0m\n\u001b[0m\u001b[1;32m    123\u001b[0m         \u001b[0;32mfinally\u001b[0m\u001b[0;34m:\u001b[0m\u001b[0;34m\u001b[0m\u001b[0;34m\u001b[0m\u001b[0m\n\u001b[1;32m    124\u001b[0m             \u001b[0;32mdel\u001b[0m \u001b[0mfiltered_tb\u001b[0m\u001b[0;34m\u001b[0m\u001b[0;34m\u001b[0m\u001b[0m\n",
            "\u001b[0;32m<ipython-input-274-b6e8fb946003>\u001b[0m in \u001b[0;36mtrain_step\u001b[0;34m(self, input_grids)\u001b[0m\n\u001b[1;32m     86\u001b[0m             \u001b[0mmoves\u001b[0m \u001b[0;34m=\u001b[0m \u001b[0mmoves\u001b[0m\u001b[0;34m.\u001b[0m\u001b[0mappend\u001b[0m\u001b[0;34m(\u001b[0m\u001b[0mmove\u001b[0m\u001b[0;34m)\u001b[0m\u001b[0;34m\u001b[0m\u001b[0;34m\u001b[0m\u001b[0m\n\u001b[1;32m     87\u001b[0m             \u001b[0mpositions\u001b[0m \u001b[0;34m=\u001b[0m \u001b[0mpositions\u001b[0m\u001b[0;34m.\u001b[0m\u001b[0mappend\u001b[0m\u001b[0;34m(\u001b[0m\u001b[0mnp\u001b[0m\u001b[0;34m.\u001b[0m\u001b[0mconcatenate\u001b[0m\u001b[0;34m(\u001b[0m\u001b[0;34m[\u001b[0m\u001b[0mposition_x\u001b[0m\u001b[0;34m,\u001b[0m \u001b[0mposition_y\u001b[0m\u001b[0;34m]\u001b[0m\u001b[0;34m,\u001b[0m \u001b[0maxis\u001b[0m\u001b[0;34m=\u001b[0m\u001b[0;34m-\u001b[0m\u001b[0;36m1\u001b[0m\u001b[0;34m)\u001b[0m\u001b[0;34m)\u001b[0m\u001b[0;34m\u001b[0m\u001b[0;34m\u001b[0m\u001b[0m\n\u001b[0;32m---> 88\u001b[0;31m             \u001b[0mgrid_modified\u001b[0m \u001b[0;34m=\u001b[0m \u001b[0mapply_move\u001b[0m\u001b[0;34m(\u001b[0m\u001b[0mgrid_modified\u001b[0m\u001b[0;34m,\u001b[0m \u001b[0mmove\u001b[0m\u001b[0;34m,\u001b[0m \u001b[0mposition_x\u001b[0m\u001b[0;34m,\u001b[0m \u001b[0mposition_y\u001b[0m\u001b[0;34m,\u001b[0m \u001b[0mself\u001b[0m\u001b[0;34m.\u001b[0m\u001b[0mbatch_size\u001b[0m\u001b[0;34m)\u001b[0m\u001b[0;34m\u001b[0m\u001b[0;34m\u001b[0m\u001b[0m\n\u001b[0m\u001b[1;32m     89\u001b[0m             \u001b[0mhistoric\u001b[0m\u001b[0;34m.\u001b[0m\u001b[0mappend\u001b[0m\u001b[0;34m(\u001b[0m\u001b[0mgrid_modified\u001b[0m\u001b[0;34m)\u001b[0m\u001b[0;34m\u001b[0m\u001b[0;34m\u001b[0m\u001b[0m\n\u001b[1;32m     90\u001b[0m \u001b[0;34m\u001b[0m\u001b[0m\n",
            "\u001b[0;32m<ipython-input-270-df7c26f352fe>\u001b[0m in \u001b[0;36mapply_move\u001b[0;34m(grid, move, position_x, position_y, batch_size)\u001b[0m\n\u001b[1;32m      7\u001b[0m     \u001b[0mgrid_modified\u001b[0m \u001b[0;34m=\u001b[0m \u001b[0mtf\u001b[0m\u001b[0;34m.\u001b[0m\u001b[0midentity\u001b[0m\u001b[0;34m(\u001b[0m\u001b[0mgrid\u001b[0m\u001b[0;34m)\u001b[0m\u001b[0;34m\u001b[0m\u001b[0;34m\u001b[0m\u001b[0m\n\u001b[1;32m      8\u001b[0m     \u001b[0;32mfor\u001b[0m \u001b[0mi\u001b[0m \u001b[0;32min\u001b[0m \u001b[0mrange\u001b[0m\u001b[0;34m(\u001b[0m\u001b[0mbatch_size\u001b[0m\u001b[0;34m)\u001b[0m\u001b[0;34m:\u001b[0m\u001b[0;34m\u001b[0m\u001b[0;34m\u001b[0m\u001b[0m\n\u001b[0;32m----> 9\u001b[0;31m         \u001b[0mgrid_modified\u001b[0m \u001b[0;34m=\u001b[0m \u001b[0mtf\u001b[0m\u001b[0;34m.\u001b[0m\u001b[0mtensor_scatter_nd_update\u001b[0m\u001b[0;34m(\u001b[0m\u001b[0mgrid_modified\u001b[0m\u001b[0;34m,\u001b[0m \u001b[0;34m[\u001b[0m\u001b[0;34m[\u001b[0m\u001b[0mi\u001b[0m\u001b[0;34m,\u001b[0m \u001b[0mposition_x\u001b[0m\u001b[0;34m[\u001b[0m\u001b[0mi\u001b[0m\u001b[0;34m]\u001b[0m\u001b[0;34m,\u001b[0m \u001b[0mposition_y\u001b[0m\u001b[0;34m[\u001b[0m\u001b[0mi\u001b[0m\u001b[0;34m]\u001b[0m\u001b[0;34m]\u001b[0m\u001b[0;34m]\u001b[0m\u001b[0;34m,\u001b[0m \u001b[0;34m[\u001b[0m\u001b[0mmove\u001b[0m\u001b[0;34m[\u001b[0m\u001b[0mi\u001b[0m\u001b[0;34m]\u001b[0m\u001b[0;34m]\u001b[0m\u001b[0;34m)\u001b[0m\u001b[0;34m\u001b[0m\u001b[0;34m\u001b[0m\u001b[0m\n\u001b[0m\u001b[1;32m     10\u001b[0m     \u001b[0;32mreturn\u001b[0m \u001b[0mgrid_modified\u001b[0m\u001b[0;34m\u001b[0m\u001b[0;34m\u001b[0m\u001b[0m\n",
            "\u001b[0;31mValueError\u001b[0m: Tried to convert 'updates' to a tensor and failed. Error: Expected values [array([0., 0., 0., 0., 0., 1., 0., 0., 0., 0.])] to be a dense tensor with shape [1], but got shape [1, 10]."
          ]
        }
      ]
    }
  ]
}