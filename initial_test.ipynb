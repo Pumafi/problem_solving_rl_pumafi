{
  "cells": [
    {
      "cell_type": "markdown",
      "metadata": {
        "id": "view-in-github",
        "colab_type": "text"
      },
      "source": [
        "<a href=\"https://colab.research.google.com/github/Pumafi/problem_solving_rl_pumafi/blob/main/initial_test.ipynb\" target=\"_parent\"><img src=\"https://colab.research.google.com/assets/colab-badge.svg\" alt=\"Open In Colab\"/></a>"
      ]
    },
    {
      "cell_type": "markdown",
      "metadata": {
        "id": "CW0dfyb4k2Xg"
      },
      "source": [
        "## ARC-AGI\n",
        "\n",
        "Ferdinand Bhavsar\n",
        "\n",
        "PhD student, Mines Paris"
      ]
    },
    {
      "cell_type": "code",
      "source": [],
      "metadata": {
        "id": "WbP3ibfPxEUt"
      },
      "execution_count": null,
      "outputs": []
    },
    {
      "cell_type": "code",
      "source": [
        "RUNNING_IN_COLAB = True\n",
        "\n",
        "%cd /content\n",
        "\n",
        "if RUNNING_IN_COLAB:\n",
        "    REPO_URL = 'https://github.com/Pumafi/problem_solving_rl_pumafi'\n",
        "    BRANCH   = 'main'\n",
        "    REPO_DIR = 'problem_solving_rl_pumafi'\n",
        "\n",
        "    from pathlib import Path\n",
        "\n",
        "    if Path(REPO_DIR).is_dir():\n",
        "      !rm -rf {REPO_DIR}\n",
        "\n",
        "    # Download the repository\n",
        "    if not Path(REPO_DIR).is_dir():\n",
        "        !git clone --branch {BRANCH} --depth=1 -- {REPO_URL} {REPO_DIR}\n",
        "\n",
        "    %cd {REPO_DIR}"
      ],
      "metadata": {
        "id": "bAMPTlvTrU5Z",
        "colab": {
          "base_uri": "https://localhost:8080/"
        },
        "outputId": "1ae423da-5122-4063-acc8-a9269a84f855"
      },
      "execution_count": 1,
      "outputs": [
        {
          "output_type": "stream",
          "name": "stdout",
          "text": [
            "/content\n",
            "Cloning into 'problem_solving_rl_pumafi'...\n",
            "remote: Enumerating objects: 14, done.\u001b[K\n",
            "remote: Counting objects: 100% (14/14), done.\u001b[K\n",
            "remote: Compressing objects: 100% (12/12), done.\u001b[K\n",
            "remote: Total 14 (delta 2), reused 0 (delta 0), pack-reused 0 (from 0)\u001b[K\n",
            "Receiving objects: 100% (14/14), 389.89 KiB | 2.71 MiB/s, done.\n",
            "Resolving deltas: 100% (2/2), done.\n",
            "/content/problem_solving_rl_pumafi\n"
          ]
        }
      ]
    },
    {
      "cell_type": "markdown",
      "metadata": {
        "id": "JVi2EfE3k2Xk"
      },
      "source": [
        "### Imports"
      ]
    },
    {
      "cell_type": "code",
      "execution_count": 2,
      "metadata": {
        "id": "i1JVLK7tNqDU"
      },
      "outputs": [],
      "source": [
        "from tensorflow import keras\n",
        "import pandas as pd\n",
        "import numpy as np\n",
        "\n",
        "import random\n",
        "import math\n",
        "from tqdm.notebook import trange, tqdm\n",
        "\n",
        "import matplotlib.pyplot as plt\n",
        "from matplotlib import colors\n",
        "\n",
        "\n",
        "from scipy.stats import kde\n",
        "from sklearn.metrics.pairwise import euclidean_distances\n",
        "\n",
        "import tensorflow as tf\n",
        "from keras.utils import to_categorical\n",
        "from tensorflow.keras import layers, losses\n",
        "from tensorflow.keras import regularizers\n",
        "from tensorflow.keras.models import Model"
      ]
    },
    {
      "cell_type": "code",
      "source": [
        "# Load code from the repo\n",
        "from utils.data_handling import get_color_map, pad_to_shape, preprocess_challenge_data"
      ],
      "metadata": {
        "id": "L7nsUn9uwmwH"
      },
      "execution_count": 3,
      "outputs": []
    },
    {
      "cell_type": "markdown",
      "metadata": {
        "jp-MarkdownHeadingCollapsed": true,
        "id": "EeVRPcGGk2Xm"
      },
      "source": [
        "### Utilities\n",
        "\n",
        "Get color map (took from some random code I had lying around, so the colors are not the ones from ARC-AGI"
      ]
    },
    {
      "cell_type": "markdown",
      "metadata": {
        "id": "HM5y6ILLWGxJ",
        "jp-MarkdownHeadingCollapsed": true
      },
      "source": [
        "### Dataset Loading"
      ]
    },
    {
      "cell_type": "code",
      "execution_count": 4,
      "metadata": {
        "colab": {
          "base_uri": "https://localhost:8080/"
        },
        "id": "0ubkpW-eWCTp",
        "outputId": "036e27aa-54b8-4c6c-e164-968b6c471853"
      },
      "outputs": [
        {
          "output_type": "stream",
          "name": "stdout",
          "text": [
            "Data loaded successfully.\n",
            "Training tasks: 400\n",
            "Evaluation tasks: 400\n"
          ]
        }
      ],
      "source": [
        "import json\n",
        "\n",
        "def load_json(file_path):\n",
        "    with open(file_path, 'r') as f:\n",
        "        return json.load(f)\n",
        "\n",
        "training_challenges = load_json('./data/arc-agi_training_challenges.json')\n",
        "training_solutions = load_json('./data/arc-agi_training_solutions.json')\n",
        "evaluation_challenges = load_json('./data/arc-agi_evaluation_challenges.json')\n",
        "\n",
        "print(\"Data loaded successfully.\")\n",
        "print(f\"Training tasks: {len(training_challenges)}\")\n",
        "print(f\"Evaluation tasks: {len(evaluation_challenges)}\")"
      ]
    },
    {
      "cell_type": "markdown",
      "metadata": {
        "id": "mmsDrKYHk2Xp"
      },
      "source": [
        "Preprocess the challenge data (I'm not touching the indentation, it was a nightmare of using jupyter AND colab for some tests)"
      ]
    },
    {
      "cell_type": "code",
      "execution_count": 5,
      "metadata": {
        "id": "Mkd47bFYeN78",
        "colab": {
          "base_uri": "https://localhost:8080/"
        },
        "outputId": "6f569f1e-c92b-413c-d27f-357d3c08121a"
      },
      "outputs": [
        {
          "output_type": "stream",
          "name": "stdout",
          "text": [
            "400 400 400 400 400\n"
          ]
        }
      ],
      "source": [
        "challenge_propositioner_inputs, train_solver_inputs, train_solver_outputs, test_solver_inputs, test_solver_outputs = preprocess_challenge_data(training_challenges, training_solutions)\n",
        "print(len(challenge_propositioner_inputs), len(train_solver_inputs), len(train_solver_outputs), len(test_solver_inputs), len(test_solver_outputs))"
      ]
    },
    {
      "cell_type": "code",
      "source": [
        "# visualize data types\n",
        "print(type(challenge_propositioner_inputs))\n",
        "print(type(challenge_propositioner_inputs[0]))\n",
        "print(type(challenge_propositioner_inputs[0][0]))\n",
        "print(type(challenge_propositioner_inputs[0][0][0]))"
      ],
      "metadata": {
        "id": "uppWjPjf1D2r",
        "outputId": "098872c0-60bb-4adb-9749-dbe84d7d2304",
        "colab": {
          "base_uri": "https://localhost:8080/"
        }
      },
      "execution_count": 6,
      "outputs": [
        {
          "output_type": "stream",
          "name": "stdout",
          "text": [
            "<class 'list'>\n",
            "<class 'list'>\n",
            "<class 'tuple'>\n",
            "<class 'tensorflow.python.framework.ops.EagerTensor'>\n"
          ]
        }
      ]
    },
    {
      "cell_type": "code",
      "source": [
        "# In order of access we have:\n",
        "#     challenge_propositioner_inputs [problem_nb (list)] [example_nb (list)] [0/1 - input/output (tuple)] -> [30, 30, 10] (ndarray)\n",
        "\n",
        "# Visualize the size of examples sets (NB: All have at least 2 examples, but 2 is to few for my idea)\n",
        "for i in range(5):\n",
        "  print(\"Problem nb \", i +1, \" | nb examples: \", len(challenge_propositioner_inputs[i]))\n",
        "\n",
        "print(\"\\nSize of one grid: \", challenge_propositioner_inputs[0][0][0].shape)"
      ],
      "metadata": {
        "id": "2Qhtd9ejzC31",
        "outputId": "ee6e8c79-10c2-4efa-fb3c-c7bf65929c75",
        "colab": {
          "base_uri": "https://localhost:8080/"
        }
      },
      "execution_count": 7,
      "outputs": [
        {
          "output_type": "stream",
          "name": "stdout",
          "text": [
            "Problem nb  1  | nb examples:  5\n",
            "Problem nb  2  | nb examples:  5\n",
            "Problem nb  3  | nb examples:  3\n",
            "Problem nb  4  | nb examples:  2\n",
            "Problem nb  5  | nb examples:  3\n",
            "\n",
            "Size of one grid:  (30, 30, 10)\n"
          ]
        }
      ]
    },
    {
      "cell_type": "code",
      "source": [
        "cmap, norm = get_color_map(number_of_categories=9)\n",
        "\n",
        "plt.subplot(1, 2, 1)\n",
        "plt.title('input')\n",
        "plt.imshow(np.argmax(challenge_propositioner_inputs[0][0][0], axis=-1), interpolation='nearest', cmap=cmap, norm=norm)\n",
        "plt.axis('off')\n",
        "plt.subplot(1, 2, 2)\n",
        "plt.title('output')\n",
        "plt.imshow(np.argmax(challenge_propositioner_inputs[0][0][1], axis=-1), interpolation='nearest', cmap=cmap, norm=norm)\n",
        "plt.axis('off')\n",
        "plt.show()"
      ],
      "metadata": {
        "id": "PdnQ_p2bzkJC",
        "outputId": "cbbfc675-1da3-4745-b07c-a487260c2168",
        "colab": {
          "base_uri": "https://localhost:8080/",
          "height": 284
        }
      },
      "execution_count": 36,
      "outputs": [
        {
          "output_type": "display_data",
          "data": {
            "text/plain": [
              "<Figure size 640x480 with 2 Axes>"
            ],
            "image/png": "[encoded data removed]"
          },
          "metadata": {}
        }
      ]
    },
    {
      "cell_type": "code",
      "source": [
        "# Idea: create sub-array of fixed sized with success/fail examples\n",
        "# 1) create a fail function that creates failes examples (random noise & rotation & color translation& random selection)\n",
        "# 2) Remove the challenges with only two examples (we want at least 2 success)\n",
        "# 3) Split challenges with more than 6 examples (6 into 3/3, 7 into 4/3, 8 into 4/4, 9 into 5/4, 10 into 4/3/3)\n",
        "# 4) Isolate for each task 2 successes\n",
        "# 5) The rest has to be completed with failure"
      ],
      "metadata": {
        "id": "nS9AFIsU1xUl"
      },
      "execution_count": 8,
      "outputs": []
    },
    {
      "cell_type": "code",
      "source": [
        "import numpy as np\n",
        "import tensorflow as tf\n",
        "\n",
        "g = tf.random.get_global_generator()\n",
        "\n",
        "\n",
        "def cosine_schedule_function(t, max_t=1., epsilon=1e-3):\n",
        "    t = tf.cast(t, tf.float32)\n",
        "    f_t = tf.math.cos(((t / max_t) + epsilon) / (1 + epsilon) * (np.pi / 2)) ** 2\n",
        "    f_0 = tf.math.cos(((t * 0 / max_t) + epsilon) / (1 + epsilon) * (np.pi / 2)) ** 2\n",
        "    return f_t / f_0\n",
        "\n",
        "\n",
        "def make_qmatrix_integral(nb_categories, t, tm1=None):\n",
        "    Q_integral = tf.zeros((nb_categories, nb_categories), dtype=tf.float32)\n",
        "\n",
        "    if tm1 is None:\n",
        "        tm1 = tf.zeros_like(t, dtype=tf.float32)\n",
        "\n",
        "    for i in range(nb_categories):\n",
        "        for j in range(nb_categories):\n",
        "            if i != j:\n",
        "                Q_integral = tf.tensor_scatter_nd_update(Q_integral, indices=tf.constant([[i, j]]),\n",
        "                                                         updates=[-1 / (nb_categories - 1) * tf.squeeze(\n",
        "                                                             tf.math.log(cosine_schedule_function(t, max_t=1.)))\n",
        "                                                                  + 1 / (nb_categories - 1) * tf.squeeze(\n",
        "                                                             tf.math.log(cosine_schedule_function(tm1, max_t=1.)))])\n",
        "\n",
        "    for i in range(nb_categories):\n",
        "        Q_integral = tf.tensor_scatter_nd_update(Q_integral, indices=tf.constant([[i, i]]),\n",
        "                                                 updates=[-tf.reduce_sum(Q_integral[i])])\n",
        "\n",
        "    return Q_integral\n",
        "\n",
        "\n",
        "def probability_function(nb_categories, t, step_size):\n",
        "    \"\"\"\n",
        "    Compute the categorical forward probability from t to t + step_size\n",
        "\n",
        "    \"\"\"\n",
        "    t = tf.cast(t, dtype=tf.float32)\n",
        "    if step_size == 0.:\n",
        "        tm1 = None\n",
        "    else:\n",
        "        tm1 = tf.cast(t - step_size, dtype=tf.float32)\n",
        "    Q = make_qmatrix_integral(nb_categories, t, tm1)\n",
        "\n",
        "    return Q\n",
        "\n",
        "\n",
        "@tf.function\n",
        "def forward_process(x0, step, nb_categories):\n",
        "    if len(x0.shape) != 3:\n",
        "        raise Exception(\"Entry must have 3 dims but {0} were found\".format(len(x0.shape)))\n",
        "\n",
        "    t = tf.squeeze(step)\n",
        "    Q = tf.linalg.expm(make_qmatrix_integral(nb_categories, t))\n",
        "\n",
        "    pxt = tf.tensordot(x0, Q, axes=[-1, 0])\n",
        "    height, width, _ = pxt.shape\n",
        "    flat_pxt = tf.reshape(pxt, (-1, nb_categories))\n",
        "    cum_sum = tf.math.cumsum(flat_pxt, axis=-1)\n",
        "\n",
        "    unif = tf.cast(g.uniform(shape=(len(cum_sum), 1)), dtype=tf.float32)\n",
        "    random_values = tf.math.argmax((unif < cum_sum), axis=1)\n",
        "    xt = tf.reshape(random_values, (height, width))\n",
        "    xt = tf.cast(tf.one_hot(xt, nb_categories), dtype=tf.float32)\n",
        "\n",
        "    return xt"
      ],
      "metadata": {
        "id": "ZrE1z79iwrZh"
      },
      "execution_count": 57,
      "outputs": []
    },
    {
      "cell_type": "code",
      "source": [
        "import random\n",
        "\n",
        "def noise_grid(grid):\n",
        "  grid = forward_process(grid, 0.25, 10).numpy()\n",
        "  return grid\n",
        "\n",
        "def color_change_grid(grid):\n",
        "    k = random.randint(1, 5)\n",
        "    grid = np.roll(grid, k, -1)\n",
        "    return grid\n",
        "\n",
        "def flip_grid(grid):\n",
        "    grid = np.flip(grid, axis=(0,1))\n",
        "    return grid\n",
        "\n",
        "\n",
        "def rotation(grid):\n",
        "    k = random.randint(1, 3)\n",
        "    grid = np.rot90(grid, k=k)\n",
        "    return grid"
      ],
      "metadata": {
        "id": "XiE_A5a9eqIy"
      },
      "execution_count": 61,
      "outputs": []
    },
    {
      "cell_type": "code",
      "source": [
        "show_failure_cases = False\n",
        "\n",
        "if show_failure_cases:\n",
        "    flipped_grid = flip_grid(challenge_propositioner_inputs[0][0][0])\n",
        "\n",
        "    rotated_grid = rotation(challenge_propositioner_inputs[0][0][0])\n",
        "\n",
        "    color_changed = color_change_grid(challenge_propositioner_inputs[0][0][0])\n",
        "\n",
        "    noised_grid = noise_grid(challenge_propositioner_inputs[0][0][0])\n",
        "\n",
        "    plt.title('og')\n",
        "    plt.imshow(np.argmax(challenge_propositioner_inputs[0][0][0], axis=-1), interpolation='nearest', cmap=cmap, norm=norm)\n",
        "    plt.axis('off')\n",
        "    plt.show()\n",
        "\n",
        "    plt.title('flipped')\n",
        "    plt.imshow(np.argmax(flipped_grid, axis=-1), interpolation='nearest', cmap=cmap, norm=norm)\n",
        "    plt.axis('off')\n",
        "    plt.show()\n",
        "\n",
        "    plt.title('rotated')\n",
        "    plt.imshow(np.argmax(rotated_grid, axis=-1), interpolation='nearest', cmap=cmap, norm=norm)\n",
        "    plt.axis('off')\n",
        "    plt.show()\n",
        "\n",
        "    plt.title('color changed')\n",
        "    plt.imshow(np.argmax(color_changed, axis=-1), interpolation='nearest', cmap=cmap, norm=norm)\n",
        "    plt.axis('off')\n",
        "    plt.show()\n",
        "\n",
        "    plt.title('noised grid')\n",
        "    plt.imshow(np.argmax(noised_grid, axis=-1), interpolation='nearest', cmap=cmap, norm=norm)\n",
        "    plt.axis('off')\n",
        "    plt.show()"
      ],
      "metadata": {
        "id": "9VC5K1Rmzuwl"
      },
      "execution_count": 69,
      "outputs": []
    },
    {
      "cell_type": "code",
      "source": [
        "def create_fail(challenge_grids):\n",
        "  # check if diff than inpu"
      ],
      "metadata": {
        "id": "oa5nl0nB2weC"
      },
      "execution_count": null,
      "outputs": []
    }
  ],
  "metadata": {
    "colab": {
      "provenance": [],
      "include_colab_link": true
    },
    "kernelspec": {
      "display_name": "Python 3",
      "name": "python3"
    },
    "language_info": {
      "codemirror_mode": {
        "name": "ipython",
        "version": 3
      },
      "file_extension": ".py",
      "mimetype": "text/x-python",
      "name": "python",
      "nbconvert_exporter": "python",
      "pygments_lexer": "ipython3",
      "version": "3.10.12"
    }
  },
  "nbformat": 4,
  "nbformat_minor": 0
}