{
  "cells": [
    {
      "cell_type": "markdown",
      "metadata": {
        "id": "view-in-github",
        "colab_type": "text"
      },
      "source": [
        "<a href=\"https://colab.research.google.com/github/Pumafi/problem_solving_rl_pumafi/blob/main/initial_test.ipynb\" target=\"_parent\"><img src=\"https://colab.research.google.com/assets/colab-badge.svg\" alt=\"Open In Colab\"/></a>"
      ]
    },
    {
      "cell_type": "markdown",
      "metadata": {
        "id": "CW0dfyb4k2Xg"
      },
      "source": [
        "## ARC-AGI\n",
        "\n",
        "Ferdinand Bhavsar\n",
        "\n",
        "PhD student, Mines Paris"
      ]
    },
    {
      "cell_type": "code",
      "source": [],
      "metadata": {
        "id": "WbP3ibfPxEUt"
      },
      "execution_count": null,
      "outputs": []
    },
    {
      "cell_type": "code",
      "source": [
        "RUNNING_IN_COLAB = True\n",
        "\n",
        "%cd /content\n",
        "\n",
        "if RUNNING_IN_COLAB:\n",
        "    REPO_URL = 'https://github.com/Pumafi/problem_solving_rl_pumafi'\n",
        "    BRANCH   = 'main'\n",
        "    REPO_DIR = 'problem_solving_rl_pumafi'\n",
        "\n",
        "    from pathlib import Path\n",
        "\n",
        "    if Path(REPO_DIR).is_dir():\n",
        "      !rm -rf {REPO_DIR}\n",
        "\n",
        "    # Download the repository\n",
        "    if not Path(REPO_DIR).is_dir():\n",
        "        !git clone --branch {BRANCH} --depth=1 -- {REPO_URL} {REPO_DIR}\n",
        "\n",
        "    %cd {REPO_DIR}"
      ],
      "metadata": {
        "id": "bAMPTlvTrU5Z",
        "colab": {
          "base_uri": "https://localhost:8080/"
        },
        "outputId": "91b7599b-a6a5-4229-8907-a47ee2e14315"
      },
      "execution_count": 1,
      "outputs": [
        {
          "output_type": "stream",
          "name": "stdout",
          "text": [
            "/content\n",
            "Cloning into 'problem_solving_rl_pumafi'...\n",
            "remote: Enumerating objects: 15, done.\u001b[K\n",
            "remote: Counting objects: 100% (15/15), done.\u001b[K\n",
            "remote: Compressing objects: 100% (14/14), done.\u001b[K\n",
            "remote: Total 15 (delta 2), reused 0 (delta 0), pack-reused 0 (from 0)\u001b[K\n",
            "Receiving objects: 100% (15/15), 397.67 KiB | 2.92 MiB/s, done.\n",
            "Resolving deltas: 100% (2/2), done.\n",
            "/content/problem_solving_rl_pumafi\n"
          ]
        }
      ]
    },
    {
      "cell_type": "markdown",
      "metadata": {
        "id": "JVi2EfE3k2Xk"
      },
      "source": [
        "### Imports"
      ]
    },
    {
      "cell_type": "code",
      "execution_count": 2,
      "metadata": {
        "id": "i1JVLK7tNqDU"
      },
      "outputs": [],
      "source": [
        "from tensorflow import keras\n",
        "import pandas as pd\n",
        "import numpy as np\n",
        "\n",
        "import random\n",
        "import math\n",
        "from tqdm.notebook import trange, tqdm\n",
        "\n",
        "import matplotlib.pyplot as plt\n",
        "from matplotlib import colors\n",
        "\n",
        "\n",
        "from scipy.stats import kde\n",
        "from sklearn.metrics.pairwise import euclidean_distances\n",
        "\n",
        "import tensorflow as tf\n",
        "from keras.utils import to_categorical\n",
        "from tensorflow.keras import layers, losses\n",
        "from tensorflow.keras import regularizers\n",
        "from tensorflow.keras.models import Model"
      ]
    },
    {
      "cell_type": "code",
      "source": [
        "# Load code from the repo\n",
        "from utils.data_handling import get_color_map, pad_to_shape, preprocess_challenge_data\n",
        "from utils.noising_grids import create_fail"
      ],
      "metadata": {
        "id": "L7nsUn9uwmwH"
      },
      "execution_count": 3,
      "outputs": []
    },
    {
      "cell_type": "markdown",
      "metadata": {
        "jp-MarkdownHeadingCollapsed": true,
        "id": "EeVRPcGGk2Xm"
      },
      "source": [
        "### Utilities\n",
        "\n",
        "Get color map (took from some random code I had lying around, so the colors are not the ones from ARC-AGI"
      ]
    },
    {
      "cell_type": "markdown",
      "metadata": {
        "id": "HM5y6ILLWGxJ",
        "jp-MarkdownHeadingCollapsed": true
      },
      "source": [
        "### Dataset Loading"
      ]
    },
    {
      "cell_type": "code",
      "execution_count": 4,
      "metadata": {
        "colab": {
          "base_uri": "https://localhost:8080/"
        },
        "id": "0ubkpW-eWCTp",
        "outputId": "28007574-8cc2-4d33-b3b3-a1c77b3ad47a"
      },
      "outputs": [
        {
          "output_type": "stream",
          "name": "stdout",
          "text": [
            "Data loaded successfully.\n",
            "Training tasks: 400\n",
            "Evaluation tasks: 400\n"
          ]
        }
      ],
      "source": [
        "import json\n",
        "\n",
        "def load_json(file_path):\n",
        "    with open(file_path, 'r') as f:\n",
        "        return json.load(f)\n",
        "\n",
        "training_challenges = load_json('./data/arc-agi_training_challenges.json')\n",
        "training_solutions = load_json('./data/arc-agi_training_solutions.json')\n",
        "evaluation_challenges = load_json('./data/arc-agi_evaluation_challenges.json')\n",
        "\n",
        "print(\"Data loaded successfully.\")\n",
        "print(f\"Training tasks: {len(training_challenges)}\")\n",
        "print(f\"Evaluation tasks: {len(evaluation_challenges)}\")"
      ]
    },
    {
      "cell_type": "markdown",
      "metadata": {
        "id": "mmsDrKYHk2Xp"
      },
      "source": [
        "Preprocess the challenge data (I'm not touching the indentation, it was a nightmare of using jupyter AND colab for some tests)"
      ]
    },
    {
      "cell_type": "code",
      "execution_count": 5,
      "metadata": {
        "id": "Mkd47bFYeN78",
        "colab": {
          "base_uri": "https://localhost:8080/"
        },
        "outputId": "feda44b3-501f-400f-b934-8fb722b1a241"
      },
      "outputs": [
        {
          "output_type": "stream",
          "name": "stdout",
          "text": [
            "400 400 400 400 400\n"
          ]
        }
      ],
      "source": [
        "challenge_propositioner_inputs, train_solver_inputs, train_solver_outputs, test_solver_inputs, test_solver_outputs = preprocess_challenge_data(training_challenges, training_solutions)\n",
        "print(len(challenge_propositioner_inputs), len(train_solver_inputs), len(train_solver_outputs), len(test_solver_inputs), len(test_solver_outputs))"
      ]
    },
    {
      "cell_type": "code",
      "source": [
        "# visualize data types\n",
        "print(type(challenge_propositioner_inputs))\n",
        "print(type(challenge_propositioner_inputs[0]))\n",
        "print(type(challenge_propositioner_inputs[0][0]))\n",
        "print(type(challenge_propositioner_inputs[0][0][0]))"
      ],
      "metadata": {
        "id": "uppWjPjf1D2r",
        "outputId": "9aa39a27-9d79-457c-8203-2db57558101b",
        "colab": {
          "base_uri": "https://localhost:8080/"
        }
      },
      "execution_count": 6,
      "outputs": [
        {
          "output_type": "stream",
          "name": "stdout",
          "text": [
            "<class 'list'>\n",
            "<class 'list'>\n",
            "<class 'tuple'>\n",
            "<class 'tensorflow.python.framework.ops.EagerTensor'>\n"
          ]
        }
      ]
    },
    {
      "cell_type": "code",
      "source": [
        "# In order of access we have:\n",
        "#     challenge_propositioner_inputs [problem_nb (list)] [example_nb (list)] [0/1 - input/output (tuple)] -> [30, 30, 10] (ndarray)\n",
        "\n",
        "# Visualize the size of examples sets (NB: All have at least 2 examples, but 2 is to few for my idea)\n",
        "for i in range(5):\n",
        "  print(\"Problem nb \", i +1, \" | nb examples: \", len(challenge_propositioner_inputs[i]))\n",
        "\n",
        "print(\"\\nSize of one grid: \", challenge_propositioner_inputs[0][0][0].shape)"
      ],
      "metadata": {
        "id": "2Qhtd9ejzC31",
        "outputId": "1760c4cc-46bf-4530-fbf7-49e8f8d1fe51",
        "colab": {
          "base_uri": "https://localhost:8080/"
        }
      },
      "execution_count": 7,
      "outputs": [
        {
          "output_type": "stream",
          "name": "stdout",
          "text": [
            "Problem nb  1  | nb examples:  5\n",
            "Problem nb  2  | nb examples:  5\n",
            "Problem nb  3  | nb examples:  3\n",
            "Problem nb  4  | nb examples:  2\n",
            "Problem nb  5  | nb examples:  3\n",
            "\n",
            "Size of one grid:  (30, 30, 10)\n"
          ]
        }
      ]
    },
    {
      "cell_type": "code",
      "source": [
        "cmap, norm = get_color_map(number_of_categories=9)\n",
        "\n",
        "plt.subplot(1, 2, 1)\n",
        "plt.title('input')\n",
        "plt.imshow(np.argmax(challenge_propositioner_inputs[0][0][0], axis=-1), interpolation='nearest', cmap=cmap, norm=norm)\n",
        "plt.axis('off')\n",
        "plt.subplot(1, 2, 2)\n",
        "plt.title('output')\n",
        "plt.imshow(np.argmax(challenge_propositioner_inputs[0][0][1], axis=-1), interpolation='nearest', cmap=cmap, norm=norm)\n",
        "plt.axis('off')\n",
        "plt.show()"
      ],
      "metadata": {
        "colab": {
          "base_uri": "https://localhost:8080/",
          "height": 284
        },
        "id": "PdnQ_p2bzkJC",
        "outputId": "45364697-94d2-4577-a863-d0d1c3db886c"
      },
      "execution_count": 8,
      "outputs": [
        {
          "output_type": "display_data",
          "data": {
            "text/plain": [
              "<Figure size 640x480 with 2 Axes>"
            ],
            "image/png": "[encoded data removed]"
          },
          "metadata": {}
        }
      ]
    },
    {
      "cell_type": "code",
      "source": [
        "# Idea: create sub-array of fixed sized with success/fail examples\n",
        "# [X] 1) create a fail function that creates failes examples (random noise & rotation & color translation& random selection)\n",
        "# [X] 2) Remove the challenges with only two examples (we want at least 2 success)\n",
        "# [X] 3) Split challenges with more than 6 examples (6 into 3/3, 7 into 4/3, 8 into 4/4, 9 into 5/4, 10 into 4/3/3)\n",
        "# [X] 4) Isolate for each task 2 successes\n",
        "# [ ] 5) The rest has to be completed with failure"
      ],
      "metadata": {
        "id": "nS9AFIsU1xUl"
      },
      "execution_count": 9,
      "outputs": []
    },
    {
      "cell_type": "code",
      "source": [
        "#def create_fail(challenge_grids):\n",
        "#    ...\n",
        "#    return challenge_grids, labels"
      ],
      "metadata": {
        "id": "oa5nl0nB2weC"
      },
      "execution_count": 10,
      "outputs": []
    },
    {
      "cell_type": "code",
      "source": [
        "tmp_test_structure = challenge_propositioner_inputs[3].copy()\n",
        "tmp_output_test, labels = create_fail(tmp_test_structure)\n",
        "\n",
        "print(len(challenge_propositioner_inputs[3]), len(tmp_output_test))"
      ],
      "metadata": {
        "id": "4cObvn5nf4Pd",
        "outputId": "fe69d5f4-a875-4477-a894-21af3ed864c7",
        "colab": {
          "base_uri": "https://localhost:8080/"
        }
      },
      "execution_count": 11,
      "outputs": [
        {
          "output_type": "stream",
          "name": "stdout",
          "text": [
            "2 4\n"
          ]
        }
      ]
    },
    {
      "cell_type": "code",
      "source": [
        "def split_list(lst):\n",
        "    if len(lst) <= 2:\n",
        "        return []  # Remove lists with 1 or 2 elements\n",
        "    if len(lst) <= 6:\n",
        "        return [lst]\n",
        "    split_sizes = {6: [3, 3], 7: [4, 3], 8: [4, 4], 9: [5, 4], 10: [5, 5]}\n",
        "\n",
        "    if len(lst) in split_sizes:\n",
        "        sizes = split_sizes[len(lst)]\n",
        "        parts = []\n",
        "        index = 0\n",
        "        for size in sizes:\n",
        "            parts.append(lst[index:index + size])\n",
        "            index += size\n",
        "        return parts\n",
        "    else:\n",
        "        # General case for lists >10: split into chunks of 4 or 5 alternately\n",
        "        parts = []\n",
        "        index = 0\n",
        "        toggle = True  # Alternate between 4 and 5\n",
        "        while len(lst) - index > 5:\n",
        "            parts.append(lst[index:index + (4 if toggle else 5)])\n",
        "            index += 4 if toggle else 5\n",
        "            toggle = not toggle\n",
        "        parts.append(lst[index:])  # Add the remaining part\n",
        "        return parts\n",
        "\n",
        "\n",
        "def process_inputs(inputs):\n",
        "    filtered_and_split = []\n",
        "    for sublist in inputs:\n",
        "        if len(sublist) > 1:  # Remove lists with 1 or 2 elements\n",
        "            filtered_and_split.extend(split_list(sublist))\n",
        "    return filtered_and_split\n",
        "\n",
        "# Example usage:\n",
        "# Assuming challenge_propositioner_inputs is defined\n",
        "processed_inputs = process_inputs(challenge_propositioner_inputs)"
      ],
      "metadata": {
        "id": "7V4KGoLdjQ9z"
      },
      "execution_count": 15,
      "outputs": []
    },
    {
      "cell_type": "code",
      "source": [
        "def split_into_two_lists(processed_inputs):\n",
        "    list_of_pairs = []\n",
        "    remaining_list = []\n",
        "\n",
        "    for sublist in processed_inputs:\n",
        "        if len(sublist) >= 2:\n",
        "            pair = sublist[:2]  # Extract only the first pair\n",
        "            remainder = sublist[2:]  # Remaining elements after extracting one pair\n",
        "            list_of_pairs.append(pair)\n",
        "            if remainder:\n",
        "                remaining_list.append(remainder)\n",
        "\n",
        "    return list_of_pairs, remaining_list\n",
        "\n",
        "# Example usage:\n",
        "processed_inputs = process_inputs(challenge_propositioner_inputs)\n",
        "list_of_pairs, remaining_list = split_into_two_lists(processed_inputs)"
      ],
      "metadata": {
        "id": "4o7-WRbinRW6"
      },
      "execution_count": 16,
      "outputs": []
    },
    {
      "cell_type": "code",
      "source": [
        "# Do not run this code twice, it is not functional (ie it works on side effects)\n",
        "training_examples_d = remaining_list.copy()\n",
        "training_examples_labels = []\n",
        "for i, training_ex in enumerate(training_examples_d):\n",
        "    _, labels = create_fail(training_ex)\n",
        "    training_examples_labels.append(labels)"
      ],
      "metadata": {
        "id": "fo4zaIfuu2Je",
        "outputId": "7a37d458-e296-409f-ee25-c04d7679aad4",
        "colab": {
          "base_uri": "https://localhost:8080/"
        }
      },
      "execution_count": 17,
      "outputs": [
        {
          "output_type": "stream",
          "name": "stderr",
          "text": [
            "WARNING:tensorflow:5 out of the last 7 calls to <function forward_process at 0x7d36709537e0> triggered tf.function retracing. Tracing is expensive and the excessive number of tracings could be due to (1) creating @tf.function repeatedly in a loop, (2) passing tensors with different shapes, (3) passing Python objects instead of tensors. For (1), please define your @tf.function outside of the loop. For (2), @tf.function has reduce_retracing=True option that can avoid unnecessary retracing. For (3), please refer to https://www.tensorflow.org/guide/function#controlling_retracing and https://www.tensorflow.org/api_docs/python/tf/function for  more details.\n",
            "WARNING:tensorflow:6 out of the last 11 calls to <function forward_process at 0x7d36709537e0> triggered tf.function retracing. Tracing is expensive and the excessive number of tracings could be due to (1) creating @tf.function repeatedly in a loop, (2) passing tensors with different shapes, (3) passing Python objects instead of tensors. For (1), please define your @tf.function outside of the loop. For (2), @tf.function has reduce_retracing=True option that can avoid unnecessary retracing. For (3), please refer to https://www.tensorflow.org/guide/function#controlling_retracing and https://www.tensorflow.org/api_docs/python/tf/function for  more details.\n"
          ]
        }
      ]
    },
    {
      "cell_type": "code",
      "source": [
        "for i in range(5):\n",
        "  print(len(training_examples_d[i]), training_examples_labels[i])"
      ],
      "metadata": {
        "id": "3Xz06WNIvaQ_",
        "outputId": "8b05afad-c53d-4371-e196-a79db27fab81",
        "colab": {
          "base_uri": "https://localhost:8080/"
        }
      },
      "execution_count": 23,
      "outputs": [
        {
          "output_type": "stream",
          "name": "stdout",
          "text": [
            "4 [1, 1, 1, 0]\n",
            "4 [1, 1, 1, 0]\n",
            "4 [1, 0, 0, 0]\n",
            "4 [1, 0, 0, 0]\n",
            "4 [1, 0, 0, 0]\n"
          ]
        }
      ]
    },
    {
      "cell_type": "code",
      "source": [
        "len(training_examples_labels), len(training_examples_d), len(list_of_pairs)"
      ],
      "metadata": {
        "id": "Er1YcpQ0wCdB",
        "outputId": "b4e93a60-1510-4664-b63e-3ce85527fa15",
        "colab": {
          "base_uri": "https://localhost:8080/"
        }
      },
      "execution_count": 24,
      "outputs": [
        {
          "output_type": "execute_result",
          "data": {
            "text/plain": [
              "(350, 350, 350)"
            ]
          },
          "metadata": {},
          "execution_count": 24
        }
      ]
    },
    {
      "cell_type": "code",
      "source": [
        "training_z = np.array(list_of_pairs)\n",
        "training_x = np.array(training_examples_d)\n",
        "training_y = np.array(training_examples_labels)"
      ],
      "metadata": {
        "id": "RHAUl7H1wYQI"
      },
      "execution_count": 26,
      "outputs": []
    },
    {
      "cell_type": "code",
      "source": [],
      "metadata": {
        "id": "-LGW7OivwuaX"
      },
      "execution_count": null,
      "outputs": []
    }
  ],
  "metadata": {
    "colab": {
      "provenance": [],
      "include_colab_link": true
    },
    "kernelspec": {
      "display_name": "Python 3",
      "name": "python3"
    },
    "language_info": {
      "codemirror_mode": {
        "name": "ipython",
        "version": 3
      },
      "file_extension": ".py",
      "mimetype": "text/x-python",
      "name": "python",
      "nbconvert_exporter": "python",
      "pygments_lexer": "ipython3",
      "version": "3.10.12"
    }
  },
  "nbformat": 4,
  "nbformat_minor": 0
}